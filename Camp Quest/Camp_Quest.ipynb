{
 "cells": [
  {
   "cell_type": "code",
   "execution_count": 4,
   "id": "684dddf5-aa3f-4776-9a2b-a4a12368c1cd",
   "metadata": {},
   "outputs": [],
   "source": [
    "from bs4 import BeautifulSoup\n",
    "import requests\n",
    "import json"
   ]
  },
  {
   "cell_type": "code",
   "execution_count": 5,
   "id": "c571f56b-c51a-4c62-8b14-4512a9541900",
   "metadata": {},
   "outputs": [],
   "source": [
    "Website_name='Camp Quest'\n",
    "Website_url='https://campquest.org/'\n",
    "HEADERS =({'User-Agent':'Mozilla/5.0 (Windows NT 10.0; Win64; x64) AppleWebKit/537.36 (KHTML, like Gecko) Chrome/131.0.0.0 Safari/537.36',\n",
    "                   'Accept-Language':'en-US, en;q=0.5'})\n",
    "\n",
    "home = requests.get(Website_url,headers=HEADERS)\n",
    "home_soup = BeautifulSoup(home.content, 'lxml')"
   ]
  },
  {
   "cell_type": "code",
   "execution_count": 6,
   "id": "0537b37b-a548-4fb3-8350-9810e11a104b",
   "metadata": {},
   "outputs": [
    {
     "data": {
      "text/plain": [
       "['https://campquest.org/wp-content/uploads/2024/12/10k-donation-match-12-20-24-1024x538.png',\n",
       " 'https://campquest.org/wp-content/uploads/2021/04/40253695_2249546175074369_6659048747487461376_o.jpg',\n",
       " 'https://campquest.org/wp-content/uploads/2021/06/Copy-of-IMG_0044-1024x768.jpg']"
      ]
     },
     "execution_count": 6,
     "metadata": {},
     "output_type": "execute_result"
    }
   ],
   "source": [
    "image_url = []\n",
    "img_table = home_soup.find_all('div', class_='elementor-widget-container')\n",
    "\n",
    "for img in img_table:\n",
    "    img_tag = img.find('img')\n",
    "    if img_tag:\n",
    "        url = img_tag.get('src')\n",
    "        if url:\n",
    "            image_url.append(url)\n",
    "\n",
    "image_url.pop()\n",
    "\n",
    "image_url\n"
   ]
  },
  {
   "cell_type": "code",
   "execution_count": 7,
   "id": "39a2f4b9-9f0b-4ec7-bb84-03e6fc9d14f2",
   "metadata": {},
   "outputs": [],
   "source": [
    "desc1_table=home_soup.find_all('div',attrs={'class':'elementor-widget-container'})\n",
    "description=desc1_table[4].text.strip()"
   ]
  },
  {
   "cell_type": "code",
   "execution_count": 8,
   "id": "8a9a018c-3942-48e4-845e-b4f2af48870e",
   "metadata": {},
   "outputs": [
    {
     "name": "stdout",
     "output_type": "stream",
     "text": [
      "{'address': 'PO Box 449 Pickens, SC', 'zip_code': '29671', 'latitude': '34.93492', 'longitude': '-82.71331'}\n",
      "{'mail': 'camp@campquest.org', 'telephone': '(540) 209-7978'}\n"
     ]
    }
   ],
   "source": [
    "# Provided data\n",
    "Location = 'PO Box 449 Pickens, SC'\n",
    "Telephone = '(540) 209-7978'\n",
    "Mail = 'camp@campquest.org'\n",
    "\n",
    "zip_code='29671'\n",
    "\n",
    "latitude = '34.93492'  # Placeholder value, replace with actual latitude\n",
    "longitude = '-82.71331'  # Placeholder value, replace with actual longitude\n",
    "\n",
    "# Create the location_data and contact_data dictionaries\n",
    "location_data = {\n",
    "    \"address\": Location,\n",
    "    \"zip_code\": zip_code,\n",
    "    \"latitude\": latitude,\n",
    "    \"longitude\": longitude\n",
    "}\n",
    "\n",
    "contact_data = {\n",
    "    \"mail\": Mail,\n",
    "    \"telephone\": Telephone\n",
    "}\n",
    "\n",
    "# Output the results\n",
    "print(location_data)\n",
    "print(contact_data)\n"
   ]
  },
  {
   "cell_type": "code",
   "execution_count": 9,
   "id": "2001077e-aa5b-4d44-950d-6beda928be27",
   "metadata": {},
   "outputs": [
    {
     "name": "stdout",
     "output_type": "stream",
     "text": [
      "https://campquest.org/wp-content/uploads/2024/12/Camp-Quest-logo-2024-square-white-1-120x120.png\n"
     ]
    }
   ],
   "source": [
    "logo_tag = home_soup.find('a', class_='custom-logo-link').find('img')\n",
    "logo_url = logo_tag['src']\n",
    "print(logo_url)"
   ]
  },
  {
   "cell_type": "code",
   "execution_count": 10,
   "id": "a582a256-a1d1-4df9-965f-916f34963a46",
   "metadata": {},
   "outputs": [
    {
     "data": {
      "text/plain": [
       "[{'facebook': 'https://www.facebook.com/CampQuest/'},\n",
       " {'instagram': 'https://www.instagram.com/campquest/'},\n",
       " {'twitter': 'https://twitter.com/CampQuest'}]"
      ]
     },
     "execution_count": 10,
     "metadata": {},
     "output_type": "execute_result"
    }
   ],
   "source": [
    "Socials=[]\n",
    "Facebook = home_soup.find('a', attrs={'class': 'ast-builder-social-element ast-inline-flex ast-facebook footer-social-item'}).get('href')\n",
    "Socials.append({'facebook': Facebook})\n",
    "\n",
    "# Add Instagram link\n",
    "Instagram = home_soup.find('a', attrs={'class': 'ast-builder-social-element ast-inline-flex ast-instagram footer-social-item'}).get('href')\n",
    "Socials.append({'instagram': Instagram})\n",
    "\n",
    "# Add Tiktok link\n",
    "twitter = home_soup.find('a', attrs={'class': 'ast-builder-social-element ast-inline-flex ast-twitter footer-social-item'}).get('href')\n",
    "Socials.append({'twitter': twitter})\n",
    "Socials"
   ]
  },
  {
   "cell_type": "code",
   "execution_count": 11,
   "id": "05e2dc3c-492f-4348-b01f-f67c21139037",
   "metadata": {},
   "outputs": [
    {
     "data": {
      "text/plain": [
       "[{'name': 'Minnesota Camp Week 1',\n",
       "  'start_date': 'July 14th',\n",
       "  'end_date': '20th',\n",
       "  'location': 'Mound, MN',\n",
       "  'cost': '$735',\n",
       "  'eligible': '8-17',\n",
       "  'duration': 'null',\n",
       "  'deposits': 'null'},\n",
       " {'name': 'Minnesota Camp Week 2',\n",
       "  'start_date': 'July 21st',\n",
       "  'end_date': '27th',\n",
       "  'location': 'Mound, MN',\n",
       "  'cost': '$735',\n",
       "  'eligible': '8-17',\n",
       "  'duration': 'null',\n",
       "  'deposits': 'null'},\n",
       " {'name': 'Iowa Camp',\n",
       "  'start_date': 'August 4th',\n",
       "  'end_date': '10th',\n",
       "  'location': 'Boone, IA',\n",
       "  'cost': '$735',\n",
       "  'eligible': '8-17',\n",
       "  'duration': 'null',\n",
       "  'deposits': 'null'}]"
      ]
     },
     "execution_count": 11,
     "metadata": {},
     "output_type": "execute_result"
    }
   ],
   "source": [
    "rd_url = 'https://campquestnorth.org/registerandaboutcamp/'\n",
    "\n",
    "rd = requests.get(rd_url, headers=HEADERS)\n",
    "rd_soup = BeautifulSoup(rd.content, 'lxml')\n",
    "\n",
    "# Debugging: Save the HTML to analyze structure\n",
    "with open(\"debug.html\", \"w\", encoding=\"utf-8\") as f:\n",
    "    f.write(rd_soup.prettify())\n",
    "\n",
    "# Locate the \"2024 Dates\" section\n",
    "dates_section = None\n",
    "for h3 in rd_soup.find_all('h3'):\n",
    "    if \"2024 Dates\" in h3.get_text():\n",
    "        dates_section = h3.find_next('p')\n",
    "        break\n",
    "\n",
    "if not dates_section:\n",
    "    print(\"Could not find the '2024 Dates' section.\")\n",
    "    exit()\n",
    "\n",
    "# Extract details\n",
    "camp_details = [\n",
    "    str(detail).strip() for detail in dates_section.contents if isinstance(detail, str) and detail.strip()\n",
    "]\n",
    "\n",
    "# Define a helper function to parse each camp's details\n",
    "def parse_camp_detail(detail):\n",
    "    try:\n",
    "        parts = detail.split(\":\")\n",
    "        name = parts[0].strip()\n",
    "        rest = parts[1].strip().split(\"(\")\n",
    "        date_range, location = rest[0].strip(), rest[1].replace(\")\", \"\").strip()\n",
    "        start_date, end_date = date_range.split(\"-\")\n",
    "        return {\n",
    "            \"name\": name,\n",
    "            \"start_date\": start_date.strip(),\n",
    "            \"end_date\": end_date.strip(),\n",
    "            \"location\": location,\n",
    "            \"cost\": \"$735\",\n",
    "            \"eligible\": \"8-17\",\n",
    "            'duration':'null',\n",
    "            'deposits':'null'\n",
    "        }\n",
    "    except Exception as e:\n",
    "        print(f\"Error parsing detail: {detail}\")\n",
    "        raise e\n",
    "\n",
    "# Process each camp detail\n",
    "camps = [parse_camp_detail(detail) for detail in camp_details]\n",
    "\n",
    "camps"
   ]
  },
  {
   "cell_type": "code",
   "execution_count": 12,
   "id": "e8ded4fc-c334-4840-80c6-f02a23e86972",
   "metadata": {},
   "outputs": [],
   "source": [
    "cat_url = 'https://campquest.org/camps/programs/'\n",
    "cat = requests.get(cat_url, headers=HEADERS)\n",
    "cat_soup = BeautifulSoup(cat.content, 'lxml')\n",
    "\n",
    "categories = []\n",
    "cat_all = cat_soup.find_all('div', class_='elementor-widget-wrap elementor-element-populated')\n",
    "\n",
    "for i in cat_all[2:6]:\n",
    "    cat_name = i.find('strong')\n",
    "    cat_desc = i.find('p')\n",
    "    cat_image = i.find('img')\n",
    "    \n",
    "    if cat_name and cat_desc:\n",
    "        name = cat_name.text.strip()\n",
    "        description = cat_desc.text.strip().replace('\\u201c','').replace('\\u201d','').replace('\\u2014','').replace('\\u2019','').replace('\\u2026','').replace('\\u00c9','').replace('\\u2122','')\n",
    "        image_url = cat_image['src']\n",
    "        \n",
    "        if description.startswith(name):\n",
    "            description = description[len(name):].strip()\n",
    "        \n",
    "        categories.append({\n",
    "            'name': name,\n",
    "            'description': description,\n",
    "            'image': image_url\n",
    "        })\n"
   ]
  },
  {
   "cell_type": "code",
   "execution_count": 13,
   "id": "88506ade-be10-40bf-b9bc-f8f6c5140d0f",
   "metadata": {},
   "outputs": [],
   "source": [
    "cat_url = 'https://campquest.org/camps/programs/'\n",
    "cat = requests.get(cat_url, headers=HEADERS)\n",
    "cat_soup = BeautifulSoup(cat.content, 'lxml')\n",
    "\n",
    "activities = []\n",
    "act_all = cat_soup.find_all('div', class_='elementor-widget-wrap elementor-element-populated')\n",
    "\n",
    "for i in act_all[6:12]:\n",
    "    act_name = i.find('strong')\n",
    "    act_desc = i.find('p')  \n",
    "    act_image = i.find('img')\n",
    "    \n",
    "    if cat_name and cat_desc:\n",
    "        aname = act_name.text.strip().replace('\\u00c9','')\n",
    "        adescription = act_desc.text.strip().replace('\\u201c','').replace('\\u201d','').replace('\\u2014','').replace('\\u2019','').replace('\\u2026','').replace('\\u00c9','').replace('\\u2122','')\n",
    "        aimage_url = act_image['src']\n",
    "        if adescription.startswith(aname):\n",
    "            adescription = adescription[len(aname):].strip()\n",
    "        activities.append({\n",
    "            'name': aname,\n",
    "            'description': adescription,\n",
    "            'image': aimage_url\n",
    "        })\n"
   ]
  },
  {
   "cell_type": "code",
   "execution_count": 14,
   "id": "af311eaf-0977-43e5-9d59-43088f4cbb62",
   "metadata": {},
   "outputs": [
    {
     "data": {
      "text/plain": [
       "[{'name': 'The Information We Collect'},\n",
       " {'name': 'How We Use This Information'},\n",
       " {'name': 'Who We Share This Information With'},\n",
       " {'name': 'Security'},\n",
       " {'name': 'Accessing Information'}]"
      ]
     },
     "execution_count": 14,
     "metadata": {},
     "output_type": "execute_result"
    }
   ],
   "source": [
    "pr_url = 'https://campquest.org/privacy-policy/'\n",
    "pr = requests.get(pr_url, headers=HEADERS)\n",
    "pr_soup = BeautifulSoup(pr.content, 'lxml')\n",
    "pr_soup\n",
    "\n",
    "# Find all the section headings (e.g., <h2> tags)\n",
    "privacy_head = pr_soup.find_all('h2', class_='elementor-heading-title elementor-size-default')\n",
    "\n",
    "privacy_name=[]\n",
    "\n",
    "for i in privacy_head:\n",
    "    p_tag = i.find('span')\n",
    "    if p_tag:\n",
    "        privacy_name.append({'name': p_tag.text.strip()})\n",
    "privacy_name"
   ]
  },
  {
   "cell_type": "code",
   "execution_count": 15,
   "id": "20250dcc-cac3-48ad-9f39-2a93ac20e466",
   "metadata": {},
   "outputs": [
    {
     "data": {
      "text/plain": [
       "[{'description': 'Camp Quest collects information by various methods including information actively provided by its lead providers and customers, as well as information arising from customer surveys and general feedback. The types of personal information we collect include name, address, phone number, and email address.'},\n",
       " {'description': 'This information is used to aid in the provision of our various products and services, including [customer service, accounting, billing, collections, and the marketing of other products and services]. Camp Quest may use aggregate or anonymous information for various uses for itself and third parties.'},\n",
       " {'description': 'Camp Quest does not share personal information with any third parties except as disclosed in this policy. Camp Quest may provide personal information to subcontractors and professional advisers (which shall be bound by privacy obligations) to assist Camp Quest’s uses disclosed herein.'},\n",
       " {'description': 'Personal information is stored in a combination of paper and electronic files. They are protected by security measures appropriate to the nature of the information.'},\n",
       " {'description': 'Individuals may review their personal information contained in Camp Quest’s files by contacting Camp Quest. If an individual believes that any of their personal information is inaccurate, we will make appropriate corrections.'}]"
      ]
     },
     "execution_count": 15,
     "metadata": {},
     "output_type": "execute_result"
    }
   ],
   "source": [
    "# Find all the sections with the descriptions (e.g., <div> elements containing the descriptions)\n",
    "privacy_all = pr_soup.find_all('div', class_='elementor-widget-container')\n",
    "privacy_all\n",
    "\n",
    "# List to store the names and descriptions\n",
    "privacy_data = []\n",
    "\n",
    "# Extract the descriptions (from <p> tags within the found sections)\n",
    "for i in privacy_all:\n",
    "    p_tag = i.find('p')\n",
    "    if p_tag:\n",
    "        privacy_data.append({'description': p_tag.text.strip()})\n",
    "\n",
    "privacy_data"
   ]
  },
  {
   "cell_type": "code",
   "execution_count": 16,
   "id": "c6aa422a-6ec8-46d7-9008-c49ec5675024",
   "metadata": {},
   "outputs": [
    {
     "data": {
      "text/plain": [
       "[{'name': 'The Information We Collect',\n",
       "  'description': 'Camp Quest collects information by various methods including information actively provided by its lead providers and customers, as well as information arising from customer surveys and general feedback. The types of personal information we collect include name, address, phone number, and email address.'},\n",
       " {'name': 'How We Use This Information',\n",
       "  'description': 'This information is used to aid in the provision of our various products and services, including [customer service, accounting, billing, collections, and the marketing of other products and services]. Camp Quest may use aggregate or anonymous information for various uses for itself and third parties.'},\n",
       " {'name': 'Who We Share This Information With',\n",
       "  'description': 'Camp Quest does not share personal information with any third parties except as disclosed in this policy. Camp Quest may provide personal information to subcontractors and professional advisers (which shall be bound by privacy obligations) to assist Camp Quest’s uses disclosed herein.'},\n",
       " {'name': 'Security',\n",
       "  'description': 'Personal information is stored in a combination of paper and electronic files. They are protected by security measures appropriate to the nature of the information.'},\n",
       " {'name': 'Accessing Information',\n",
       "  'description': 'Individuals may review their personal information contained in Camp Quest’s files by contacting Camp Quest. If an individual believes that any of their personal information is inaccurate, we will make appropriate corrections.'}]"
      ]
     },
     "execution_count": 16,
     "metadata": {},
     "output_type": "execute_result"
    }
   ],
   "source": [
    "# Combining names and descriptions into a single list\n",
    "privacy_combined = []\n",
    "\n",
    "# Ensure that both lists have the same length\n",
    "for name, data in zip(privacy_name, privacy_data):\n",
    "    privacy_combined.append({\n",
    "        'name': name['name'],\n",
    "        'description': data['description']\n",
    "    })\n",
    "\n",
    "privacy_combined\n"
   ]
  },
  {
   "cell_type": "code",
   "execution_count": 17,
   "id": "e812401f-3d9f-424c-a430-accdbc88afd4",
   "metadata": {},
   "outputs": [],
   "source": [
    "Camp_Quest= [\n",
    "    {'name': Website_name,  \n",
    "    'url': Website_url,\n",
    "    'logo': logo_url,\n",
    "    'description':description,\n",
    "    'location': location_data,\n",
    "    'contact': contact_data,\n",
    "    'socials': Socials,\n",
    "    'image_urls':image_url,\n",
    "    'sessions':camps,\n",
    "    'categories': categories,\n",
    "    'activities': activities,\n",
    "    'policies': privacy_combined}\n",
    "]\n",
    "file_path = 'Camp_Quest.json'\n",
    "\n",
    "with open(file_path, 'w') as json_file:\n",
    "    json.dump(Camp_Quest, json_file, indent=4)"
   ]
  }
 ],
 "metadata": {
  "kernelspec": {
   "display_name": "Python 3 (ipykernel)",
   "language": "python",
   "name": "python3"
  },
  "language_info": {
   "codemirror_mode": {
    "name": "ipython",
    "version": 3
   },
   "file_extension": ".py",
   "mimetype": "text/x-python",
   "name": "python",
   "nbconvert_exporter": "python",
   "pygments_lexer": "ipython3",
   "version": "3.12.4"
  }
 },
 "nbformat": 4,
 "nbformat_minor": 5
}
