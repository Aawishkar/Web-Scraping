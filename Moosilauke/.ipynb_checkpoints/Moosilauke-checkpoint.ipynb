{
 "cells": [
  {
   "cell_type": "code",
   "execution_count": 1,
   "id": "3a2a063a-e574-4035-b876-72988185d883",
   "metadata": {},
   "outputs": [],
   "source": [
    "from bs4 import BeautifulSoup\n",
    "import requests\n",
    "import json\n",
    "import re"
   ]
  },
  {
   "cell_type": "code",
   "execution_count": 3,
   "id": "0576550b-7b59-49a9-ba08-086a429133f5",
   "metadata": {},
   "outputs": [],
   "source": [
    "website_name='Camp Moosilauke'\n",
    "website_url='https://moosilauke.com/'\n",
    "HEADERS =({'User-Agent':'Mozilla/5.0 (Windows NT 10.0; Win64; x64) AppleWebKit/537.36 (KHTML, like Gecko) Chrome/131.0.0.0 Safari/537.36',\n",
    "                   'Accept-Language':'en-US, en;q=0.5'})\n",
    "\n",
    "home = requests.get(website_url,headers=HEADERS)\n",
    "home_soup = BeautifulSoup(home.content, 'lxml')"
   ]
  },
  {
   "cell_type": "code",
   "execution_count": 15,
   "id": "5c4f9a43-a5c9-4d54-ac1e-aebab34282ac",
   "metadata": {},
   "outputs": [
    {
     "data": {
      "text/plain": [
       "'Helping Boys Become Their Best Selves. Since 1904.'"
      ]
     },
     "execution_count": 15,
     "metadata": {},
     "output_type": "execute_result"
    }
   ],
   "source": [
    "description=home_soup.find('div',attrs={'class':'wp-block-kadence-column kadence-column38_6d1ddb-be inner-column-1'}).find('p').text.strip().replace('\\xa0','')\n",
    "description"
   ]
  },
  {
   "cell_type": "code",
   "execution_count": 19,
   "id": "d7324e84-753b-4ee5-a19e-f6844a51165a",
   "metadata": {},
   "outputs": [
    {
     "name": "stdout",
     "output_type": "stream",
     "text": [
      "https://moosilauke.com/wp-content/uploads/2022/07/camp-moosilauke.gif\n"
     ]
    }
   ],
   "source": [
    "logo_tag = home_soup.find('a', class_='brand has-logo-image').find('img')\n",
    "logo_url = logo_tag['src']\n",
    "print(logo_url)"
   ]
  },
  {
   "cell_type": "code",
   "execution_count": 23,
   "id": "5b395d3c-e43e-4060-801a-1c828ce0cac5",
   "metadata": {},
   "outputs": [
    {
     "name": "stdout",
     "output_type": "stream",
     "text": [
      "Location: Camp Moosilauke55 Moosilauke WayOrford, New Hampshire 03777\n",
      "ZIP Code: 03777\n",
      "Telephone: 1-800-353-4546\n"
     ]
    }
   ],
   "source": [
    "contact_table=home_soup.find('div',attrs={'class':'kt-row-column-wrap kt-has-3-columns kt-row-layout-equal kt-tab-layout-inherit kt-mobile-layout-row kt-row-valign-top'})\n",
    "contact_table\n",
    "# Extract the address\n",
    "address = contact_table.find('p', class_='kt-adv-heading2368_248957-b6').get_text(strip=True)\n",
    "\n",
    "# Extract the phone number\n",
    "phone_tag = contact_table.find('p', class_='kt-adv-heading2368_4109ad-44')\n",
    "telephone = phone_tag.find('a').get_text(strip=True)\n",
    "\n",
    "zip_code_match = re.search(r'\\b\\d{5}(?:-\\d{4})?\\b', address)\n",
    "zip_code = zip_code_match.group(0) if zip_code_match else 'ZIP Code not found'\n",
    "\n",
    "print(\"Location:\", address)\n",
    "print(\"ZIP Code:\", zip_code)\n",
    "print(\"Telephone:\", telephone)\n"
   ]
  },
  {
   "cell_type": "code",
   "execution_count": 24,
   "id": "723e9b79-d599-4768-a16b-2e3f1da68541",
   "metadata": {},
   "outputs": [],
   "source": [
    "mail='cmoosilauke@gmail.com'"
   ]
  },
  {
   "cell_type": "code",
   "execution_count": 30,
   "id": "a151aa41-e5cd-43d2-9be9-d562008f7889",
   "metadata": {},
   "outputs": [
    {
     "data": {
      "text/plain": [
       "[{'facebook': 'https://www.facebook.com/CampMoosilauke'},\n",
       " {'vimeo': 'https://vimeo.com/user5404249'}]"
      ]
     },
     "execution_count": 30,
     "metadata": {},
     "output_type": "execute_result"
    }
   ],
   "source": [
    "# Initialize an empty list to store social media links\n",
    "socials = []\n",
    "\n",
    "# Locate the social media section\n",
    "social_bar = contact_table.find('ul', class_='wp-block-social-links')\n",
    "if social_bar:\n",
    "    # Find all <a> tags within the social icons list\n",
    "    social_links = social_bar.find_all('a')\n",
    "    for link in social_links:\n",
    "        href = link.get('href', '').strip()\n",
    "        if 'facebook' in href:\n",
    "            socials.append({\"facebook\": href})\n",
    "        elif 'vimeo' in href:\n",
    "            socials.append({\"vimeo\": href})\n",
    "socials"
   ]
  },
  {
   "cell_type": "code",
   "execution_count": 32,
   "id": "a2d5da47-0e19-4ca8-9b76-5cac32f93335",
   "metadata": {},
   "outputs": [
    {
     "data": {
      "text/plain": [
       "['https://moosilauke.com/wp-content/uploads/2022/07/Boy-experts-1536x1078.jpeg',\n",
       " 'https://moosilauke.com/wp-content/uploads/2022/07/Character-dev11.jpeg',\n",
       " 'https://moosilauke.com/wp-content/uploads/2022/07/Positive-culture-1536x1025.jpg',\n",
       " 'https://moosilauke.com/wp-content/uploads/2022/07/Spec-setting-1536x1115.jpeg',\n",
       " 'https://moosilauke.com/wp-content/uploads/2022/07/Highest-rated-1536x1036.jpeg']"
      ]
     },
     "execution_count": 32,
     "metadata": {},
     "output_type": "execute_result"
    }
   ],
   "source": [
    "images_url = []\n",
    "\n",
    "img_tags = home_soup.find_all('img')\n",
    "\n",
    "for img in img_tags:\n",
    "    src = img.get('src', '')\n",
    "    if src and src.startswith(\"http\") and (\".jpeg\" in src or \".jpg\" in src or \".webp\" in src):\n",
    "        images_url.append(src)\n",
    "images_url"
   ]
  },
  {
   "cell_type": "code",
   "execution_count": 88,
   "id": "586e7751-89a7-4d41-830e-c74d37ba8213",
   "metadata": {},
   "outputs": [],
   "source": [
    "rd_url = 'https://moosilauke.com/about-us/sessions-dates-tuition/'\n",
    "rd = requests.get(rd_url, headers=HEADERS)\n",
    "rd_soup = BeautifulSoup(rd.content, 'lxml')\n",
    "\n",
    "rd_table= rd_soup.find('table')"
   ]
  },
  {
   "cell_type": "code",
   "execution_count": 89,
   "id": "a491ed20-45e4-4823-9423-a257ca04f6fa",
   "metadata": {},
   "outputs": [
    {
     "data": {
      "text/plain": [
       "[{'name': 'First Session',\n",
       "  'duration': '4 Weeks',\n",
       "  'cost': '$9400',\n",
       "  'start_date': 'June 21',\n",
       "  'end_date': 'July 20',\n",
       "  'location': 'Camp Moosilauke, Orford, New Hampshire',\n",
       "  'deposits': '$1000'},\n",
       " {'name': 'First Session',\n",
       "  'duration': '2 Weeks',\n",
       "  'cost': '$4700',\n",
       "  'start_date': 'June 21',\n",
       "  'end_date': 'July 5',\n",
       "  'location': 'Camp Moosilauke, Orford, New Hampshire',\n",
       "  'deposits': '$500'},\n",
       " {'name': 'First Session',\n",
       "  'duration': '2 Weeks',\n",
       "  'cost': '$4700',\n",
       "  'start_date': 'July 6',\n",
       "  'end_date': 'July 20',\n",
       "  'location': 'Camp Moosilauke, Orford, New Hampshire',\n",
       "  'deposits': '$500'},\n",
       " {'name': 'Second Session',\n",
       "  'duration': '2 ½ Weeks',\n",
       "  'cost': '$5500',\n",
       "  'start_date': 'July 23',\n",
       "  'end_date': 'August 9',\n",
       "  'location': 'Camp Moosilauke, Orford, New Hampshire',\n",
       "  'deposits': '$500'}]"
      ]
     },
     "execution_count": 89,
     "metadata": {},
     "output_type": "execute_result"
    }
   ],
   "source": [
    "# Initialize an empty list to store session details\n",
    "season_details_list = []\n",
    "\n",
    "# Extract all rows from the table body\n",
    "table_rows = rd_table.find('tbody').find_all('tr')\n",
    "\n",
    "# Deposit information\n",
    "deposit_info = {\n",
    "    \"4 Weeks\": \"$1000\",  # $1,000 for 4-week sessions\n",
    "    \"2 Weeks\": \"$500\",   # $500 for 2-week sessions\n",
    "    \"2 ½ Weeks\": \"$500\"  # $500 for 2½-week sessions\n",
    "}\n",
    "\n",
    "# Loop through each row to extract details\n",
    "for row in table_rows:\n",
    "    columns = row.find_all('td')\n",
    "    name_duration = columns[0].get_text(strip=True)\n",
    "    dates = columns[1].get_text(strip=True)\n",
    "    cost = columns[2].get_text(strip=True).replace('$', '').replace(',', '')\n",
    "\n",
    "    # Split the dates into start_date and end_date\n",
    "    start_date, end_date = dates.split(' – ')\n",
    "\n",
    "    # Parse name and duration, removing age details from the duration\n",
    "    name_parts = name_duration.split(\":\")\n",
    "    name = name_parts[0].strip()\n",
    "    duration = name_parts[1].strip() if len(name_parts) > 1 else \"Unknown\"\n",
    "    duration = (\n",
    "        duration.replace(\"(all ages)\", \"\")\n",
    "        .replace(\"(limited availability)\", \"\")\n",
    "        .replace(\"(7-10 year olds only)\", \"\")\n",
    "        .strip()\n",
    "    )\n",
    "\n",
    "    # Determine the deposit amount based on duration\n",
    "    deposit = deposit_info.get(duration, None)\n",
    "\n",
    "    # Append the session details to the list\n",
    "    season_details_list.append({\n",
    "        \"name\": name,\n",
    "        \"duration\": duration,\n",
    "        \"cost\": f\"${int(cost)}\",  # Add dollar sign before cost\n",
    "        \"start_date\": start_date,\n",
    "        \"end_date\": end_date,\n",
    "        \"location\": \"Camp Moosilauke, Orford, New Hampshire\",\n",
    "        \"deposits\": deposit,  # Deposit already has dollar sign\n",
    "    })\n",
    "\n",
    "# Print the session details\n",
    "season_details_list\n"
   ]
  },
  {
   "cell_type": "code",
   "execution_count": 80,
   "id": "2e1de77d-03f4-4d56-bd4a-1aded48c315f",
   "metadata": {},
   "outputs": [],
   "source": [
    "cat_url = 'https://moosilauke.com/why-moosilauke/program/'\n",
    "cat = requests.get(cat_url, headers=HEADERS)\n",
    "cat_soup = BeautifulSoup(cat.content, 'lxml')\n",
    "\n",
    "category_table = cat_soup.find_all('div', attrs={'class': 'kt-inside-inner-col'})"
   ]
  },
  {
   "cell_type": "code",
   "execution_count": 86,
   "id": "64a5d9e3-1d03-41fb-8748-8d6a1fe24714",
   "metadata": {},
   "outputs": [
    {
     "data": {
      "text/plain": [
       "[{'name': 'land sports, waterfront, and outdoor adventure',\n",
       "  'description': 'The Moosilauke experience balances three main program areas: land sports, waterfront, and outdoor adventure. In the age of specialization, we pride ourselves on being a camp that has eight land sport options including lacrosse, and baseball on two minor league quality diamonds, a full waterfront where campers can do everything from sailing to canoeing to wake surfing, while also offering an array of outdoor adventure experiences that includes multiple night backpacking experiences and white water kayaking and canoe trips. In over 117 years, no camper has come to camp experienced and confident in all our activity areas so every camper will have areas where they will be taking risks and encountering and overcoming failure.',\n",
       "  'image': 'https://moosilauke.com/wp-content/uploads/2022/07/soren-1536x1024.jpg'},\n",
       " {'name': 'A daily schedule that balances structure and choice',\n",
       "  'description': 'To ensure that all campers experience the full breadth of opportunities available, boys of all ages are assigned during two morning activity periods. Classes range from tennis to mountain biking to archery to kayaking. However, to allow campers to grow and specialize in the areas they are most interested in, campers sign up for the two afternoon periods. Additionally, there are free-choice days throughout the summer. Evenings are usually reserved for special activities like fishing, waterskiing, tubing and team-building games.',\n",
       "  'image': 'https://moosilauke.com/wp-content/uploads/2022/07/Pics-for-web.001.jpeg'},\n",
       " {'name': 'The option for all campers to play against other camps in more than six sports.',\n",
       "  'description': 'Intercamp competition is a core part of the Moosilauke Experience. However, we are very careful to keep our competition and instruction low stress, and to ensure that every boy who wants to compete – regardless of skill level – is able to. Our highly trained staff, many of whom have coached at the varsity level, is committed to providing healthy competition that promotes sportsmanship and teamwork.',\n",
       "  'image': 'https://moosilauke.com/wp-content/uploads/2022/07/IMG_0497-1536x1024.jpg'},\n",
       " {'name': 'Required and voluntary backcountry experiences on a weekly basis',\n",
       "  'description': 'Adventure trips are a central part of each session.\\xa0 As part of our Backcountry Leadership Program campers have the option to go on overnight backpacking and canoe adventures and day kayaking, climbing, and mountain biking trips.',\n",
       "  'image': 'https://moosilauke.com/wp-content/uploads/2022/07/IMG_1284-1-1536x1024.jpg'}]"
      ]
     },
     "execution_count": 86,
     "metadata": {},
     "output_type": "execute_result"
    }
   ],
   "source": [
    "categories = []\n",
    "\n",
    "for i in category_table:\n",
    "    table = i.find_all('div', attrs={'class': 'kt-inside-inner-col'})\n",
    "    \n",
    "    for j in table:\n",
    "        name = j.find('h2')  # Extract name from h2 tag\n",
    "        desc = j.find('p')  # Extract description from p tag\n",
    "        image_url = j.find('img')  # Extract image tag\n",
    "\n",
    "        # Check for valid name and description\n",
    "        name_text = name.get_text().strip() if name else \"No Name\"\n",
    "        desc_text = desc.get_text().strip() if desc else \"No Description\"\n",
    "        \n",
    "        # Check for image URL (skip base64 image URLs)\n",
    "        if image_url and 'src' in image_url.attrs:\n",
    "            image_url = image_url.attrs['src']\n",
    "            if image_url.startswith('data:image/gif;base64'):\n",
    "                image_url = None  # Skip base64-encoded images\n",
    "        else:\n",
    "            image_url = None\n",
    "        \n",
    "        # Append category details to the list\n",
    "        categories.append({\n",
    "            \"name\": name_text,\n",
    "            \"description\": desc_text,\n",
    "            \"image_url\": image_url\n",
    "        })\n",
    "\n",
    "# Clean the categories list by removing entries with missing or redundant data\n",
    "cleaned_categories = []\n",
    "\n",
    "# Track already seen names to avoid duplicates\n",
    "seen_names = set()\n",
    "\n",
    "for category in categories:\n",
    "    # Remove entries with no valid name or description\n",
    "    if category['name'] != \"No Name\" and category['description'] != \"No Description\" and category['image_url'] != None:\n",
    "        # Avoid adding duplicate names\n",
    "        if category['name'] not in seen_names:\n",
    "            seen_names.add(category['name'])\n",
    "            cleaned_categories.append({\n",
    "                \"name\": category['name'],\n",
    "                \"description\": category['description'],\n",
    "                \"image\": category['image_url'] if category['image_url'] else None\n",
    "            })\n",
    "\n",
    "\n",
    "cleaned_categories\n"
   ]
  },
  {
   "cell_type": "code",
   "execution_count": 82,
   "id": "3b9046ae-de2a-4a5e-8182-c34d55caae57",
   "metadata": {},
   "outputs": [
    {
     "data": {
      "text/plain": [
       "[{'name': 'Lacrosse',\n",
       "  'description': 'Lacrosse is one of the land sports offered, played on two minor league quality diamonds.',\n",
       "  'image': 'null'},\n",
       " {'name': 'Baseball',\n",
       "  'description': 'Baseball is another land sport, played on two minor league quality diamonds.',\n",
       "  'image': 'null'},\n",
       " {'name': 'Sailing',\n",
       "  'description': 'Sailing is offered as part of the waterfront activities, allowing campers to enjoy the water while learning to sail.',\n",
       "  'image': 'null'},\n",
       " {'name': 'Canoeing',\n",
       "  'description': 'Canoeing is a popular waterfront activity where campers explore the water using canoes.',\n",
       "  'image': 'null'},\n",
       " {'name': 'Wake Surfing',\n",
       "  'description': 'Wake surfing is an exciting waterfront activity that allows campers to ride the wake behind a boat.',\n",
       "  'image': 'null'},\n",
       " {'name': 'Tennis',\n",
       "  'description': 'Tennis is part of the morning activities, offering campers the opportunity to practice and compete.',\n",
       "  'image': 'null'},\n",
       " {'name': 'Mountain Biking',\n",
       "  'description': 'Mountain biking is part of the morning activity options, giving campers the chance to ride on trails.',\n",
       "  'image': 'null'},\n",
       " {'name': 'Archery',\n",
       "  'description': 'Archery is available as a class in the morning activity period, teaching campers precision and focus.',\n",
       "  'image': 'null'},\n",
       " {'name': 'Kayaking',\n",
       "  'description': 'Kayaking is a waterfront activity where campers learn to navigate through water using a kayak.',\n",
       "  'image': 'null'},\n",
       " {'name': 'Fishing',\n",
       "  'description': 'Fishing is a special evening activity that allows campers to relax by the water and try their hand at catching fish.',\n",
       "  'image': 'null'},\n",
       " {'name': 'Water Skiing',\n",
       "  'description': 'Water skiing is another waterfront activity where campers learn to ski on the water.',\n",
       "  'image': 'null'},\n",
       " {'name': 'Tubing',\n",
       "  'description': 'Tubing is a fun water activity where campers ride inflatable tubes on the water, often at high speed.',\n",
       "  'image': 'null'},\n",
       " {'name': 'Team-building Games',\n",
       "  'description': 'Team-building games are special evening activities that foster cooperation and teamwork among campers.',\n",
       "  'image': 'null'},\n",
       " {'name': 'Backpacking',\n",
       "  'description': 'Backpacking is a backcountry experience where campers go on overnight hiking trips, exploring nature.',\n",
       "  'image': 'null'},\n",
       " {'name': 'Canoe Adventures',\n",
       "  'description': 'Canoe adventures are backcountry trips where campers paddle through scenic areas, often on overnight journeys.',\n",
       "  'image': 'null'},\n",
       " {'name': 'Climbing',\n",
       "  'description': 'Climbing is a backcountry activity where campers tackle rock walls or natural structures during day trips.',\n",
       "  'image': 'null'},\n",
       " {'name': 'Mountain Biking (Backcountry)',\n",
       "  'description': 'Backcountry mountain biking trips allow campers to ride through rugged terrains, combining adventure and skill.',\n",
       "  'image': 'null'}]"
      ]
     },
     "execution_count": 82,
     "metadata": {},
     "output_type": "execute_result"
    }
   ],
   "source": [
    "activities = [\n",
    "    {\n",
    "        \"name\": \"Lacrosse\",\n",
    "        \"description\": \"Lacrosse is one of the land sports offered, played on two minor league quality diamonds.\",\n",
    "        \"image\": \"null\"\n",
    "    },\n",
    "    {\n",
    "        \"name\": \"Baseball\",\n",
    "        \"description\": \"Baseball is another land sport, played on two minor league quality diamonds.\",\n",
    "        \"image\": \"null\"\n",
    "    },\n",
    "    {\n",
    "        \"name\": \"Sailing\",\n",
    "        \"description\": \"Sailing is offered as part of the waterfront activities, allowing campers to enjoy the water while learning to sail.\",\n",
    "        \"image\": \"null\"\n",
    "    },\n",
    "    {\n",
    "        \"name\": \"Canoeing\",\n",
    "        \"description\": \"Canoeing is a popular waterfront activity where campers explore the water using canoes.\",\n",
    "        \"image\": \"null\"\n",
    "    },\n",
    "    {\n",
    "        \"name\": \"Wake Surfing\",\n",
    "        \"description\": \"Wake surfing is an exciting waterfront activity that allows campers to ride the wake behind a boat.\",\n",
    "        \"image\": \"null\"\n",
    "    },\n",
    "    {\n",
    "        \"name\": \"Tennis\",\n",
    "        \"description\": \"Tennis is part of the morning activities, offering campers the opportunity to practice and compete.\",\n",
    "        \"image\": \"null\"\n",
    "    },\n",
    "    {\n",
    "        \"name\": \"Mountain Biking\",\n",
    "        \"description\": \"Mountain biking is part of the morning activity options, giving campers the chance to ride on trails.\",\n",
    "        \"image\": \"null\"\n",
    "    },\n",
    "    {\n",
    "        \"name\": \"Archery\",\n",
    "        \"description\": \"Archery is available as a class in the morning activity period, teaching campers precision and focus.\",\n",
    "        \"image\": \"null\"\n",
    "    },\n",
    "    {\n",
    "        \"name\": \"Kayaking\",\n",
    "        \"description\": \"Kayaking is a waterfront activity where campers learn to navigate through water using a kayak.\",\n",
    "        \"image\": \"null\"\n",
    "    },\n",
    "    {\n",
    "        \"name\": \"Fishing\",\n",
    "        \"description\": \"Fishing is a special evening activity that allows campers to relax by the water and try their hand at catching fish.\",\n",
    "        \"image\": \"null\"\n",
    "    },\n",
    "    {\n",
    "        \"name\": \"Water Skiing\",\n",
    "        \"description\": \"Water skiing is another waterfront activity where campers learn to ski on the water.\",\n",
    "        \"image\": \"null\"\n",
    "    },\n",
    "    {\n",
    "        \"name\": \"Tubing\",\n",
    "        \"description\": \"Tubing is a fun water activity where campers ride inflatable tubes on the water, often at high speed.\",\n",
    "        \"image\": \"null\"\n",
    "    },\n",
    "    {\n",
    "        \"name\": \"Team-building Games\",\n",
    "        \"description\": \"Team-building games are special evening activities that foster cooperation and teamwork among campers.\",\n",
    "        \"image\": \"null\"\n",
    "    },\n",
    "    {\n",
    "        \"name\": \"Backpacking\",\n",
    "        \"description\": \"Backpacking is a backcountry experience where campers go on overnight hiking trips, exploring nature.\",\n",
    "        \"image\": \"null\"\n",
    "    },\n",
    "    {\n",
    "        \"name\": \"Canoe Adventures\",\n",
    "        \"description\": \"Canoe adventures are backcountry trips where campers paddle through scenic areas, often on overnight journeys.\",\n",
    "        \"image\": \"null\"\n",
    "    },\n",
    "    {\n",
    "        \"name\": \"Climbing\",\n",
    "        \"description\": \"Climbing is a backcountry activity where campers tackle rock walls or natural structures during day trips.\",\n",
    "        \"image\": \"null\"\n",
    "    },\n",
    "    {\n",
    "        \"name\": \"Mountain Biking (Backcountry)\",\n",
    "        \"description\": \"Backcountry mountain biking trips allow campers to ride through rugged terrains, combining adventure and skill.\",\n",
    "        \"image\": \"null\"\n",
    "    }\n",
    "]\n",
    "activities"
   ]
  },
  {
   "cell_type": "code",
   "execution_count": 90,
   "id": "2a3bc920-62bc-4b70-b1e9-8b37d1006277",
   "metadata": {},
   "outputs": [],
   "source": [
    "Moosilauke= [{\n",
    "    'name': website_name,  \n",
    "    'url': website_url,\n",
    "    'logo':logo_url,\n",
    "    'description':description,\n",
    "    'location': address,\n",
    "    'zip_code':zip_code,\n",
    "    'telephone': telephone,\n",
    "    'mail':mail,\n",
    "    'longitude':'null',\n",
    "    'latitude':'null',\n",
    "    'socials': socials,\n",
    "    'image_urls':images_url,\n",
    "    'sessions': season_details_list,\n",
    "    'categories': cleaned_categories,\n",
    "    'activities': activities\n",
    "}]\n",
    "file_path = 'moosilauke.json'\n",
    "\n",
    "# Export the dictionary to a JSON file\n",
    "with open(file_path, 'w') as json_file:\n",
    "    json.dump(Moosilauke, json_file, indent=4)"
   ]
  }
 ],
 "metadata": {
  "kernelspec": {
   "display_name": "Python 3 (ipykernel)",
   "language": "python",
   "name": "python3"
  },
  "language_info": {
   "codemirror_mode": {
    "name": "ipython",
    "version": 3
   },
   "file_extension": ".py",
   "mimetype": "text/x-python",
   "name": "python",
   "nbconvert_exporter": "python",
   "pygments_lexer": "ipython3",
   "version": "3.12.4"
  }
 },
 "nbformat": 4,
 "nbformat_minor": 5
}
