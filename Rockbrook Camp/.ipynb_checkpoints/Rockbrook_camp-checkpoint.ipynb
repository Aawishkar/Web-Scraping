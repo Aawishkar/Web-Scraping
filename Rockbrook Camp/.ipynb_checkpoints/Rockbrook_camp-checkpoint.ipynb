{
 "cells": [
  {
   "cell_type": "code",
   "execution_count": 2,
   "id": "dc8787af-0ad8-45a2-9fb3-3bc274f55203",
   "metadata": {},
   "outputs": [],
   "source": [
    "from bs4 import BeautifulSoup\n",
    "import requests\n",
    "import json\n",
    "import re"
   ]
  },
  {
   "cell_type": "code",
   "execution_count": 4,
   "id": "99625778-bbea-4b2f-ba09-e325b59b92ad",
   "metadata": {},
   "outputs": [],
   "source": [
    "website_name='Rockbrook Camp'\n",
    "website_url='https://www.rockbrookcamp.com/'\n",
    "HEADERS =({'User-Agent':'Mozilla/5.0 (Windows NT 10.0; Win64; x64) AppleWebKit/537.36 (KHTML, like Gecko) Chrome/131.0.0.0 Safari/537.36',\n",
    "                   'Accept-Language':'en-US, en;q=0.5'})\n",
    "\n",
    "home = requests.get(website_url,headers=HEADERS)\n",
    "home_soup = BeautifulSoup(home.content, 'lxml')"
   ]
  },
  {
   "cell_type": "code",
   "execution_count": 8,
   "id": "1691b7bd-115a-48e6-903a-64bca4394dbd",
   "metadata": {},
   "outputs": [
    {
     "data": {
      "text/plain": [
       "'Rockbrook is a sleepaway summer camp for girls located in the “heart of a wooded mountain” in western North Carolina. Founded over 100 years ago in 1921, our fun summer camp continues to provide an exciting and enriching camp experience for girls and teens ages 6 – 16.'"
      ]
     },
     "execution_count": 8,
     "metadata": {},
     "output_type": "execute_result"
    }
   ],
   "source": [
    "description=home_soup.find('div',attrs={'class':'hero-description'}).text.strip()\n",
    "description"
   ]
  },
  {
   "cell_type": "code",
   "execution_count": 12,
   "id": "403e9fb1-9801-4605-8b1d-a6f1e5761626",
   "metadata": {},
   "outputs": [
    {
     "data": {
      "text/plain": [
       "'https://www.rockbrookcamp.com/cdn-cgi/image/width=226,height=92,fit=crop,quality=90,gravity=auto,sharpen=1,metadata=none,format=auto,onerror=redirect/wp-content/uploads/2020/01/logo-cardinal.svg'"
      ]
     },
     "execution_count": 12,
     "metadata": {},
     "output_type": "execute_result"
    }
   ],
   "source": [
    "logo_tag = home_soup.find('a', class_='custom-logo-link').find('img')\n",
    "logo_url = logo_tag['src']\n",
    "logo_url"
   ]
  },
  {
   "cell_type": "code",
   "execution_count": 15,
   "id": "4d2c6e18-6fc8-48f1-8a87-a9902aff3559",
   "metadata": {},
   "outputs": [
    {
     "name": "stdout",
     "output_type": "stream",
     "text": [
      "Location: Brevard\n",
      "Zip Code: NC 28712\n",
      "Telephone: 828.884.6151\n",
      "Email: office@rockbrookcamp.com\n"
     ]
    }
   ],
   "source": [
    "location = \"\"\n",
    "zip_code = \"\"\n",
    "telephone = \"\"\n",
    "mail = \"\"\n",
    "\n",
    "# Telephone\n",
    "telephone_tag = home_soup.select_one('ul.contact-details li.phone a')\n",
    "telephone = telephone_tag.text.strip() if telephone_tag else \"\"\n",
    "\n",
    "# Email\n",
    "mail_tag = home_soup.select_one('ul.contact-details li.email a')\n",
    "mail = mail_tag.text.strip() if mail_tag else \"\"\n",
    "\n",
    "# Location and Zip Code\n",
    "location_div = home_soup.select_one('div.copytext p')\n",
    "if location_div:\n",
    "    location_text = location_div.text.split('-')[-1].strip()  # Extract text after the dash\n",
    "    # Remove trailing copyright text\n",
    "    location_clean = location_text.split('Copyright')[0].strip()  \n",
    "    # Extract zip code from the cleaned location text\n",
    "    location, zip_code = location_clean.rsplit(',', 1)\n",
    "    location = location.strip()\n",
    "    zip_code = zip_code.strip()\n",
    "\n",
    "# Output results\n",
    "print(f\"Location: {location}\")\n",
    "print(f\"Zip Code: {zip_code}\")\n",
    "print(f\"Telephone: {telephone}\")\n",
    "print(f\"Email: {mail}\")\n"
   ]
  },
  {
   "cell_type": "code",
   "execution_count": 18,
   "id": "579215b2-31a4-4534-8913-f8dfee14dedd",
   "metadata": {},
   "outputs": [
    {
     "data": {
      "text/plain": [
       "[{'facebook': 'https://www.facebook.com/Rockbrook'},\n",
       " {'twitter': 'https://twitter.com/Rockbrook'},\n",
       " {'youtube': 'https://www.youtube.com/c/Rockbrookcamp'},\n",
       " {'pinterest': 'https://www.pinterest.com/rockbrook/'},\n",
       " {'instagram': 'https://www.instagram.com/rockbrookcamp/'}]"
      ]
     },
     "execution_count": 18,
     "metadata": {},
     "output_type": "execute_result"
    }
   ],
   "source": [
    "socials = []\n",
    "\n",
    "# Locate the social media section\n",
    "social_bar = home_soup.select_one('div.social-bar ul.social-icons')\n",
    "if social_bar:\n",
    "    # Find all <a> tags within the social icons list\n",
    "    social_links = social_bar.find_all('a')\n",
    "    for link in social_links:\n",
    "        href = link.get('href', '').strip()  # Get the hyperlink and strip whitespace\n",
    "\n",
    "        # Check the URL for known platform names and append to the socials list\n",
    "        if 'facebook' in href:\n",
    "            socials.append({\"facebook\": href})\n",
    "        elif 'twitter' in href:\n",
    "            socials.append({\"twitter\": href})\n",
    "        elif 'youtube' in href:\n",
    "            socials.append({\"youtube\": href})\n",
    "        elif 'pinterest' in href:\n",
    "            socials.append({\"pinterest\": href})\n",
    "        elif 'instagram' in href:\n",
    "            socials.append({\"instagram\": href})\n",
    "\n",
    "socials\n"
   ]
  },
  {
   "cell_type": "code",
   "execution_count": 23,
   "id": "2f17dd3a-b58a-4dce-82b9-012c0115979a",
   "metadata": {},
   "outputs": [
    {
     "data": {
      "text/plain": [
       "['https://www.rockbrookcamp.com/wp-content/uploads/2023/01/camp-girls-climbing.jpeg',\n",
       " 'https://www.rockbrookcamp.com/wp-content/uploads/2020/01/horse-girl-jumping.jpeg',\n",
       " 'https://www.rockbrookcamp.com/wp-content/uploads/2020/01/girls-horseback.jpeg',\n",
       " 'https://www.rockbrookcamp.com/wp-content/uploads/2020/01/climbing-camp.jpeg',\n",
       " 'https://www.rockbrookcamp.com/wp-content/uploads/2020/01/gaga-ball-game.jpeg',\n",
       " 'https://www.rockbrookcamp.com/wp-content/uploads/2020/01/spinning-pottery-wheel.jpeg',\n",
       " 'https://www.rockbrookcamp.com/wp-content/uploads/2020/01/north-carolina-hiking.jpeg',\n",
       " 'https://www.rockbrookcamp.com/wp-content/uploads/2024/10/flooded-riding-ring.jpeg',\n",
       " 'https://www.rockbrookcamp.com/wp-content/uploads/2024/08/emotion-camp-friends.jpeg',\n",
       " 'https://www.rockbrookcamp.com/wp-content/uploads/2024/08/space-party-decorations.jpeg']"
      ]
     },
     "execution_count": 23,
     "metadata": {},
     "output_type": "execute_result"
    }
   ],
   "source": [
    "# Initialize a list to store filtered image URLs\n",
    "images_url = []\n",
    "\n",
    "# Find all <img> tags on the page\n",
    "img_tags = home_soup.find_all('img')\n",
    "\n",
    "# Extract the 'src' attribute from each <img> tag\n",
    "for img in img_tags:\n",
    "    src = img.get('src', '')  # Get the 'src' attribute, default to empty string if not found\n",
    "    # Check if the src is a valid image URL\n",
    "    if src and src.startswith(\"http\") and (\".jpeg\" in src or \".jpg\" in src or \".webp\" in src):\n",
    "        images_url.append(src)  # Add the valid image URL to the list\n",
    "images_url"
   ]
  },
  {
   "cell_type": "code",
   "execution_count": 32,
   "id": "c920ebc7-bbbf-453f-b6c7-0686cc1e7808",
   "metadata": {},
   "outputs": [
    {
     "data": {
      "text/plain": [
       "[{'category': 'Arts and Crafts',\n",
       "  'description': 'Get creative !!',\n",
       "  'image_url': 'https://www.rockbrookcamp.com/cdn-cgi/image/width=1920,height=823,fit=crop,quality=90,gravity=auto,sharpen=1,metadata=none,format=auto,onerror=redirect/wp-content/uploads/2020/02/art-crafts-camp-kids.jpeg'},\n",
       " {'category': 'Sports',\n",
       "  'description': 'Rockbrook has an fun sports and games program of activities for its campers. With an emphasis on fun and action, girls at camp can play different ball games, learn target shooting sports, heat up with field sports, and cool off at our unique mountain waterfront. There are seven different sports activities available.',\n",
       "  'image_url': 'https://www.rockbrookcamp.com/cdn-cgi/image/width=1200,height=803,fit=crop,quality=90,gravity=auto,sharpen=1,metadata=none,format=auto,onerror=redirect/wp-content/uploads/2018/02/fieldsports-camp-girls.jpeg'},\n",
       " {'category': 'Outdoor Adventure',\n",
       "  'description': 'Every day at camp offers incredible outdoor adventure thrills.',\n",
       "  'image_url': 'https://www.rockbrookcamp.com/cdn-cgi/image/width=1920,height=822,fit=crop,quality=90,gravity=auto,sharpen=1,metadata=none,format=auto,onerror=redirect/wp-content/uploads/2020/01/outdoor-adventure-rafting.jpeg'},\n",
       " {'category': 'Horseback Riding Camps',\n",
       "  'description': 'Horseback riding at Rockbrook camp combines excellent horses and ponies, qualified instructors, and top-notch facilities, to create an equestrian program where girls can improve their horseback riding skills, deepen their horsemanship knowledge, and have fun riding with friends.',\n",
       "  'image_url': 'https://www.rockbrookcamp.com/cdn-cgi/image/width=1840,height=700,fit=crop,quality=90,gravity=auto,sharpen=1,metadata=none,format=auto,onerror=redirect/wp-content/uploads/2015/02/girls-horseback-2.jpg'},\n",
       " {'category': 'Kids Activities',\n",
       "  'description': 'When you think of kids summer camps you think of fun activities. It might be a camp out under the stars, splashing into the lake, or weaving your first lanyard? For a camp like Rockbrook, kids have the chance to try new things that they may not get to do at home, such as rock climbing, pottery or horseback riding. All of our camp activities take place in a noncompetitive environment encouraging everyone to do their best all without the added fear of failure.',\n",
       "  'image_url': 'https://www.rockbrookcamp.com/cdn-cgi/image/width=1920,height=1080,fit=crop,quality=90,gravity=auto,sharpen=1,metadata=none,format=auto,onerror=redirect/wp-content/uploads/2020/01/painting-camp-kids.jpeg'},\n",
       " {'category': 'Special Events',\n",
       "  'description': 'In addition to regular activities, each day at Rockbrook includes\\nsurprise special events.',\n",
       "  'image_url': 'https://www.rockbrookcamp.com/cdn-cgi/image/width=1920,height=823,fit=crop,quality=90,gravity=auto,sharpen=1,metadata=none,format=auto,onerror=redirect/wp-content/uploads/2020/02/camp-special-event.jpeg'}]"
      ]
     },
     "execution_count": 32,
     "metadata": {},
     "output_type": "execute_result"
    }
   ],
   "source": [
    "categories = []\n",
    "\n",
    "# Find the category container\n",
    "cat = home_soup.find('div', attrs={'class': 'menu-camp-divisions-container'})\n",
    "\n",
    "# Extract category links\n",
    "if cat:\n",
    "    category_links = cat.find_all('a')  # Find all <a> tags in the container\n",
    "\n",
    "    for link in category_links:\n",
    "        category_name = link.text.strip()  # Extract category name\n",
    "        category_url = link['href']  # Extract category URL\n",
    "\n",
    "        # Fetch the category page content\n",
    "        category_page = requests.get(category_url, headers=HEADERS)\n",
    "        category_soup = BeautifulSoup(category_page.content, 'lxml')\n",
    "\n",
    "        # Extract description\n",
    "        description = \"\"\n",
    "        desc_tag = category_soup.find('p')  # Adjust selector as per actual structure\n",
    "        if desc_tag:\n",
    "            description = desc_tag.text.strip()\n",
    "\n",
    "        # Extract image URL\n",
    "        image_url = \"\"\n",
    "        figure_tag = category_soup.find('figure', attrs={'class': 'image-background'})  # Locate the <figure> tag\n",
    "        if figure_tag:\n",
    "            img_tag = figure_tag.find('img')  # Find the <img> tag within the <figure>\n",
    "            if img_tag:\n",
    "                # Check for lazy-loaded image attributes\n",
    "                image_url = (\n",
    "                    img_tag.get('data-lazy-src') or\n",
    "                    img_tag.get('data-src') or\n",
    "                    img_tag.get('src', '')\n",
    "                )\n",
    "\n",
    "        # Append to the categories list\n",
    "        categories.append({\n",
    "            \"category\": category_name,\n",
    "            \"description\": description,\n",
    "            \"image_url\": image_url\n",
    "        })\n",
    "\n",
    "categories\n"
   ]
  },
  {
   "cell_type": "code",
   "execution_count": null,
   "id": "5a73e843-97fc-4af2-947c-e2d9533e42f5",
   "metadata": {},
   "outputs": [],
   "source": [
    "categories = []\n",
    "activities = []\n",
    "\n",
    "# Find the category container\n",
    "cat = home_soup.find('div', attrs={'class': 'menu-camp-divisions-container'})\n",
    "\n",
    "# Extract category links\n",
    "if cat:\n",
    "    category_links = cat.find_all('a')  # Find all <a> tags in the container\n",
    "\n",
    "    for link in category_links:\n",
    "        category_name = link.text.strip()  # Extract category name\n",
    "        category_url = link['href']  # Extract category URL\n",
    "\n",
    "        # Fetch the category page content\n",
    "        category_page = requests.get(category_url, headers=HEADERS)\n",
    "        category_soup = BeautifulSoup(category_page.content, 'lxml')\n",
    "\n",
    "        # Extract category description\n",
    "        description = \"\"\n",
    "        desc_tag = category_soup.find('p')  # Adjust selector as per actual structure\n",
    "        if desc_tag:\n",
    "            description = desc_tag.text.strip()\n",
    "\n",
    "        # Extract category image URL\n",
    "        image_url = \"\"\n",
    "        figure_tag = category_soup.find('figure', attrs={'class': 'image-background'})  # Locate the <figure> tag\n",
    "        if figure_tag:\n",
    "            img_tag = figure_tag.find('img')  # Find the <img> tag within the <figure>\n",
    "            if img_tag:\n",
    "                image_url = (\n",
    "                    img_tag.get('data-lazy-src') or\n",
    "                    img_tag.get('data-src') or\n",
    "                    img_tag.get('src', '')\n",
    "                )\n",
    "\n",
    "        # Add to categories\n",
    "        categories.append({\n",
    "            \"category\": category_name,\n",
    "            \"description\": description,\n",
    "            \"image_url\": image_url\n",
    "        })\n",
    "\n",
    "        # Extract activities from the category page\n",
    "        activities_div = category_soup.find('div', attrs={'class': 'entry-content'})  # Adjust based on HTML structure\n",
    "        if activities_div:\n",
    "            activity_links = activities_div.find_all('a')  # Find all <a> tags\n",
    "\n",
    "            for activity_link in activity_links:\n",
    "                activity_name = activity_link.text.strip()\n",
    "                activity_url = activity_link['href']  # Extract the link\n",
    "\n",
    "                # Fetch the activity page content\n",
    "                activity_page = requests.get(activity_url, headers=HEADERS)\n",
    "                activity_soup = BeautifulSoup(activity_page.content, 'lxml')\n",
    "\n",
    "                # Extract activity description (if available)\n",
    "                activity_desc_tag = activity_soup.find('p')  # Adjust based on HTML structure\n",
    "                activity_description = activity_desc_tag.text.strip() if activity_desc_tag else \"\"\n",
    "\n",
    "                # Extract activity image URL\n",
    "                activity_image_url = \"\"\n",
    "                activity_img_tag = activity_soup.find('img')  # Adjust selector as necessary\n",
    "                if activity_img_tag:\n",
    "                    activity_image_url = (\n",
    "                        activity_img_tag.get('data-lazy-src') or\n",
    "                        activity_img_tag.get('data-src') or\n",
    "                        activity_img_tag.get('src', '')\n",
    "                    )\n",
    "\n",
    "                # Add to activities\n",
    "                activities.append({\n",
    "                    \"activity\": activity_name,\n",
    "                    \"description\": activity_description,\n",
    "                    \"image_url\": activity_image_url,\n",
    "                    \"category\": category_name  # Reference the parent category\n",
    "                })\n",
    "\n",
    "activities"
   ]
  }
 ],
 "metadata": {
  "kernelspec": {
   "display_name": "Python 3 (ipykernel)",
   "language": "python",
   "name": "python3"
  },
  "language_info": {
   "codemirror_mode": {
    "name": "ipython",
    "version": 3
   },
   "file_extension": ".py",
   "mimetype": "text/x-python",
   "name": "python",
   "nbconvert_exporter": "python",
   "pygments_lexer": "ipython3",
   "version": "3.12.4"
  }
 },
 "nbformat": 4,
 "nbformat_minor": 5
}
