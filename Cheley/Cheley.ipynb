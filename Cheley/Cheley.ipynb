{
 "cells": [
  {
   "cell_type": "code",
   "execution_count": 1,
   "id": "5f151082-0777-4a83-b6c7-e8f8e9f0c264",
   "metadata": {},
   "outputs": [],
   "source": [
    "from bs4 import BeautifulSoup\n",
    "import requests\n",
    "import json\n",
    "import re"
   ]
  },
  {
   "cell_type": "code",
   "execution_count": 2,
   "id": "d9c31d0e-beb4-4638-8a8c-72391e129300",
   "metadata": {},
   "outputs": [],
   "source": [
    "website_name='Cheley Colorado Camps'\n",
    "website_url='https://www.cheley.com/'\n",
    "HEADERS =({'User-Agent':'Mozilla/5.0 (Windows NT 10.0; Win64; x64) AppleWebKit/537.36 (KHTML, like Gecko) Chrome/131.0.0.0 Safari/537.36',\n",
    "                   'Accept-Language':'en-US, en;q=0.5'})\n",
    "\n",
    "home = requests.get(website_url,headers=HEADERS)\n",
    "home_soup = BeautifulSoup(home.content, 'lxml')"
   ]
  },
  {
   "cell_type": "code",
   "execution_count": 3,
   "id": "0dac28d1-f0fd-42da-baa0-a6d614191015",
   "metadata": {},
   "outputs": [
    {
     "data": {
      "text/plain": [
       "'We build the lasting character and resiliency of young people, creating unique life experiences in a challenging and nurturing natural environment.'"
      ]
     },
     "execution_count": 3,
     "metadata": {},
     "output_type": "execute_result"
    }
   ],
   "source": [
    "description=home_soup.find('p',attrs={'class':'block-intro__description'}).text.strip()\n",
    "description"
   ]
  },
  {
   "cell_type": "code",
   "execution_count": 7,
   "id": "2befe8de-12bf-4e17-875b-3202eb34c13a",
   "metadata": {},
   "outputs": [],
   "source": [
    "contact_table=home_soup.find_all('div',attrs={'class':'main-footer__contact-contents'})\n",
    "contact_table\n",
    "location = []\n",
    "zip_code = []\n",
    "telephone = ''\n",
    "mail = ''\n",
    "\n",
    "if contact_table:\n",
    "    for item in contact_table:\n",
    "        # Extract office locations and ZIP codes\n",
    "        offices = item.find_all('div', attrs={'class': 'main-footer__contact-contents-item'})\n",
    "        for office in offices:\n",
    "            if office.find('h5'):  # Office location\n",
    "                location.append(office.find('h5').get_text(strip=True))\n",
    "                zip_info = office.find('p').get_text(strip=True)\n",
    "                zip_code.append(zip_info.split()[-1])  # Extract the last part (ZIP code)\n",
    "        \n",
    "        # Extract telephone and email\n",
    "        contact_links = item.find_all('a')\n",
    "        for link in contact_links:\n",
    "            if 'tel:' in link['href']:\n",
    "                telephone = link.get_text(strip=True)\n",
    "            elif 'mailto:' in link['href']:\n",
    "                mail = link.get_text(strip=True)\n",
    "\n",
    "lat=['40.40537','39.73072']\n",
    "lon=['-105.60639','-104.95321']\n",
    "\n",
    "# Create location_data dictionary with required fields\n",
    "location_data = {\n",
    "    \"address\": location,  # List of addresses\n",
    "    \"zip_code\": zip_code,  # List of ZIP codes\n",
    "    \"latitude\": lat,  # Replace with actual latitude if available\n",
    "    \"longitude\": lon  # Replace with actual longitude if available\n",
    "}\n",
    "\n",
    "# Create contact_data dictionary with email and telephone numbers\n",
    "contact_data = {\n",
    "    \"mail\": mail,\n",
    "    \"telephone\": telephone\n",
    "}"
   ]
  },
  {
   "cell_type": "code",
   "execution_count": 8,
   "id": "b12a3809-eac2-42b6-aa3b-6957475c74ff",
   "metadata": {},
   "outputs": [
    {
     "data": {
      "text/plain": [
       "[{'instagram': 'https://www.instagram.com/cheleycoloradocamps/'},\n",
       " {'linkedin': 'https://www.linkedin.com/company/cheley-colorado-camps'},\n",
       " {'facebook': 'https://www.facebook.com/cheleycamps'},\n",
       " {'youtube': 'https://www.youtube.com/@cheleycamps'},\n",
       " {'vimeo': 'https://vimeo.com/cheley'}]"
      ]
     },
     "execution_count": 8,
     "metadata": {},
     "output_type": "execute_result"
    }
   ],
   "source": [
    "socials = []\n",
    "\n",
    "social_table = home_soup.find_all('div', attrs={'class': 'main-footer__social'})\n",
    "\n",
    "# Use a set to track added URLs for uniqueness\n",
    "seen_links = set()\n",
    "\n",
    "for item in social_table:\n",
    "    social_items = item.find_all('a')  # Find all <a> tags within the social media section\n",
    "    for social in social_items:\n",
    "        href = social.get('href', '')  # Extract the hyperlink\n",
    "        aria_label = social.get('aria-label', '').lower()  # Get the aria-label for platform identification\n",
    "        \n",
    "        # Add unique entries to the socials list\n",
    "        if href not in seen_links:\n",
    "            if 'instagram' in aria_label:\n",
    "                socials.append({\"instagram\": href})\n",
    "            elif 'linkedin' in aria_label:\n",
    "                socials.append({\"linkedin\": href})\n",
    "            elif 'facebook' in aria_label:\n",
    "                socials.append({\"facebook\": href})\n",
    "            elif 'youtube' in aria_label:\n",
    "                socials.append({\"youtube\": href})\n",
    "            elif 'vimeo' in aria_label:\n",
    "                socials.append({\"vimeo\": href})\n",
    "            \n",
    "            # Add the href to the set of seen links\n",
    "            seen_links.add(href)\n",
    "\n",
    "socials\n"
   ]
  },
  {
   "cell_type": "code",
   "execution_count": 9,
   "id": "c5b407f1-1dfc-42d7-a6e9-39b54fff6f6e",
   "metadata": {},
   "outputs": [
    {
     "data": {
      "text/plain": [
       "['https://www.cheley.com/app/uploads/2022/08/man-woodshop-boy-410x464.jpg',\n",
       " 'https://www.cheley.com/app/uploads/2022/08/backs-hiking-backpacking-mountain-740x512.jpg',\n",
       " 'https://www.cheley.com/app/uploads/2022/08/boys-feeding-hot-dog-pot-410x464.jpg',\n",
       " 'https://www.cheley.com/app/uploads/2023/11/chipeta-campers-taking-care-of-each-other-at-dinner-on-an-outcamp-740x512.jpg']"
      ]
     },
     "execution_count": 9,
     "metadata": {},
     "output_type": "execute_result"
    }
   ],
   "source": [
    "images = []\n",
    "\n",
    "image_table = home_soup.find_all('figure', attrs={'class': 'block-side-content__description-image'})\n",
    "image_table\n",
    "\n",
    "for i in image_table:\n",
    "    img_url=i.find('img').get('src')\n",
    "    images.append(img_url)\n",
    "images"
   ]
  },
  {
   "cell_type": "code",
   "execution_count": 10,
   "id": "215d3a83-0e59-41b3-9cd8-ff846ccc4b67",
   "metadata": {},
   "outputs": [],
   "source": [
    "rd_url = 'https://www.cheley.com/dates-tuition/'\n",
    "rd = requests.get(rd_url, headers=HEADERS)\n",
    "rd_soup = BeautifulSoup(rd.content, 'lxml')\n"
   ]
  },
  {
   "cell_type": "code",
   "execution_count": 11,
   "id": "8e7cb922-f792-46ee-bfc7-7ea8d7874b81",
   "metadata": {},
   "outputs": [
    {
     "data": {
      "text/plain": [
       "[{'name': 'Summer Camp 2025 - First Term',\n",
       "  'start_date': 'June 10th',\n",
       "  'end_date': 'July 6th',\n",
       "  'cost': '$7450',\n",
       "  'deposit': '$1000',\n",
       "  'eligible': '9-17 years old',\n",
       "  'duration': '5-day',\n",
       "  'location': 'null'},\n",
       " {'name': 'Summer Camp 2025 - Second Term',\n",
       "  'start_date': 'July 8th',\n",
       "  'end_date': 'August 3rd',\n",
       "  'cost': '$7450',\n",
       "  'deposit': '$1000',\n",
       "  'eligible': '9-17 years old',\n",
       "  'duration': '5-day',\n",
       "  'location': 'null'},\n",
       " {'name': 'Quarter B-4 2025 - Pikas - Pikas8 year-olds',\n",
       "  'start_date': 'August 5th',\n",
       "  'end_date': 'August 9th',\n",
       "  'cost': '$1250',\n",
       "  'deposit': '$500',\n",
       "  'eligible': '8-year-olds',\n",
       "  'duration': '5-day',\n",
       "  'location': 'null'},\n",
       " {'name': 'Quarter B-4 2025 - Pikas - Marmots9 & 10 year-olds',\n",
       "  'start_date': 'August 5th',\n",
       "  'end_date': 'August 9th',\n",
       "  'cost': '$1600',\n",
       "  'deposit': '$500',\n",
       "  'eligible': '8-year-olds',\n",
       "  'duration': '5-day',\n",
       "  'location': 'null'},\n",
       " {'name': 'Quarter B-4 2025 - Marmots - Pikas8 year-olds',\n",
       "  'start_date': 'August 5th',\n",
       "  'end_date': 'August 9th',\n",
       "  'cost': '$1250',\n",
       "  'deposit': '$500',\n",
       "  'eligible': '9-10 year-olds',\n",
       "  'duration': '5-day',\n",
       "  'location': 'null'},\n",
       " {'name': 'Quarter B-4 2025 - Marmots - Marmots9 & 10 year-olds',\n",
       "  'start_date': 'August 5th',\n",
       "  'end_date': 'August 9th',\n",
       "  'cost': '$1600',\n",
       "  'deposit': '$500',\n",
       "  'eligible': '9-10 year-olds',\n",
       "  'duration': '5-day',\n",
       "  'location': 'null'},\n",
       " {'name': 'Family Camp 2025 - Wagon of 4',\n",
       "  'start_date': 'August 5th',\n",
       "  'end_date': 'August 10th',\n",
       "  'cost': '$3300',\n",
       "  'deposit': '$1000',\n",
       "  'eligible': 'Families',\n",
       "  'duration': '5-day',\n",
       "  'location': 'null'},\n",
       " {'name': 'Family Camp 2025 - Each additional person',\n",
       "  'start_date': '',\n",
       "  'end_date': 'null',\n",
       "  'cost': '$500',\n",
       "  'deposit': '',\n",
       "  'eligible': 'Families',\n",
       "  'duration': '5-day',\n",
       "  'location': 'null'}]"
      ]
     },
     "execution_count": 11,
     "metadata": {},
     "output_type": "execute_result"
    }
   ],
   "source": [
    "def parse_table(title, age_range, table):\n",
    "    sessions = []\n",
    "    rows = table.find('tbody').find_all('tr')\n",
    "    for row in rows:\n",
    "        columns = row.find_all('td')\n",
    "        name = columns[0].get_text(strip=True).replace('\\u00a0', ' ')\n",
    "        dates = columns[1].get_text(strip=True).split(' to ')\n",
    "        start_date = dates[0]\n",
    "        end_date = dates[1] if len(dates) > 1 else \"null\"\n",
    "        cost = columns[2].get_text(strip=True)\n",
    "        deposit = columns[3].get_text(strip=True) if len(columns) > 3 else \"null\"\n",
    "        sessions.append({\n",
    "            \"name\": f\"{title} - {name}\",\n",
    "            \"start_date\": start_date,\n",
    "            \"end_date\": end_date,\n",
    "            \"cost\": cost,\n",
    "            \"deposit\": deposit,\n",
    "            \"eligible\": age_range,\n",
    "            \"duration\": \"5-day\" if \"5\" in title else \"27-day\",\n",
    "            \"location\": \"null\"\n",
    "        })\n",
    "    return sessions\n",
    "\n",
    "# Extract data for each camp\n",
    "all_sessions = []\n",
    "\n",
    "# Summer Camp 2025\n",
    "summer_title = \"Summer Camp 2025\"\n",
    "summer_age_range = \"9-17 years old\"\n",
    "summer_table = rd_soup.find('table', {'id': 'tablepress-31'})\n",
    "all_sessions.extend(parse_table(summer_title, summer_age_range, summer_table))\n",
    "\n",
    "# Quarter B-4 2025\n",
    "quarter_title = \"Quarter B-4 2025\"\n",
    "quarter_table = rd_soup.find('table', {'id': 'tablepress-32'})\n",
    "\n",
    "# Extracting Quarter B-4 Pikas and Marmots\n",
    "all_sessions.extend(parse_table(f\"{quarter_title} - Pikas\", \"8-year-olds\", quarter_table))\n",
    "all_sessions.extend(parse_table(f\"{quarter_title} - Marmots\", \"9-10 year-olds\", quarter_table))\n",
    "\n",
    "# Family Camp 2025\n",
    "family_title = \"Family Camp 2025\"\n",
    "family_age_range = \"Families\"\n",
    "family_table = rd_soup.find('table', {'id': 'tablepress-34'})\n",
    "all_sessions.extend(parse_table(family_title, family_age_range, family_table))\n",
    "\n",
    "all_sessions"
   ]
  },
  {
   "cell_type": "code",
   "execution_count": 12,
   "id": "36d8ea1a-eda0-4eb8-91ab-7635d8e3caf1",
   "metadata": {},
   "outputs": [
    {
     "name": "stdout",
     "output_type": "stream",
     "text": [
      "None\n"
     ]
    }
   ],
   "source": [
    "cat_url = 'https://www.cheley.com/activities/'\n",
    "\n",
    "cat = requests.get(cat_url, headers=HEADERS)\n",
    "cat_soup = BeautifulSoup(cat.content, 'lxml')\n",
    "category_tag = cat_soup.find('div', attrs={'class':'activities-lightbox-item__images'})\n",
    "print(category_tag)"
   ]
  },
  {
   "cell_type": "code",
   "execution_count": 17,
   "id": "bd5d0802-d2e9-4181-8e46-1cce5b94ff0d",
   "metadata": {},
   "outputs": [],
   "source": [
    "Cheley= [{\n",
    "    'name': website_name,  \n",
    "    'url': website_url,\n",
    "    # 'logo':logo_url,\n",
    "    'description':description,\n",
    "    'location': location_data,\n",
    "    'contact': contact_data,\n",
    "    'socials': socials,\n",
    "    'image_urls':images,\n",
    "    'sessions': all_sessions,\n",
    "\n",
    "}]\n",
    "file_path = 'cheley.json'\n",
    "\n",
    "# Export the dictionary to a JSON file\n",
    "with open(file_path, 'w') as json_file:\n",
    "    json.dump(Cheley, json_file, indent=4)"
   ]
  }
 ],
 "metadata": {
  "kernelspec": {
   "display_name": "Python 3 (ipykernel)",
   "language": "python",
   "name": "python3"
  },
  "language_info": {
   "codemirror_mode": {
    "name": "ipython",
    "version": 3
   },
   "file_extension": ".py",
   "mimetype": "text/x-python",
   "name": "python",
   "nbconvert_exporter": "python",
   "pygments_lexer": "ipython3",
   "version": "3.12.4"
  }
 },
 "nbformat": 4,
 "nbformat_minor": 5
}
