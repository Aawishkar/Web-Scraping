{
 "cells": [
  {
   "cell_type": "code",
   "execution_count": 4,
   "id": "862154f3-8330-4ea1-8028-3cc22b149ecd",
   "metadata": {},
   "outputs": [],
   "source": [
    "from bs4 import BeautifulSoup\n",
    "import requests\n",
    "import json\n",
    "import re\n"
   ]
  },
  {
   "cell_type": "code",
   "execution_count": 5,
   "id": "efe48d65-6044-4dc9-a53d-223191498b54",
   "metadata": {},
   "outputs": [],
   "source": [
    "Website_name='Mondamin'\n",
    "Website_url='https://www.mondamin.com/'\n",
    "HEADERS =({'User-Agent':'Mozilla/5.0 (Windows NT 10.0; Win64; x64) AppleWebKit/537.36 (KHTML, like Gecko) Chrome/131.0.0.0 Safari/537.36',\n",
    "                   'Accept-Language':'en-US, en;q=0.5'})\n",
    "\n",
    "home = requests.get(Website_url,headers=HEADERS)\n",
    "home_soup = BeautifulSoup(home.content, 'lxml')"
   ]
  },
  {
   "cell_type": "code",
   "execution_count": 6,
   "id": "9a2fe59f-b83c-4223-862b-2281b9c356f8",
   "metadata": {},
   "outputs": [],
   "source": [
    "description=[]\n",
    "desc1_table=home_soup.find_all('div',attrs={'class':'content-inner'})\n",
    "for i in desc1_table:\n",
    "    desc1=i.find('h1').text.strip()\n",
    "    description.append(desc1)\n",
    "    desc2=i.find('p').text.strip()\n",
    "    description.append(desc2)\n",
    "    \n",
    "desc2_table = home_soup.find_all('div', attrs={'class': 'content col-sm-12'})\n",
    "for j in desc2_table:\n",
    "    p_tags = j.find_all('p')\n",
    "    for p in p_tags:\n",
    "        description.append(p.text.strip().replace('\\u201c', '').replace('\\u201d', '').replace('\\u2019', ''))"
   ]
  },
  {
   "cell_type": "code",
   "execution_count": 7,
   "id": "fb207d75-2a5c-472e-9b34-2e3e214adf67",
   "metadata": {},
   "outputs": [],
   "source": [
    "Location='Mountains of Western North Carolina'"
   ]
  },
  {
   "cell_type": "code",
   "execution_count": 8,
   "id": "83d9cd28-5bc6-487e-bb69-36547e75fd03",
   "metadata": {},
   "outputs": [],
   "source": [
    "Telephone=home_soup.find('a',attrs={'class':'phone'}).text.strip()"
   ]
  },
  {
   "cell_type": "code",
   "execution_count": 9,
   "id": "e5438764-d9b5-4ec9-b45d-ece23cf94557",
   "metadata": {},
   "outputs": [],
   "source": [
    "Socials=[]\n",
    "Social_table=home_soup.find_all('div',attrs={'class':'social-media-links'})\n",
    "for i in Social_table:\n",
    "    links_table=i.find_all('a')\n",
    "    for link in links_table:\n",
    "        Socials.append(link.get('href'))"
   ]
  },
  {
   "cell_type": "code",
   "execution_count": 10,
   "id": "820c77c2-9185-4c20-b95a-5f6201ab3d52",
   "metadata": {},
   "outputs": [],
   "source": [
    "Mail='mondamin@mondamin.com'"
   ]
  },
  {
   "cell_type": "code",
   "execution_count": 11,
   "id": "69cd493f-2fba-4f69-a5c8-66f50882efc3",
   "metadata": {},
   "outputs": [],
   "source": [
    "dr_url = 'https://www.mondamin.com/2025-dates-rates'\n",
    "dr = requests.get(dr_url, headers=HEADERS)\n",
    "dr_soup = BeautifulSoup(dr.content, 'lxml')\n",
    "\n",
    "Camp_Details = []\n",
    "columns = dr_soup.find_all('div', class_='column-wrapper')\n",
    "\n",
    "for column in columns:\n",
    "    content = column.find('div', class_='column-content')\n",
    "    if not content:\n",
    "        continue \n",
    "\n",
    "    camp_names = content.find_all('h3')\n",
    "    camp_details = content.find_all('p')\n",
    "\n",
    "    for name, detail in zip(camp_names, camp_details):\n",
    "        details_text = detail.text.strip()\n",
    "        match = re.search(\n",
    "            r'(?P<Duration>.+?)Ages (?P<Age>\\d+–\\d+)\\s*(?P<Date>.+?)\\$(?P<Fee>\\d[\\d,]*)',\n",
    "            details_text\n",
    "        )\n",
    "        if match:\n",
    "            Camp_Details.append({\n",
    "                \"Name\": name.text.strip(),\n",
    "                \"Duration\": match.group(\"Duration\").strip(),\n",
    "                \"Age\": match.group(\"Age\").strip().replace('\\u2013',''),\n",
    "                \"Date\": match.group(\"Date\").strip().replace('\\u2013',''),\n",
    "                \"Fee\": f\"${match.group('Fee').strip()}\"\n",
    "            })\n"
   ]
  },
  {
   "cell_type": "code",
   "execution_count": 12,
   "id": "8fac60e7-7b55-4ad0-854d-2635a535cb26",
   "metadata": {},
   "outputs": [],
   "source": [
    "cat_url = 'https://www.mondamin.com/program/philosophy'\n",
    "cat = requests.get(cat_url, headers=HEADERS)\n",
    "cat_soup = BeautifulSoup(cat.content, 'lxml')\n",
    "\n",
    "Categories=[]\n",
    "category=cat_soup.find('div',attrs={'class':'content col-sm-11 col-md-10 col-lg-8'}).text.strip()\n",
    "description=cat_soup.find('div',attrs={'class':'content col-sm-12'}).text.strip().replace('\\n','')\n",
    "img='https://typewriter.imgix.net/u/68fed2ef-0e63-4b79-a96e-e80b38da4ecd/p/21039/DSC_7692.JPG?auto=format'\n",
    "Categories.append({\n",
    "                \"Category\": category,\n",
    "                \"Description\":description,\n",
    "                \"Image\":img\n",
    "            })"
   ]
  },
  {
   "cell_type": "code",
   "execution_count": 13,
   "id": "c0b70fb9-a8a5-4519-97db-eab0ad58bcf4",
   "metadata": {},
   "outputs": [],
   "source": [
    "act_url = 'https://www.mondamin.com/program/activities'\n",
    "act = requests.get(act_url, headers=HEADERS)\n",
    "act_soup = BeautifulSoup(act.content, 'lxml')\n",
    "\n",
    "Activities = []\n",
    "\n",
    "activities_table = act_soup.find_all('div', attrs={'class': 'content col-sm-12'})\n",
    "\n",
    "for section in activities_table:\n",
    "    activity_name = section.find('h2')\n",
    "    if activity_name:\n",
    "        activity_name = activity_name.text.strip()\n",
    "    \n",
    "    activity_desc = section.find('p')\n",
    "    if activity_desc:\n",
    "        activity_desc = activity_desc.text.strip().replace('\\u201c', '').replace('\\u201d', '').replace('\\u2019', '').replace('\\u2013','').replace('\\u2026','')\n",
    "\n",
    "    if activity_name and activity_desc:\n",
    "        Activities.append({\n",
    "            'Activity': activity_name,\n",
    "            'Description': activity_desc\n",
    "        })\n",
    "\n"
   ]
  },
  {
   "cell_type": "code",
   "execution_count": 15,
   "id": "d9d649b5-3fc8-4441-a217-e516286dc74d",
   "metadata": {},
   "outputs": [],
   "source": [
    "Mondamin= {\n",
    "    'Camp Name': Website_name,  \n",
    "    'URL': Website_url,\n",
    "    'Camp Description':description,\n",
    "    'Location': Location,\n",
    "    'Telephone': Telephone,\n",
    "    'Mail':Mail,\n",
    "    'Socials': Socials,\n",
    "    'Camp Details': Camp_Details,\n",
    "    'Categories': Categories,\n",
    "    'Activities': Activities\n",
    "}\n",
    "file_path = 'mondamin_data.json'\n",
    "\n",
    "# Export the dictionary to a JSON file\n",
    "with open(file_path, 'w') as json_file:\n",
    "    json.dump(Mondamin, json_file, indent=4)"
   ]
  }
 ],
 "metadata": {
  "kernelspec": {
   "display_name": "Python 3 (ipykernel)",
   "language": "python",
   "name": "python3"
  },
  "language_info": {
   "codemirror_mode": {
    "name": "ipython",
    "version": 3
   },
   "file_extension": ".py",
   "mimetype": "text/x-python",
   "name": "python",
   "nbconvert_exporter": "python",
   "pygments_lexer": "ipython3",
   "version": "3.12.4"
  }
 },
 "nbformat": 4,
 "nbformat_minor": 5
}
