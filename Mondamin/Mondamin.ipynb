{
 "cells": [
  {
   "cell_type": "code",
   "execution_count": 1,
   "id": "862154f3-8330-4ea1-8028-3cc22b149ecd",
   "metadata": {},
   "outputs": [],
   "source": [
    "from bs4 import BeautifulSoup\n",
    "import requests\n",
    "import json\n",
    "import re\n"
   ]
  },
  {
   "cell_type": "code",
   "execution_count": 2,
   "id": "efe48d65-6044-4dc9-a53d-223191498b54",
   "metadata": {},
   "outputs": [],
   "source": [
    "Website_name='Mondamin'\n",
    "Website_url='https://www.mondamin.com/'\n",
    "HEADERS =({'User-Agent':'Mozilla/5.0 (Windows NT 10.0; Win64; x64) AppleWebKit/537.36 (KHTML, like Gecko) Chrome/131.0.0.0 Safari/537.36',\n",
    "                   'Accept-Language':'en-US, en;q=0.5'})\n",
    "\n",
    "home = requests.get(Website_url,headers=HEADERS)\n",
    "home_soup = BeautifulSoup(home.content, 'lxml')"
   ]
  },
  {
   "cell_type": "code",
   "execution_count": 3,
   "id": "3401c3dd-a4b2-4214-826d-fb00ff3d761e",
   "metadata": {},
   "outputs": [
    {
     "data": {
      "text/plain": [
       "['https://typewriter.imgix.net/u/68fed2ef-0e63-4b79-a96e-e80b38da4ecd/p/137025/three-boys-in-dock.jpg?ixlib=rails-2.1.4&auto=format%2Ccompress&crop=faces&fit=crop&h=675&w=900',\n",
       " 'https://typewriter.imgix.net/u/68fed2ef-0e63-4b79-a96e-e80b38da4ecd/p/137028/DSC_7429.jpeg?ixlib=rails-2.1.4&auto=format%2Ccompress&crop=faces&fit=crop&h=675&w=900',\n",
       " 'https://typewriter.imgix.net/u/68fed2ef-0e63-4b79-a96e-e80b38da4ecd/p/137035/downgreenday012.jpeg?ixlib=rails-2.1.4&auto=format%2Ccompress&crop=faces&fit=crop&h=675&w=900',\n",
       " 'https://typewriter.imgix.net/u/68fed2ef-0e63-4b79-a96e-e80b38da4ecd/p/137031/LookingGlass32.jpeg?ixlib=rails-2.1.4&auto=format%2Ccompress&crop=faces&fit=crop&h=675&w=900',\n",
       " 'https://typewriter.imgix.net/u/68fed2ef-0e63-4b79-a96e-e80b38da4ecd/p/137030/JJM_9261.jpeg?ixlib=rails-2.1.4&auto=format%2Ccompress&crop=faces&fit=crop&h=675&w=900',\n",
       " 'https://typewriter.imgix.net/u/68fed2ef-0e63-4b79-a96e-e80b38da4ecd/p/137026/_JON7252.jpeg?ixlib=rails-2.1.4&auto=format%2Ccompress&crop=faces&fit=crop&h=675&w=900',\n",
       " 'https://typewriter.imgix.net/u/68fed2ef-0e63-4b79-a96e-e80b38da4ecd/p/137034/tugaloo009.jpeg?ixlib=rails-2.1.4&auto=format%2Ccompress&crop=faces&fit=crop&h=675&w=900',\n",
       " 'https://typewriter.imgix.net/u/68fed2ef-0e63-4b79-a96e-e80b38da4ecd/p/137027/_MG_4409.jpeg?ixlib=rails-2.1.4&auto=format%2Ccompress&crop=faces&fit=crop&h=675&w=900',\n",
       " 'https://typewriter.imgix.net/u/68fed2ef-0e63-4b79-a96e-e80b38da4ecd/p/137033/tugaloo004.jpeg?ixlib=rails-2.1.4&auto=format%2Ccompress&crop=faces&fit=crop&h=675&w=900',\n",
       " 'https://typewriter.imgix.net/u/68fed2ef-0e63-4b79-a96e-e80b38da4ecd/p/137029/IMG_0774.jpeg?ixlib=rails-2.1.4&auto=format%2Ccompress&crop=faces&fit=crop&h=675&w=900']"
      ]
     },
     "execution_count": 3,
     "metadata": {},
     "output_type": "execute_result"
    }
   ],
   "source": [
    "image_url = []\n",
    "img_table = home_soup.find_all('div', class_='slick-slide')\n",
    "img_table\n",
    "for img in img_table:\n",
    "    img_tag = img.find('img')\n",
    "    # print(img_tag)\n",
    "\n",
    "    url = img_tag.get('src')\n",
    "    image_url.append(url)\n",
    "\n",
    "image_url\n"
   ]
  },
  {
   "cell_type": "code",
   "execution_count": 4,
   "id": "9a2fe59f-b83c-4223-862b-2281b9c356f8",
   "metadata": {},
   "outputs": [],
   "source": [
    "description=[]\n",
    "desc1_table=home_soup.find_all('div',attrs={'class':'content-inner'})\n",
    "for i in desc1_table:\n",
    "    desc1=i.find('h1').text.strip()\n",
    "    description.append(desc1)\n",
    "    desc2=i.find('p').text.strip()\n",
    "    description.append(desc2)\n",
    "    \n",
    "desc2_table = home_soup.find_all('div', attrs={'class': 'content col-sm-12'})\n",
    "for j in desc2_table:\n",
    "    p_tags = j.find_all('p')\n",
    "    for p in p_tags:\n",
    "        description.append(p.text.strip().replace('\\u201c', '').replace('\\u201d', '').replace('\\u2019', ''))"
   ]
  },
  {
   "cell_type": "code",
   "execution_count": 10,
   "id": "fb207d75-2a5c-472e-9b34-2e3e214adf67",
   "metadata": {},
   "outputs": [
    {
     "data": {
      "text/plain": [
       "{'mail': 'mondamin@mondamin.com', 'telephone': '(828) 693-7446'}"
      ]
     },
     "execution_count": 10,
     "metadata": {},
     "output_type": "execute_result"
    }
   ],
   "source": [
    "Location='413 Mondamin Rd, Zirconia, NC'\n",
    "Zip_code='28790'\n",
    "Telephone=home_soup.find('a',attrs={'class':'phone'}).text.strip()\n",
    "Mail='mondamin@mondamin.com'\n",
    "\n",
    "# Location and Contact details in the desired format\n",
    "location_data = {\n",
    "    \"address\": Location,\n",
    "    \"zip_code\": Zip_code,\n",
    "    \"latitude\": '35.19663',  # You can replace this with actual latitude if needed\n",
    "    \"longitude\": '-82.47956'  # You can replace this with actual longitude if needed\n",
    "}\n",
    "\n",
    "contact_data = {\n",
    "    \"mail\": Mail,\n",
    "    \"telephone\": Telephone\n",
    "}\n",
    "location_data\n",
    "contact_data"
   ]
  },
  {
   "cell_type": "code",
   "execution_count": 12,
   "id": "e5438764-d9b5-4ec9-b45d-ece23cf94557",
   "metadata": {},
   "outputs": [
    {
     "data": {
      "text/plain": [
       "[{'facebook': 'https://www.facebook.com/Camps-Mondamin-and-Green-Cove-46724246730/'},\n",
       " {'pinterest': 'https://www.pinterest.com/campmondamin/'},\n",
       " {'instagram': 'https://www.instagram.com/campmondamin/'}]"
      ]
     },
     "execution_count": 12,
     "metadata": {},
     "output_type": "execute_result"
    }
   ],
   "source": [
    "Socials=[]\n",
    "Facebook = home_soup.find('a', attrs={'class': 'social facebook'}).get('href')\n",
    "Socials.append({'facebook': Facebook})\n",
    "\n",
    "# Add Pinterest link\n",
    "pinterest = home_soup.find('a', attrs={'class': 'social pinterest'}).get('href')\n",
    "Socials.append({'pinterest': pinterest})\n",
    "\n",
    "# Add Instagram link\n",
    "Instagram = home_soup.find('a', attrs={'class': 'social instagram'}).get('href')\n",
    "Socials.append({'instagram': Instagram})\n",
    "\n",
    "Socials"
   ]
  },
  {
   "cell_type": "code",
   "execution_count": 13,
   "id": "69cd493f-2fba-4f69-a5c8-66f50882efc3",
   "metadata": {},
   "outputs": [
    {
     "data": {
      "text/plain": [
       "[{'name': 'Junior Camp',\n",
       "  'duration': '5 Days',\n",
       "  'eligible': '6-10',\n",
       "  'start_date': 'Wed., 5/28',\n",
       "  'end_date': 'Sun., 6/1',\n",
       "  'cost': '$1,785',\n",
       "  'deposits': 'null',\n",
       "  'location': 'null'},\n",
       " {'name': 'June Camp',\n",
       "  'duration': '3 Weeks',\n",
       "  'eligible': '7-13',\n",
       "  'start_date': 'Wed., 6/4',\n",
       "  'end_date': 'Mon., 6/23',\n",
       "  'cost': '$6,100',\n",
       "  'deposits': 'null',\n",
       "  'location': 'null'},\n",
       " {'name': 'Main Camp',\n",
       "  'duration': '5 Weeks',\n",
       "  'eligible': '8-17',\n",
       "  'start_date': 'Fri., 6/27',\n",
       "  'end_date': 'Fri., 8/1',\n",
       "  'cost': '$8,600',\n",
       "  'deposits': 'null',\n",
       "  'location': 'null'},\n",
       " {'name': 'August Camp',\n",
       "  'duration': '10 days',\n",
       "  'eligible': '6-11',\n",
       "  'start_date': 'Tues., 8/5',\n",
       "  'end_date': 'Thurs, 8/14',\n",
       "  'cost': '$3,570',\n",
       "  'deposits': 'null',\n",
       "  'location': 'null'}]"
      ]
     },
     "execution_count": 13,
     "metadata": {},
     "output_type": "execute_result"
    }
   ],
   "source": [
    "import re\n",
    "import requests\n",
    "from bs4 import BeautifulSoup\n",
    "\n",
    "dr_url = 'https://www.mondamin.com/2025-dates-rates'\n",
    "dr = requests.get(dr_url, headers=HEADERS)\n",
    "dr_soup = BeautifulSoup(dr.content, 'lxml')\n",
    "\n",
    "Camp_Details = []\n",
    "columns = dr_soup.find_all('div', class_='column-wrapper')\n",
    "\n",
    "for column in columns:\n",
    "    content = column.find('div', class_='column-content')\n",
    "    if not content:\n",
    "        continue \n",
    "\n",
    "    camp_names = content.find_all('h3')\n",
    "    camp_details = content.find_all('p')\n",
    "\n",
    "    for name, detail in zip(camp_names, camp_details):\n",
    "        details_text = detail.text.strip()\n",
    "        match = re.search(\n",
    "            r'(?P<Duration>.+?)Ages (?P<Age>\\d+–\\d+)\\s*(?P<Date>.+?)\\$(?P<Fee>\\d[\\d,]*)',\n",
    "            details_text\n",
    "        )\n",
    "        if match:\n",
    "            # Extract dates and split into start_date and end_date\n",
    "            date_text = match.group(\"Date\").strip()\n",
    "            date_split = re.split(r'\\s*–\\s*|\\s+to\\s+', date_text)\n",
    "            start_date = date_split[0].strip()\n",
    "            end_date = date_split[1].strip() if len(date_split) > 1 else \"\"\n",
    "\n",
    "            # Fix age to ensure the dash is replaced with '-'\n",
    "            age = match.group(\"Age\").strip().replace('\\u2013', '-')\n",
    "\n",
    "            Camp_Details.append({\n",
    "                \"name\": name.text.strip(),\n",
    "                \"duration\": match.group(\"Duration\").strip(),\n",
    "                \"eligible\": age,\n",
    "                \"start_date\": start_date,\n",
    "                \"end_date\": end_date,\n",
    "                \"cost\": f\"${match.group('Fee').strip()}\",\n",
    "                \"deposits\":'null',\n",
    "                'location':'null'\n",
    "            })\n",
    "\n",
    "Camp_Details\n"
   ]
  },
  {
   "cell_type": "code",
   "execution_count": 14,
   "id": "8fac60e7-7b55-4ad0-854d-2635a535cb26",
   "metadata": {},
   "outputs": [],
   "source": [
    "cat_url = 'https://www.mondamin.com/program/philosophy'\n",
    "cat = requests.get(cat_url, headers=HEADERS)\n",
    "cat_soup = BeautifulSoup(cat.content, 'lxml')\n",
    "\n",
    "Categories=[]\n",
    "category=cat_soup.find('div',attrs={'class':'content col-sm-11 col-md-10 col-lg-8'}).text.strip()\n",
    "description=cat_soup.find('div',attrs={'class':'content col-sm-12'}).text.strip().replace('\\n','')\n",
    "img='https://typewriter.imgix.net/u/68fed2ef-0e63-4b79-a96e-e80b38da4ecd/p/21039/DSC_7692.JPG?auto=format'\n",
    "Categories.append({\n",
    "                \"name\": category,\n",
    "                \"description\":description,\n",
    "                \"image\":img\n",
    "            })"
   ]
  },
  {
   "cell_type": "code",
   "execution_count": 15,
   "id": "217a1e7a-a942-4937-b479-d55850422cca",
   "metadata": {},
   "outputs": [
    {
     "data": {
      "text/plain": [
       "[{'name': 'Swimming',\n",
       "  'description': 'Swimming is basic to safety on the waterfront, we want all campers to be at least at an intermediate level; those who are not take lessons at least once a day. Since ours is a non-competitive program, the emphasis is on form and endurance  not on speed. All swimming is supervised by lifeguards.',\n",
       "  'image_url': 'https://typewriter.imgix.net/u/68fed2ef-0e63-4b79-a96e-e80b38da4ecd/p/19624/IMGP1174.jpg?fit=crop&w=1600&h=1067&crop=faces&auto=format'},\n",
       " {'name': 'Canoeing & Kayaking',\n",
       "  'description': 'We begin on the lake, where we work on safety and basic strokes. When ready, campers take river trips, training at first on easy Class I and II rivers, then moving up in difficulty and challenge as they are able. We take easy river and lake trips for the inexperienced paddlers, and one to five day trips on Class III and IV rivers for those ready. We spend lots of time teaching how to read water, ferry, catch eddies, and play in the rivers many waves and hydraulics. We especially emphasize river safety and judgment.',\n",
       "  'image_url': 'https://typewriter.imgix.net/u/68fed2ef-0e63-4b79-a96e-e80b38da4ecd/p/19625/JON_5631.JPG?fit=crop&w=1600&h=1067&crop=faces&auto=format'},\n",
       " {'name': 'Mountain Biking',\n",
       "  'description': 'Mountain Biking is a wonderful way to cover a lot of rugged country quickly, and lends itself to our trail system beautifully. We have 800 acres of woodland, with many miles of easy to difficult trails. Most children bring basic skills from home and can apply them to our environment quickly. We take lots of day trips, and quite a few overnights as well. There are BMX bikes also, for those not ready for 21 speeds.',\n",
       "  'image_url': 'https://typewriter.imgix.net/u/68fed2ef-0e63-4b79-a96e-e80b38da4ecd/p/19626/JON_0308.jpg?fit=crop&w=1600&h=1067&crop=faces&auto=format'},\n",
       " {'name': 'Sailing',\n",
       "  'description': 'The fleet includes Flying Scots, Snipes, Lidos, Lasers and Optis - many of the same boats a local sailing club is likely to use. We like a variety of boats, that way, you learn to manage different rigs and different handling characteristics. Experienced sailors often take a couple of the boats to other, larger lakes (like 9,000 acre Lake Jocassee) to sail and camp for several days.',\n",
       "  'image_url': 'https://typewriter.imgix.net/u/68fed2ef-0e63-4b79-a96e-e80b38da4ecd/p/20830/JJM_4292.JPG?fit=crop&w=1600&h=1067&crop=faces&auto=format'},\n",
       " {'name': 'Horseback Riding',\n",
       "  'description': 'Riding begins with a good string of school horses, good facilities and systematic instruction. We own almost all of our horses, and have trained many of them. This enables us to maintain a good balance of mounts suitable for the needs of beginning, intermediate and advanced level riders. Facilities include rings of varying sizes, fields equipped for intermediate to advanced instruction, and many trails. We teach forward seat, English riding.',\n",
       "  'image_url': 'https://typewriter.imgix.net/u/68fed2ef-0e63-4b79-a96e-e80b38da4ecd/p/21829/DSC_7272.JPG?fit=crop&w=1600&h=1067&crop=faces&auto=format'},\n",
       " {'name': 'Mountaineering',\n",
       "  'description': 'For us, mountaineering includes backpacking and rock climbing  sometimes separately, sometimes hiking and climbing on the same trip. It also includes a climbing tower. We like to teach young people to be at home in the woods, rain or shine, on the trail or off. Pisgah Forest, the Great Smokies National Park and a number of other wilderness areas are nearby.',\n",
       "  'image_url': 'https://typewriter.imgix.net/u/68fed2ef-0e63-4b79-a96e-e80b38da4ecd/p/18753/linville079.jpg?fit=crop&w=1600&h=1067&crop=faces&auto=format'},\n",
       " {'name': 'Nature Program',\n",
       "  'description': 'Our Nature Lab aims to teach awareness and appreciation of the environment. The program bases its activities at the Nature Lab where we keep animals such as chickens, reptiles & amphibians, insects & spiders - but spends quite a bit of time out of camp as well, observing, collecting, and learning.',\n",
       "  'image_url': 'https://typewriter.imgix.net/u/68fed2ef-0e63-4b79-a96e-e80b38da4ecd/p/19633/DSC_4470.jpg?fit=crop&w=1600&h=1067&crop=faces&auto=format'},\n",
       " {'name': 'Fishing',\n",
       "  'description': 'Fishing fits well in our program as a lifelong outdoor skill that teaches patience and a deeper understanding of the natural world.  650-acre Lake Summit is home to several species of fish such as bluegill, sunfish, catfish and a few different bass.',\n",
       "  'image_url': 'https://typewriter.imgix.net/u/68fed2ef-0e63-4b79-a96e-e80b38da4ecd/p/144621/download.jpg?fit=crop&w=800&h=533&crop=faces&auto=format'},\n",
       " {'name': 'Boat Shop & Woodworking',\n",
       "  'description': 'Hands on carpentry and learning the patience required in this art is a hit with many of the boys.  The centerpiece of the program is Boat Shop in which boys are involved in the building of traditional canvas-covered wooden canoes. From steaming wood for bending, to painstakingly sanding and tacking ribs in place - they get to be a part of it all.  The shop is also for shorter and simpler woodworking projects from making mini-boats to engraving a cabin sign.',\n",
       "  'image_url': 'https://typewriter.imgix.net/u/68fed2ef-0e63-4b79-a96e-e80b38da4ecd/p/143347/IMG_0774.jpg?fit=crop&w=800&h=533&crop=faces&auto=format'},\n",
       " {'name': 'Arts & Crafts',\n",
       "  'description': 'Crafts at Mondamin is meant as a way to let the boys use the creative part of their brain and relax and learn a different set of talents in between our more high energy activities.  A typical summer might see them doing crafts such as tie-day, clay, copper enameling, painting, drawing, candle making, and turning items found on hikes in to projects. We almost always find something new to do every year.',\n",
       "  'image_url': 'https://typewriter.imgix.net/u/68fed2ef-0e63-4b79-a96e-e80b38da4ecd/p/137847/DSC_5358.JPG?fit=crop&w=800&h=533&crop=faces&auto=format'},\n",
       " {'name': 'Tennis & Pickleball',\n",
       "  'description': 'We like racket sports for their long-term value  they are lifelong games for young and old. Lessons are offered daily. We play mixed doubles occasionally with our sister camp, Green Cove.',\n",
       "  'image_url': 'https://typewriter.imgix.net/u/68fed2ef-0e63-4b79-a96e-e80b38da4ecd/p/137041/_MG_3114.JPG?fit=crop&w=800&h=533&crop=faces&auto=format'},\n",
       " {'name': 'Advanced Activities',\n",
       "  'description': 'More advanced levels of major activities (like advanced whitewater canoeing and kayaking, extended rock climbing trips, etc) are normally attainable only in the longer Main Session and it may require more than one summer to fully experience these more advanced adventures. However, even the shorter session packs a lot of adventure and we believe, gives kids a great opportunity to develop some skill.',\n",
       "  'image_url': 'https://typewriter.imgix.net/u/68fed2ef-0e63-4b79-a96e-e80b38da4ecd/p/143748/IMG_9326.JPG?fit=crop&w=800&h=533&crop=faces&auto=format'}]"
      ]
     },
     "execution_count": 15,
     "metadata": {},
     "output_type": "execute_result"
    }
   ],
   "source": [
    "# Define the URL and headers\n",
    "act_url = 'https://www.mondamin.com/program/activities'\n",
    "act = requests.get(act_url, headers=HEADERS)\n",
    "act_soup = BeautifulSoup(act.content, 'lxml')\n",
    "\n",
    "# Extract activities\n",
    "Activities = []\n",
    "activities_table = act_soup.find_all('div', attrs={'class': 'content col-sm-12'})\n",
    "\n",
    "for section in activities_table:\n",
    "    activity_name = section.find('h2')\n",
    "    if activity_name:\n",
    "        activity_name = activity_name.text.strip()\n",
    "    \n",
    "    activity_desc = section.find('p')\n",
    "    if activity_desc:\n",
    "        activity_desc = activity_desc.text.strip().replace('\\u201c', '').replace('\\u201d', '').replace('\\u2019', '').replace('\\u2013','').replace('\\u2026','')\n",
    "\n",
    "    if activity_name and activity_desc:\n",
    "        Activities.append({\n",
    "            'name': activity_name,\n",
    "            'description': activity_desc\n",
    "        })\n",
    "\n",
    "# Extract images starting from the second one\n",
    "image_urls = []\n",
    "sections = act_soup.find_all('section', id=lambda x: x and x.startswith(\"block-id-\"))\n",
    "for section in sections:\n",
    "    image_div = section.find('div', class_='container imgix-fluid-bg')\n",
    "    if image_div and 'data-src' in image_div.attrs:\n",
    "        image_urls.append(image_div['data-src'])\n",
    "\n",
    "# Add images to Activities starting from the second image\n",
    "for i, activity in enumerate(Activities):\n",
    "    if i + 1 < len(image_urls):  # Ensure there are enough images\n",
    "        activity['image_url'] = image_urls[i + 1]\n",
    "\n",
    "# Display updated Activities\n",
    "Activities\n"
   ]
  },
  {
   "cell_type": "code",
   "execution_count": 16,
   "id": "d9d649b5-3fc8-4441-a217-e516286dc74d",
   "metadata": {},
   "outputs": [],
   "source": [
    "Mondamin= [{\n",
    "    'name': Website_name,  \n",
    "    'url': Website_url,\n",
    "    'description':description,\n",
    "    'location': location_data,\n",
    "    'contact': contact_data,\n",
    "    'socials': Socials,\n",
    "    'image_urls':image_url,\n",
    "    'sessions': Camp_Details,\n",
    "    'categories': Categories,\n",
    "    'activities': Activities\n",
    "}]\n",
    "file_path = 'mondamin_data.json'\n",
    "\n",
    "# Export the dictionary to a JSON file\n",
    "with open(file_path, 'w') as json_file:\n",
    "    json.dump(Mondamin, json_file, indent=4)"
   ]
  }
 ],
 "metadata": {
  "kernelspec": {
   "display_name": "Python 3 (ipykernel)",
   "language": "python",
   "name": "python3"
  },
  "language_info": {
   "codemirror_mode": {
    "name": "ipython",
    "version": 3
   },
   "file_extension": ".py",
   "mimetype": "text/x-python",
   "name": "python",
   "nbconvert_exporter": "python",
   "pygments_lexer": "ipython3",
   "version": "3.12.4"
  }
 },
 "nbformat": 4,
 "nbformat_minor": 5
}
