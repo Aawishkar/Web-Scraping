{
 "cells": [
  {
   "cell_type": "code",
   "execution_count": 2,
   "id": "016efd65-f2c8-4d8e-b0f5-d508cdf49314",
   "metadata": {},
   "outputs": [],
   "source": [
    "from bs4 import BeautifulSoup\n",
    "import requests\n",
    "import json\n",
    "import re"
   ]
  },
  {
   "cell_type": "code",
   "execution_count": 3,
   "id": "6e6ae1cb-02c0-4b03-9fcf-223b712f9ac5",
   "metadata": {},
   "outputs": [
    {
     "data": {
      "text/plain": [
       "<Response [200]>"
      ]
     },
     "execution_count": 3,
     "metadata": {},
     "output_type": "execute_result"
    }
   ],
   "source": [
    "NewURL='https://campnorthstarmaine.com/activities/'\n",
    "HEADERS =({'User-Agent':'Mozilla/5.0 (Windows NT 10.0; Win64; x64) AppleWebKit/537.36 (KHTML, like Gecko) Chrome/131.0.0.0 Safari/537.36',\n",
    "                   'Accept-Language':'en-US, en;q=0.5'})\n",
    "\n",
    "r1 = requests.get(NewURL,headers=HEADERS)\n",
    "r1"
   ]
  },
  {
   "cell_type": "code",
   "execution_count": 4,
   "id": "aee2d2da-ea9f-47f7-b3ab-027cf3c1d05b",
   "metadata": {},
   "outputs": [],
   "source": [
    "new_soup = BeautifulSoup(r1.content, 'lxml') # If this line causes an error, run 'pip install html5lib' or install html5lib\n",
    "table = new_soup.find_all('div', attrs = {'class':'zoom_box'})"
   ]
  },
  {
   "cell_type": "code",
   "execution_count": 5,
   "id": "8de6ba84-8ce1-4095-8b47-9e2e601a15bc",
   "metadata": {},
   "outputs": [
    {
     "data": {
      "text/plain": [
       "[{'name': 'Theater Production',\n",
       "  'description': 'Step on stage for one of our two musical productions each summer.  Each camper chooses to be a part of our cast or set design team.',\n",
       "  'image': 'https://campnorthstarmaine.com/wp-content/uploads/2019/01/theater.jpg'},\n",
       " {'name': 'Woodworking',\n",
       "  'description': 'Our instructors teach safety skills needed to work with power tools so campers can create benches, clocks, walking sticks, bird houses and more.',\n",
       "  'image': 'https://campnorthstarmaine.com/wp-content/uploads/2018/12/art-woodworking.jpg'},\n",
       " {'name': 'Dance Studio',\n",
       "  'description': 'Learn under the instruction of teachers from Expansion Arts Dance Studio.  North Stars Dance Academy offers classes in hip-hop, jazz and modern.',\n",
       "  'image': 'https://campnorthstarmaine.com/wp-content/uploads/2018/12/art-dance.jpg'},\n",
       " {'name': 'Painting and Drawing Studio',\n",
       "  'description': 'From a blank canvas to a finished masterpiece using acrylic paint, pastels, charcoal, and colored pencils.  A variety of classic artwork and periods of art history are covered including Renaissance, Impressionism, and Modern.',\n",
       "  'image': 'https://campnorthstarmaine.com/wp-content/uploads/2018/12/art-painting.jpg'},\n",
       " {'name': 'Jewelry Making',\n",
       "  'description': 'Use our collection of glass beads, metal wire, fibers, paper, and ribbon to create wearable pieces. Campers explore different techniques include braiding, beading patterns, and wire coiling.',\n",
       "  'image': 'https://campnorthstarmaine.com/wp-content/uploads/2019/01/art-jewelry1.jpg'},\n",
       " {'name': 'Rock Band',\n",
       "  'description': 'Learn to play the guitar and drums with instruction from our staff of musicians and teachers.  Or, rock out and join one of North Stars bands that perform classic rock and top 40 songs.',\n",
       "  'image': 'https://campnorthstarmaine.com/wp-content/uploads/2018/12/art-band.jpg'},\n",
       " {'name': 'Digital Photography',\n",
       "  'description': 'Learn to operate a DSLR camera and how to frame great shots that become creative works of art after designing them in our computer lab.',\n",
       "  'image': 'https://campnorthstarmaine.com/wp-content/uploads/2019/01/digitalphoto.jpg'},\n",
       " {'name': 'Culinary Arts',\n",
       "  'description': 'North Stars gourmet cooking classes introduces campers to a variety of cuisines from American classics to international favorites.',\n",
       "  'image': 'https://campnorthstarmaine.com/wp-content/uploads/2018/12/art-cooking.jpg'},\n",
       " {'name': 'Rocketry',\n",
       "  'description': '3, 2, 1, blast off.  Design, build and launch a Stage 1 or Stage 2 rocket.',\n",
       "  'image': 'https://campnorthstarmaine.com/wp-content/uploads/2018/12/outdoor-rocketry.jpg'},\n",
       " {'name': 'Tech Department',\n",
       "  'description': 'Enter our computer studio filled with MacBooks and choose from a number of video production and radio broadcasting classes.',\n",
       "  'image': 'https://campnorthstarmaine.com/wp-content/uploads/2019/01/tech-dept.jpg'},\n",
       " {'name': 'Yoga Studio',\n",
       "  'description': 'Popular with both boys and girls who like to take a break from their action-packed day.  Yoga teaches campers to stretch, breathe, and focus.',\n",
       "  'image': 'https://campnorthstarmaine.com/wp-content/uploads/2019/01/yoga.jpg'},\n",
       " {'name': 'Stained Glass',\n",
       "  'description': 'Learn a craft that has been around since ancient times. Use techniques such as soldering, foiling, overlay, and glazing to design a stained glass artwork under the watchful eye of our art teachers',\n",
       "  'image': 'https://campnorthstarmaine.com/wp-content/uploads/2018/12/art-stainglass.jpg'},\n",
       " {'name': 'Ceramic Studio',\n",
       "  'description': 'Use the pottery wheel or hand-build to create a masterpiece. Learn to fabricate ceramic objects and how to use a variety of surface treatments such as glazing, under-glazing, sgraffito, and slip trailing.',\n",
       "  'image': 'https://campnorthstarmaine.com/wp-content/uploads/2018/12/art-ceramic.jpg'},\n",
       " {'name': 'Dungeons & Dragons',\n",
       "  'description': 'Create a mythical character and learn to play this classic role-playing game.',\n",
       "  'image': 'https://campnorthstarmaine.com/wp-content/uploads/2019/01/art-dungeon.jpg'},\n",
       " {'name': 'Fashion Design',\n",
       "  'description': 'Develop a design with lessons in drawing, proportion and garment construction, while also exploring the world of fashion.  From design to sewing, learn to create pajamas, handbags, pillows, and more!',\n",
       "  'image': 'https://campnorthstarmaine.com/wp-content/uploads/2019/01/art-fashion.jpg'},\n",
       " {'name': 'Book and Study Club',\n",
       "  'description': 'Pack a favorite book to read or take one out of North Stars library.  Bring a math or reading packet to camp and receive guidance from our teachers to complete the work.',\n",
       "  'image': 'https://campnorthstarmaine.com/wp-content/uploads/2019/01/art-book.jpg'},\n",
       " {'name': 'Baseball/Softball',\n",
       "  'description': 'Baseball & Softball – North Star offers both sports.  Our coaches focus on skill development for the beginner through advanced player in pitching, fielding and hitting.',\n",
       "  'image': 'https://campnorthstarmaine.com/wp-content/uploads/2018/12/athletic-baseball.jpg'},\n",
       " {'name': 'Tennis',\n",
       "  'description': 'North Stars Tennis Academy with our staff of tennis pros continue to improve our campers game.  We offer daily clinics and optional private lessons for all skill levels including the competitive player.',\n",
       "  'image': 'https://campnorthstarmaine.com/wp-content/uploads/2019/01/athletic-tennis.jpg'},\n",
       " {'name': 'Basketball',\n",
       "  'description': 'Hoop it up and learn from our experienced coaches.  Whether campers are new to the game or looking to make their school team, everyone receives the individualized instruction they need.  North Star also offers an intensive morning basketball program.',\n",
       "  'image': 'https://campnorthstarmaine.com/wp-content/uploads/2019/01/basketball-1.jpg'},\n",
       " {'name': 'Inter-Camp Games',\n",
       "  'description': 'Join one of North Stars teams as we compete against nearby camps in basketball, climbing, soccer, swim, and tennis.',\n",
       "  'image': 'https://campnorthstarmaine.com/wp-content/uploads/2019/01/intercamp.jpg'},\n",
       " {'name': 'Fitness',\n",
       "  'description': 'A healthy lifestyle includes staying physically fit.  Classes in running, conditioning and strength training will help campers meet their goals including participating in one of our 5K races.',\n",
       "  'image': 'https://campnorthstarmaine.com/wp-content/uploads/2019/01/fitness.jpg'},\n",
       " {'name': 'Golf',\n",
       "  'description': 'We partner with nearby Poland Spring Golf Resort to offer instruction from their PGA pros and use of their course, range and practice facility.',\n",
       "  'image': 'https://campnorthstarmaine.com/wp-content/uploads/2018/12/athletic-golf.jpg'},\n",
       " {'name': 'Soccer',\n",
       "  'description': 'North Stars soccer staff of college players and European semi-professionals focus on one-on-one instruction, drills, skill development and game strategy.',\n",
       "  'image': 'https://campnorthstarmaine.com/wp-content/uploads/2019/01/athletic-soccer.jpg'},\n",
       " {'name': 'Beach Volleyball',\n",
       "  'description': 'Step onto our sand courts and learn how to set, spike and serve.  Its a fun and fast-paced sport.',\n",
       "  'image': 'https://campnorthstarmaine.com/wp-content/uploads/2019/01/beachvolleyball.jpg'},\n",
       " {'name': 'Ultimate Frisbee',\n",
       "  'description': 'Its part soccer, part flag-football, with a Frisbee instead of a ball.  Play this fast-paced game and learn how to best throw and catch a Frisbee.',\n",
       "  'image': 'https://campnorthstarmaine.com/wp-content/uploads/2019/01/frisbee-1.jpg'},\n",
       " {'name': 'Lacrosse',\n",
       "  'description': \"Some campers at North Star are trying lacrosse for the very first time and others are learning advanced skills. Everyone enjoys playing America's fastest growing sport.\",\n",
       "  'image': 'https://campnorthstarmaine.com/wp-content/uploads/2019/01/athletic-lacrosse.jpg'},\n",
       " {'name': 'Rugby',\n",
       "  'description': 'Play on a field that is called a pitch, and learn that the best way to move the ball forward is to pass it backwards. Our staff of coaches from Europe and Australia teach this international game.',\n",
       "  'image': 'https://campnorthstarmaine.com/wp-content/uploads/2019/01/rugby.jpg'},\n",
       " {'name': 'Quidditch',\n",
       "  'description': 'Learn to play the sport inspired by the Harry Potter books and movies.  Hop on a broomstick and try to score a goal but beware of the snitch.',\n",
       "  'image': 'https://campnorthstarmaine.com/wp-content/uploads/2018/12/athletic-cricket.jpg'},\n",
       " {'name': 'Flag Football',\n",
       "  'description': 'Its a North Star favorite for boys and girls.  Each activity period focuses on improving individual football skills and playing a game on our own field.',\n",
       "  'image': 'https://campnorthstarmaine.com/wp-content/uploads/2018/12/athletic-flagfootball.jpg'},\n",
       " {'name': 'Rock Climbing',\n",
       "  'description': 'We are one of the few camps in the U.S. with natural rock formations.  Learn to climb and rappel a number of rock faces on our property.',\n",
       "  'image': 'https://campnorthstarmaine.com/wp-content/uploads/2018/12/outdoor-rockclimbing.jpg'},\n",
       " {'name': 'Ropes Course',\n",
       "  'description': 'Choose an adventure on the Zip Line, Giant Swing, Climbing Wall, Swinging Log, Dangling Duo and more.  Its always challenge by choice.',\n",
       "  'image': 'https://campnorthstarmaine.com/wp-content/uploads/2019/01/outdoor-ropes.jpg'},\n",
       " {'name': 'Outdoor Living Skills',\n",
       "  'description': 'From purifying water, to pitching a tent, to building a campfire, to using a compass, campers learn how to survive in the great outdoors.',\n",
       "  'image': 'https://campnorthstarmaine.com/wp-content/uploads/2019/01/outdoor-living.jpg'},\n",
       " {'name': 'Campfire Cooking',\n",
       "  'description': 'Our newly built program area offers hands-on classes that teach campers how to cook smores, breakfast favorites, full dinners and more all on an open fire.',\n",
       "  'image': 'https://campnorthstarmaine.com/wp-content/uploads/2019/01/campfire-cooking.jpg'},\n",
       " {'name': 'Mountain Biking',\n",
       "  'description': 'Hop on one of our bikes and learn the safety skills needed to conquer miles of off-road trails that weave their weave throughout our 200-acre property.',\n",
       "  'image': 'https://campnorthstarmaine.com/wp-content/uploads/2018/12/outdoor-mountainbiking.jpg'},\n",
       " {'name': 'Archery',\n",
       "  'description': 'Learn to use a compound and recurve bow on our range with training from our certified staff.',\n",
       "  'image': 'https://campnorthstarmaine.com/wp-content/uploads/2018/12/outdoor-archery.jpg'},\n",
       " {'name': 'Fishing',\n",
       "  'description': 'North Stars 55-acre lake is stocked each summer and ready for campers to reel in their big catch.',\n",
       "  'image': 'https://campnorthstarmaine.com/wp-content/uploads/2019/01/fishing.jpg'},\n",
       " {'name': 'Camping',\n",
       "  'description': 'Every camper has the opportunity to go on an overnight campout.  Juniors and Middies sleep out on a campsite on our property.  Seniors and CITs go on an overnight camping trip.',\n",
       "  'image': 'https://campnorthstarmaine.com/wp-content/uploads/2019/01/outdoor-camping.jpg'},\n",
       " {'name': 'Equestrian Center',\n",
       "  'description': 'Whether camper are new to the sport or a competitive rider, the experienced staff at Wilsonbrook Farm is ready to teach both English and Western style riding.  Enjoy their indoor riding arena and 100 acres of trails.',\n",
       "  'image': 'https://campnorthstarmaine.com/wp-content/uploads/2018/12/outdoor-horsebackriding.jpg'},\n",
       " {'name': 'Waterskiing',\n",
       "  'description': 'Its our most popular waterfront activity.  Whether campers are trying it for the first time or theyre ready to jump wakes, its an activity that everyone looks forward to.',\n",
       "  'image': 'https://campnorthstarmaine.com/wp-content/uploads/2018/12/water-waterskiing-1.jpg'},\n",
       " {'name': 'Windsurfing',\n",
       "  'description': 'Campers progress from simply learning to balance on the board, through tacking and jibbing, to using a harness and foot straps for all the wind-harnessing fun on our lake.',\n",
       "  'image': 'https://campnorthstarmaine.com/wp-content/uploads/2018/12/water-windsurfing.jpg'},\n",
       " {'name': 'Sailing',\n",
       "  'description': 'Theres nothing more beautiful than sailing on our 55-acre lake on a sunny summer day.  Learn to use our easy to handle Pico sailboats with classes in beginner through advanced.',\n",
       "  'image': 'https://campnorthstarmaine.com/wp-content/uploads/2018/12/water-sailing.jpg'},\n",
       " {'name': 'Kayaking/Canoeing',\n",
       "  'description': 'Paddle throughout our 55-acre lake.  Campers learn the J stroke and how to overturn and use a canoe for safety.  Everyone gets to explore by canoe or kayak to the beaver dam.',\n",
       "  'image': 'https://campnorthstarmaine.com/wp-content/uploads/2018/12/water-kayaking.jpg'},\n",
       " {'name': 'Wakeboarding',\n",
       "  'description': 'Its similar to water skiing but a small board is used instead of two skis. Campers have the option of choosing Wakeboarding or Waterskiing each day.',\n",
       "  'image': 'https://campnorthstarmaine.com/wp-content/uploads/2019/01/water-wakeboarding.jpg'},\n",
       " {'name': 'Swimming',\n",
       "  'description': 'Learn this important life skill.  Classes are offered in American Red Cross swim instruction, water aerobics, water polo, synchronized swimming and swim team.',\n",
       "  'image': 'https://campnorthstarmaine.com/wp-content/uploads/2018/12/water-swimming.jpg'},\n",
       " {'name': 'Water Park',\n",
       "  'description': 'Cool off and have fun on our Giant Slide, Trampoline, Jungle Jim, and Rock-It.',\n",
       "  'image': 'https://campnorthstarmaine.com/wp-content/uploads/2019/01/water-waterpark.jpg'},\n",
       " {'name': 'Paddleboarding',\n",
       "  'description': 'Step onto our standup paddleboards and learn different paddle techniques and safety practices while exploring our 55-acre lake.',\n",
       "  'image': 'https://campnorthstarmaine.com/wp-content/uploads/2019/01/water-paddleboarding.jpg'}]"
      ]
     },
     "execution_count": 5,
     "metadata": {},
     "output_type": "execute_result"
    }
   ],
   "source": [
    "Activity = []  \n",
    "Category = []  \n",
    "\n",
    "for i in table:\n",
    "    category_name = i.find('a').text.strip()  \n",
    "    url = i.find('a').get('href') \n",
    "    img_url = i.find('img').get('src')  \n",
    "    \n",
    "    Category.append({\"name\": category_name,'description':'null', \"image\": img_url})\n",
    "    \n",
    "\n",
    "    r1 = requests.get(url, headers=HEADERS)\n",
    "    soup = BeautifulSoup(r1.content, 'lxml')\n",
    "    activity_sections = soup.find_all('div', attrs={'class': 'zoom_box'})\n",
    "    \n",
    "    for section in activity_sections:\n",
    "\n",
    "        activity_name = section.find('h2').text.strip()\n",
    "        description = section.find('p').text.strip().replace(\"\\u2019\", \"\")\n",
    "        activity_img_url = section.find('img').get('src')  \n",
    "            \n",
    "        Activity.append({\n",
    "            \"name\": activity_name,\n",
    "            \"description\": description,\n",
    "            \"image\": activity_img_url\n",
    "        })\n",
    "\n",
    "Activity"
   ]
  },
  {
   "cell_type": "code",
   "execution_count": 11,
   "id": "037ef73f-42e9-4e34-8eac-7b2bccd6194c",
   "metadata": {},
   "outputs": [],
   "source": [
    "Description=['Make new friends. Develop essential life skills. Learn important values. That’s what being a North Star camper is all about. It doesn’t take long for campers to become part of our family and for our beautiful 200-acre property to become their summer home.']\n"
   ]
  },
  {
   "cell_type": "code",
   "execution_count": 14,
   "id": "40dfc6f4-4804-42e4-9507-8a0c52d60435",
   "metadata": {},
   "outputs": [
    {
     "name": "stdout",
     "output_type": "stream",
     "text": [
      "{'address': '200 Verrill Road Poland Spring, ME 04274', 'zip_code': '04274', 'latitude': '44.04558', 'longitude': '-70.38708'}\n",
      "{'mail': 'info@campnorthstarmaine.com', 'telephone': '207.998.4777'}\n"
     ]
    }
   ],
   "source": [
    "URL='https://campnorthstarmaine.com'\n",
    "\n",
    "r2 = requests.get(URL,headers=HEADERS)\n",
    "\n",
    "new_soup2 = BeautifulSoup(r2.content, 'lxml') # If this line causes an error, run 'pip install html5lib' or install html5lib\n",
    "table2 = new_soup2.find('div', attrs = {'class':'textwidget custom-html-widget'})\n",
    "\n",
    "Camp_name = table2.find('strong').text.strip()\n",
    "Email = table2.find('a').text.strip()\n",
    "p = table2.find('p').text.split('\\n')\n",
    "address = (p[2] + ' ' + p[3]).replace(\"\\r\", \"\").strip()\n",
    "Phone_number = p[4].replace(\"\\r\", \"\").strip()\n",
    "\n",
    "# Extract ZIP code from address (if possible)\n",
    "address_parts = address.split(',')\n",
    "zip_code = address.split()[-1]  # Last part as ZIP code\n",
    "\n",
    "# Latitude and Longitude values (use actual coordinates if needed)\n",
    "latitude = '44.04558'  # Replace with actual latitude\n",
    "longitude = '-70.38708'  # Replace with actual longitude\n",
    "\n",
    "# Format the location and contact details into dictionaries\n",
    "location_data = {\n",
    "    \"address\": address,\n",
    "    \"zip_code\": zip_code,\n",
    "    \"latitude\": latitude,\n",
    "    \"longitude\": longitude\n",
    "}\n",
    "\n",
    "contact_data = {\n",
    "    \"mail\": Email,\n",
    "    \"telephone\": Phone_number\n",
    "}\n",
    "\n",
    "# Output the results\n",
    "print(location_data)\n",
    "print(contact_data)"
   ]
  },
  {
   "cell_type": "code",
   "execution_count": 15,
   "id": "5f9e2495-be03-43b8-9744-c7f08567d318",
   "metadata": {},
   "outputs": [
    {
     "name": "stdout",
     "output_type": "stream",
     "text": [
      "https://campnorthstarmaine.com/wp-content/uploads/2018/10/northstar-logo.png\n"
     ]
    }
   ],
   "source": [
    "\n",
    "logo_tag = new_soup2.find('div', class_='logo').find('img')\n",
    "logo_url = logo_tag['src']\n",
    "print(logo_url)"
   ]
  },
  {
   "cell_type": "code",
   "execution_count": 16,
   "id": "bec37c53-5005-423a-babe-d47bca836acc",
   "metadata": {},
   "outputs": [
    {
     "name": "stdout",
     "output_type": "stream",
     "text": [
      "https://campnorthstarmaine.com/wp-content/uploads/2018/12/current-dropdown.jpg\n",
      "https://campnorthstarmaine.com/wp-content/uploads/2018/10/box2-experience.jpg\n",
      "https://campnorthstarmaine.com/wp-content/uploads/2019/01/box4-explorecamp1.jpg\n",
      "https://campnorthstarmaine.com/wp-content/uploads/2018/10/box3-meetdirector.jpg\n",
      "https://campnorthstarmaine.com/wp-content/uploads/2018/11/box2-experience-1-1.jpg\n",
      "https://campnorthstarmaine.com/wp-content/uploads/2019/01/box5-activities1-1.jpg\n",
      "https://campnorthstarmaine.com/wp-content/uploads/2018/10/box6-atrip.jpg\n"
     ]
    }
   ],
   "source": [
    "all_images = []\n",
    "\n",
    "# Extract images from <img> tags\n",
    "for img_tag in new_soup2.find_all('img'):\n",
    "    img_src = img_tag.get('src')\n",
    "    if img_src:\n",
    "        all_images.append(img_src)\n",
    "\n",
    "# Extract images from elements that contain background images (e.g., rs-sbg)\n",
    "for rs_sbg in new_soup2.find_all('rs-sbg'):\n",
    "    background_img = rs_sbg.get('data-lazyload')\n",
    "    if background_img:\n",
    "        all_images.append(background_img)\n",
    "\n",
    "images = [image for image in all_images if image.endswith('.jpg')]\n",
    "\n",
    "# Print the filtered list of JPG images\n",
    "for image_url in images:\n",
    "    print(image_url)"
   ]
  },
  {
   "cell_type": "code",
   "execution_count": 17,
   "id": "b74a6154-cb0c-469c-8432-f31054fc15c6",
   "metadata": {},
   "outputs": [
    {
     "data": {
      "text/plain": [
       "[{'facebook': 'http://www.facebook.com/cnsmaine'},\n",
       " {'instagram': 'http://instagram.com/cnsmaine'},\n",
       " {'twitter': 'http://www.twitter.com/campnorthstar'}]"
      ]
     },
     "execution_count": 17,
     "metadata": {},
     "output_type": "execute_result"
    }
   ],
   "source": [
    "# Get all elements with class 'ftsocial'\n",
    "social_links = new_soup.find_all('a', attrs={'class': 'ftsocial'})\n",
    "\n",
    "# Extract specific links\n",
    "Facebook = social_links[0].get('href')\n",
    "Instagram = social_links[2].get('href')\n",
    "Twitter = social_links[1].get('href')\n",
    "\n",
    "Socials = []\n",
    "\n",
    "Socials.append({'facebook': Facebook})\n",
    "\n",
    "Socials.append({'instagram': Instagram})\n",
    "\n",
    "Socials.append({'twitter': Twitter})\n",
    "\n",
    "Socials"
   ]
  },
  {
   "cell_type": "code",
   "execution_count": 18,
   "id": "dc7d7113-61a4-4705-9c49-0f4476a7f8f8",
   "metadata": {},
   "outputs": [
    {
     "data": {
      "text/plain": [
       "{'name': 'Summer Camp 2025',\n",
       " 'duration': '7 Weeks',\n",
       " 'cost': '$13,400',\n",
       " 'start_date': 'June 22',\n",
       " 'end_date': 'August 9',\n",
       " 'eligible': 'Rising 6th-11th graders',\n",
       " 'location': 'null',\n",
       " 'deposits': 'null'}"
      ]
     },
     "execution_count": 18,
     "metadata": {},
     "output_type": "execute_result"
    }
   ],
   "source": [
    "\n",
    "# Define the URL and headers\n",
    "URL3 = 'https://campnorthstarmaine.com/dates-rates/'\n",
    "\n",
    "# Fetch the page content\n",
    "r3 = requests.get(URL3, headers=HEADERS)\n",
    "new_soup3 = BeautifulSoup(r3.content, 'lxml')\n",
    "\n",
    "# Extract relevant data\n",
    "table3 = new_soup3.find_all('div', attrs={'class': 'plan-header'})\n",
    "table4 = new_soup3.find_all('div', attrs={'class': 'plan-inside'})\n",
    "\n",
    "Camp_Details = []\n",
    "\n",
    "# Process and split dates\n",
    "for idx, i in enumerate(table3[:10]):\n",
    "    camp_detail = {}\n",
    "\n",
    "    # Extract duration and fee\n",
    "    duration = i.find('h2').text.strip()\n",
    "    price = i.find('div', attrs={'class': 'price'}).text.strip()\n",
    "    camp_detail['name'] = 'Summer Camp 2025'\n",
    "    camp_detail['duration'] = duration\n",
    "    camp_detail['cost'] = price\n",
    "\n",
    "    # Extract and process dates\n",
    "    dates = table4[idx].find('h5').text.strip()\n",
    "    # Remove notes like \"(limited space)\" and clean multiple date ranges\n",
    "    date_ranges = re.split(r'\\*|\\(.*?\\)', dates)[0].strip()  # Remove notes in parentheses or asterisks\n",
    "    date_split = re.split(r'\\s*-\\s*', date_ranges)  # Split date range by \" - \"\n",
    "\n",
    "    # Handle start and end dates\n",
    "    if len(date_split) >= 2:\n",
    "        camp_detail['start_date'] = date_split[0].strip()\n",
    "        camp_detail['end_date'] = date_split[1].strip()\n",
    "    else:\n",
    "        camp_detail['start_date'] = date_ranges  # Use the full text if splitting isn't possible\n",
    "        camp_detail['end_date'] = None\n",
    "\n",
    "    # Add graders information\n",
    "    if idx < 5:\n",
    "        camp_detail['eligible'] = \"Rising 2nd-5th graders\"\n",
    "    else:\n",
    "        camp_detail['eligible'] = \"Rising 6th-11th graders\"\n",
    "    camp_detail['location'] = 'null'\n",
    "    camp_detail['deposits'] = 'null'\n",
    "\n",
    "    Camp_Details.append(camp_detail)\n",
    "\n",
    "camp_detail\n"
   ]
  },
  {
   "cell_type": "code",
   "execution_count": 19,
   "id": "c6abf60b-8992-4aa2-b067-40f23a3e0ad7",
   "metadata": {},
   "outputs": [],
   "source": [
    "Camp_North_Star = [{\n",
    "    'name': Camp_name,  \n",
    "    'url': URL,\n",
    "    'logo': logo_url,\n",
    "    'description':description,\n",
    "    'location': location_data,\n",
    "    'contact': contact_data,\n",
    "    'socials': Socials,\n",
    "    'image_urls':images,\n",
    "    'sessions': Camp_Details,\n",
    "    'categories': Category,\n",
    "    'activities': Activity\n",
    "}]\n",
    "camp_json = json.dumps(Camp_North_Star, indent=4)\n",
    "\n",
    "# To save the JSON to a file, you can use:\n",
    "with open('camp_north_star.json', 'w') as json_file:\n",
    "    json.dump(Camp_North_Star, json_file, indent=4)"
   ]
  }
 ],
 "metadata": {
  "kernelspec": {
   "display_name": "Python 3 (ipykernel)",
   "language": "python",
   "name": "python3"
  },
  "language_info": {
   "codemirror_mode": {
    "name": "ipython",
    "version": 3
   },
   "file_extension": ".py",
   "mimetype": "text/x-python",
   "name": "python",
   "nbconvert_exporter": "python",
   "pygments_lexer": "ipython3",
   "version": "3.12.4"
  }
 },
 "nbformat": 4,
 "nbformat_minor": 5
}
