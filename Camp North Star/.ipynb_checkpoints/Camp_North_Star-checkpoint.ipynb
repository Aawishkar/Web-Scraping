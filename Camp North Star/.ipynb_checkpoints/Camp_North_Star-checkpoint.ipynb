{
 "cells": [
  {
   "cell_type": "code",
   "execution_count": 2,
   "id": "016efd65-f2c8-4d8e-b0f5-d508cdf49314",
   "metadata": {},
   "outputs": [],
   "source": [
    "from bs4 import BeautifulSoup\n",
    "import requests\n",
    "import json"
   ]
  },
  {
   "cell_type": "code",
   "execution_count": 4,
   "id": "6e6ae1cb-02c0-4b03-9fcf-223b712f9ac5",
   "metadata": {},
   "outputs": [
    {
     "data": {
      "text/plain": [
       "<Response [200]>"
      ]
     },
     "execution_count": 4,
     "metadata": {},
     "output_type": "execute_result"
    }
   ],
   "source": [
    "NewURL='https://campnorthstarmaine.com/activities/'\n",
    "HEADERS =({'User-Agent':'Mozilla/5.0 (Windows NT 10.0; Win64; x64) AppleWebKit/537.36 (KHTML, like Gecko) Chrome/131.0.0.0 Safari/537.36',\n",
    "                   'Accept-Language':'en-US, en;q=0.5'})\n",
    "\n",
    "r1 = requests.get(NewURL,headers=HEADERS)\n",
    "r1"
   ]
  },
  {
   "cell_type": "code",
   "execution_count": 6,
   "id": "aee2d2da-ea9f-47f7-b3ab-027cf3c1d05b",
   "metadata": {},
   "outputs": [],
   "source": [
    "new_soup = BeautifulSoup(r1.content, 'lxml') # If this line causes an error, run 'pip install html5lib' or install html5lib\n",
    "table = new_soup.find_all('div', attrs = {'class':'zoom_box'})"
   ]
  },
  {
   "cell_type": "code",
   "execution_count": 17,
   "id": "f1e3a515-8ea5-4279-8e32-78037ce237b3",
   "metadata": {},
   "outputs": [],
   "source": [
    "Activity = []  # List to store activities\n",
    "Category = []  # List to store categories\n",
    "\n",
    "for i in table:\n",
    "    category_name = i.find('a').text.strip()  # Extract category name\n",
    "    url = i.find('a').get('href')  # Extract URL\n",
    "    img_url = i.find('img').get('src')  # Extract image URL\n",
    "    \n",
    "    # Add the category with the image URL to the Category list\n",
    "    Category.append({\"Category\": category_name, \"Image\": img_url})\n",
    "    \n",
    "    # Fetch and parse the page for activities\n",
    "    r1 = requests.get(url, headers=HEADERS)\n",
    "    soup = BeautifulSoup(r1.content, 'lxml')\n",
    "    activity_sections = soup.find_all('div', attrs={'class': 'zoom_box'})  # Update to correct section for activities\n",
    "    \n",
    "    for section in activity_sections:\n",
    "        try:\n",
    "            # Extract activity details\n",
    "            activity_name = section.find('h2').text.strip()\n",
    "            description = section.find('p').text.strip().replace(\"\\u2019\", \"\")\n",
    "            activity_img_url = section.find('img').get('src')  # Extract activity image URL\n",
    "            \n",
    "            # Add the activity with its image URL to the Activity list\n",
    "            Activity.append({\n",
    "                \"Activity\": activity_name,\n",
    "                \"Description\": description,\n",
    "                \"Image\": activity_img_url\n",
    "            })\n",
    "        except AttributeError:\n",
    "            continue  # Skip if any required field is missing\n"
   ]
  },
  {
   "cell_type": "code",
   "execution_count": 24,
   "id": "40dfc6f4-4804-42e4-9507-8a0c52d60435",
   "metadata": {},
   "outputs": [],
   "source": [
    "URL='https://campnorthstarmaine.com'\n",
    "\n",
    "r2 = requests.get(URL,headers=HEADERS)\n",
    "\n",
    "new_soup2 = BeautifulSoup(r2.content, 'lxml') # If this line causes an error, run 'pip install html5lib' or install html5lib\n",
    "table2 = new_soup2.find('div', attrs = {'class':'textwidget custom-html-widget'})\n",
    "\n",
    "Camp_name = table2.find('strong').text.strip()\n",
    "Email = table2.find('a').text\n",
    "p = table2.find('p').text.split('\\n')\n",
    "address=(p[2]+' '+p[3]).replace(\"\\r\", \"\")\n",
    "Phone_number= (p[4]).replace(\"\\r\", \"\")\n",
    "\n",
    "Socials=[]\n",
    "Social_table=new_soup2.find_all('div',attrs={'class':'textwidget custom-html-widget'})\n",
    "for i in Social_table[1:3]:\n",
    "    links_table=i.find_all('a')\n",
    "    for link in links_table:\n",
    "        Socials.append(link.get('href'))\n",
    "Socials\n",
    "\n",
    "Description=['Make new friends. Develop essential life skills. Learn important values. That’s what being a North Star camper is all about. It doesn’t take long for campers to become part of our family and for our beautiful 200-acre property to become their summer home.']"
   ]
  },
  {
   "cell_type": "code",
   "execution_count": 21,
   "id": "dc7d7113-61a4-4705-9c49-0f4476a7f8f8",
   "metadata": {},
   "outputs": [],
   "source": [
    "URL3 = 'https://campnorthstarmaine.com/dates-rates/'\n",
    "\n",
    "r3 = requests.get(URL3, headers=HEADERS)\n",
    "new_soup3 = BeautifulSoup(r3.content, 'lxml')\n",
    "\n",
    "\n",
    "table3 = new_soup3.find_all('div', attrs={'class': 'plan-header'})\n",
    "table4 = new_soup3.find_all('div', attrs={'class': 'plan-inside'})\n",
    "\n",
    "Camp_Details = []\n",
    "\n",
    "\n",
    "for idx, i in enumerate(table3[:10]):\n",
    "    camp_detail = {}\n",
    "\n",
    "    duration = i.find('h2').text.strip()\n",
    "    price = i.find('div', attrs={'class': 'price'}).text.strip()\n",
    "    camp_detail['Duration'] = duration\n",
    "    camp_detail['Fee'] = price\n",
    "\n",
    "\n",
    "    span = table4[idx].find('h5').text.strip()\n",
    "    camp_detail['Dates'] = span\n",
    "\n",
    "\n",
    "    if idx < 5:\n",
    "        camp_detail['Graders'] = \"Rising 2nd-5th graders\"\n",
    "    else:\n",
    "        camp_detail['Graders'] = \"Rising 6th-11th graders\"\n",
    "\n",
    "    Camp_Details.append(camp_detail)"
   ]
  },
  {
   "cell_type": "code",
   "execution_count": 27,
   "id": "c6abf60b-8992-4aa2-b067-40f23a3e0ad7",
   "metadata": {},
   "outputs": [],
   "source": [
    "Camp_North_Star = {\n",
    "    'Camp Name': Camp_name,  \n",
    "    'URL': URL,\n",
    "    'Camp Description':description,\n",
    "    'Location': address,\n",
    "    'Telephone': Phone_number,\n",
    "    'Mail':Email,\n",
    "    'Socials': Socials,\n",
    "    'Camp Details': Camp_Details,\n",
    "    'Categories': Category,\n",
    "    'Activities': Activity\n",
    "}\n",
    "camp_json = json.dumps(Camp_North_Star, indent=4)\n",
    "\n",
    "# To save the JSON to a file, you can use:\n",
    "with open('camp_north_star.json', 'w') as json_file:\n",
    "    json.dump(Camp_North_Star, json_file, indent=4)"
   ]
  }
 ],
 "metadata": {
  "kernelspec": {
   "display_name": "Python 3 (ipykernel)",
   "language": "python",
   "name": "python3"
  },
  "language_info": {
   "codemirror_mode": {
    "name": "ipython",
    "version": 3
   },
   "file_extension": ".py",
   "mimetype": "text/x-python",
   "name": "python",
   "nbconvert_exporter": "python",
   "pygments_lexer": "ipython3",
   "version": "3.12.4"
  }
 },
 "nbformat": 4,
 "nbformat_minor": 5
}
