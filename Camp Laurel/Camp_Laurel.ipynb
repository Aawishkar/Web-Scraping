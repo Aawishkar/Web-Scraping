{
 "cells": [
  {
   "cell_type": "code",
   "execution_count": 1,
   "id": "a45007aa-18d7-49ef-8f86-82af232a52ee",
   "metadata": {},
   "outputs": [],
   "source": [
    "from bs4 import BeautifulSoup\n",
    "import requests\n",
    "import json\n",
    "import re"
   ]
  },
  {
   "cell_type": "code",
   "execution_count": 2,
   "id": "03187013-675d-43c1-a86d-68ad3d9b40bd",
   "metadata": {},
   "outputs": [],
   "source": [
    "website_name='Camp Laurel'\n",
    "website_url='https://www.camplaurel.com/'\n",
    "HEADERS =({'User-Agent':'Mozilla/5.0 (Windows NT 10.0; Win64; x64) AppleWebKit/537.36 (KHTML, like Gecko) Chrome/131.0.0.0 Safari/537.36',\n",
    "                   'Accept-Language':'en-US, en;q=0.5'})\n",
    "\n",
    "home = requests.get(website_url,headers=HEADERS)\n",
    "home_soup = BeautifulSoup(home.content, 'lxml')"
   ]
  },
  {
   "cell_type": "code",
   "execution_count": 3,
   "id": "0148f907-49c1-406c-b6a3-0e489d616c2e",
   "metadata": {},
   "outputs": [
    {
     "data": {
      "text/plain": [
       "'Quality Maine CampingCamp Laurel, on the shores of Echo Lake in Maine’s Belgrade Lakes region, is known for taking great care of kids! Through our action-packed seven week experience, campers are exposed to a wide range of activities within our unique 6-part core program of Athletics, Waterfront, Adventure, Inter-Arts, Tennis and Equestrian. Our caring, nurturing and professional staff of coaches, educators and college students encourages our campers to develop new interests, gain new skills and discover new strengths.Learn More About OUR PROGRAM'"
      ]
     },
     "execution_count": 3,
     "metadata": {},
     "output_type": "execute_result"
    }
   ],
   "source": [
    "description=home_soup.find('div',attrs={'class':'inner-wrapper'}).text.strip()\n",
    "description"
   ]
  },
  {
   "cell_type": "code",
   "execution_count": 4,
   "id": "a1d03e93-8a5e-43cc-825a-ca3d53eb9144",
   "metadata": {},
   "outputs": [
    {
     "data": {
      "text/plain": [
       "'https://www.camplaurel.com/wp-content/uploads/2020/04/camp-laurel-maine-logo.png'"
      ]
     },
     "execution_count": 4,
     "metadata": {},
     "output_type": "execute_result"
    }
   ],
   "source": [
    "logo_tag = home_soup.find('div', class_='site-branding').find('img')\n",
    "logo_url = logo_tag['src'] if logo_tag else 'null'\n",
    "logo_url"
   ]
  },
  {
   "cell_type": "code",
   "execution_count": 8,
   "id": "8d7daac3-c268-43f5-bd04-d21cc46c9802",
   "metadata": {},
   "outputs": [
    {
     "name": "stdout",
     "output_type": "stream",
     "text": [
      "Location Data: {'address': ['PO Box 327, Readfield', 'PO Box 508, Westport'], 'zip_code': ['04355', '06881'], 'latitude': ['44.38940', '41.14170'], 'longitude': ['-69.95240', '-73.35850']}\n",
      "Contact Data: {'mail': 'summer@camplaurel.com', 'telephone': ['207-685-4945', '203-227-8866']}\n"
     ]
    }
   ],
   "source": [
    "contact_table = home_soup.find_all('div', attrs={'class': 'vcard'})\n",
    "\n",
    "# Initialize lists and variables\n",
    "location = []\n",
    "zip_code = []\n",
    "telephone = []\n",
    "mail = ''\n",
    "\n",
    "# Iterate through each vcard in the contact table\n",
    "for vcard in contact_table:\n",
    "    addresses = vcard.find_all('div', attrs={'class': 'adr'})\n",
    "    for address in addresses:\n",
    "        # Extract individual components\n",
    "        street_address = address.find('span', attrs={'class': 'street-address'})\n",
    "        locality = address.find('span', attrs={'class': 'locality'})\n",
    "        region = address.find('abbr', attrs={'class': 'region'})  # Corrected from 'abb' to 'abbr'\n",
    "        postal_code = address.find('span', attrs={'class': 'postal-code'})\n",
    "        \n",
    "        # Build the location string\n",
    "        location_parts = []\n",
    "        if street_address:\n",
    "            location_parts.append(street_address.text)\n",
    "        if locality:\n",
    "            location_parts.append(locality.text)\n",
    "        if region:\n",
    "            location_parts.append(region.text)\n",
    "        full_location = \", \".join(location_parts)\n",
    "        \n",
    "        # Append to location if not empty\n",
    "        if full_location:\n",
    "            location.append(full_location)\n",
    "        \n",
    "        # Append postal code\n",
    "        if postal_code:\n",
    "            zip_code.append(postal_code.text)\n",
    "\n",
    "    # Extract telephone numbers\n",
    "    telephones = vcard.find_all('a', attrs={'class': 'tel phone'})\n",
    "    for phone in telephones:\n",
    "        telephone.append(phone.text.strip())\n",
    "\n",
    "    # Extract email\n",
    "    email = vcard.find('a', attrs={'class': 'email'})\n",
    "    if email:\n",
    "        mail = email.get('href').replace('mailto:', '')\n",
    "\n",
    "lat=['44.38940','41.14170']\n",
    "lon=['-69.95240','-73.35850']\n",
    "\n",
    "# Create location_data dictionary with required fields\n",
    "location_data = {\n",
    "    \"address\": location,  # List of addresses\n",
    "    \"zip_code\": zip_code,  # List of ZIP codes\n",
    "    \"latitude\": lat,  # Replace with actual latitude if available\n",
    "    \"longitude\": lon  # Replace with actual longitude if available\n",
    "}\n",
    "\n",
    "# Create contact_data dictionary with email and telephone numbers\n",
    "contact_data = {\n",
    "    \"mail\": mail,\n",
    "    \"telephone\": telephone\n",
    "}\n",
    "\n",
    "# Print the data\n",
    "print(\"Location Data:\", location_data)\n",
    "print(\"Contact Data:\", contact_data)\n"
   ]
  },
  {
   "cell_type": "code",
   "execution_count": 9,
   "id": "df9e42cf-fae9-4c02-9c39-d4d51104a6db",
   "metadata": {},
   "outputs": [
    {
     "data": {
      "text/plain": [
       "[{'facebook': 'https://www.facebook.com/CampLaurel'},\n",
       " {'instagram': 'https://instagram.com/camplaurelmaine'}]"
      ]
     },
     "execution_count": 9,
     "metadata": {},
     "output_type": "execute_result"
    }
   ],
   "source": [
    "socials = []\n",
    "\n",
    "social_table = home_soup.find_all('div', attrs={'class': 'social'})\n",
    "\n",
    "# Iterate through the social table\n",
    "for social_div in social_table:\n",
    "    links = social_div.find_all('a')\n",
    "    for link in links[0:2]:\n",
    "        platform_name = link.text.strip().lower()  # Extract platform name (e.g., Facebook)\n",
    "        url = link['href']  # Extract the link URL\n",
    "        socials.append({platform_name: url})\n",
    "\n",
    "socials"
   ]
  },
  {
   "cell_type": "code",
   "execution_count": 10,
   "id": "c3ea02cc-a566-4c08-a92f-6521ba61e790",
   "metadata": {},
   "outputs": [
    {
     "data": {
      "text/plain": [
       "['https://www.camplaurel.com/wp-content/themes/laurel/img/Camp-Laurel-Home-Montage-Poster-2020.jpg',\n",
       " 'https://www.camplaurel.com/wp-content/themes/laurel/img/Camp-Laurel-Home-Montage-Poster-2020.jpg',\n",
       " 'https://laurel-media.s3.amazonaws.com/Camp-Laurel-Home-Montage-2020.mp4',\n",
       " 'https://www.camplaurel.com/wp-content/themes/laurel/img/home-footer-bg-default-lg.jpg']"
      ]
     },
     "execution_count": 10,
     "metadata": {},
     "output_type": "execute_result"
    }
   ],
   "source": [
    "images = []\n",
    "\n",
    "# Extract image from 'hero-panel'\n",
    "hero_panels = home_soup.find_all('section', attrs={'class': 'hero-panel'})\n",
    "for section in hero_panels:\n",
    "    # Check for data-poster attribute\n",
    "    div = section.find('div', attrs={'id': 'home-video-wrap'})\n",
    "    if div:\n",
    "        # Extract data-poster\n",
    "        poster = div.get('data-poster')\n",
    "        if poster:\n",
    "            images.append(poster)\n",
    "        # Extract background-image URL if present\n",
    "        style = div.get('style')\n",
    "        if style and 'background-image' in style:\n",
    "            start_idx = style.find(\"url('\") + 5\n",
    "            end_idx = style.find(\"')\", start_idx)\n",
    "            img_url = style[start_idx:end_idx]\n",
    "            images.append(img_url)\n",
    "    # Extract video source URL\n",
    "    video = section.find('video')\n",
    "    if video:\n",
    "        source = video.find('source')\n",
    "        if source and source.get('src'):\n",
    "            # Ensure absolute URL\n",
    "            video_url = source.get('src')\n",
    "            if video_url.startswith('//'):\n",
    "                video_url = f\"https:{video_url}\"\n",
    "            images.append(video_url)\n",
    "\n",
    "# Extract images from 'footer-photo'\n",
    "footer_photos = home_soup.find_all('img', attrs={'class': 'footer-photo'})\n",
    "for img in footer_photos:\n",
    "    if img.get('src'):\n",
    "        images.append(img['src'])\n",
    "\n",
    "images\n"
   ]
  },
  {
   "cell_type": "code",
   "execution_count": 11,
   "id": "0ed24eb4-10c6-483f-a9b7-ea7593f235b7",
   "metadata": {},
   "outputs": [],
   "source": [
    "rd_url = 'https://www.camplaurel.com/about-camp-laurel/dates-fees/'\n",
    "rd = requests.get(rd_url, headers=HEADERS)\n",
    "rd_soup = BeautifulSoup(rd.content, 'lxml')"
   ]
  },
  {
   "cell_type": "code",
   "execution_count": 12,
   "id": "b0dc6023-7d2b-490e-b1da-73abc72c1fdd",
   "metadata": {},
   "outputs": [
    {
     "data": {
      "text/plain": [
       "<div class=\"entry-content\"><div class=\"full-width-bg bring-it-in\"><h2 class=\"dates-fees-hdr\">2025 Camp Dates</h2><p class=\"camp-dates\"><span class=\"lab\">Camp Starts</span> <span class=\"date\">Saturday, June 21st</span></p><p class=\"camp-dates\"><span class=\"lab\">Camp Ends</span> <span class=\"date\">Wednesday, August 6th</span></p><p class=\"camp-dates\"><span class=\"lab\">Visiting Day</span> <span class=\"date\">Saturday, July 19th</span></p><p class=\"camp-dates tuition\"><br/><span class=\"lab tuit-lab\">2025 Tuition</span> <span class=\"date fee\">$17,100</span></p></div><div class=\"additional-charges bring-it-in\"><h3>Additional Charges:</h3><p class=\"camp-dates addt\"><span class=\"lab\">Trip Day/Personal Expenses</span> <span class=\"date fee\">$550</span></p><p class=\"camp-dates addt\"><span class=\"lab\">Equestrian (3 days a week, optional)</span> <span class=\"date fee\">$1500</span></p><p class=\"camp-dates addt\"><span class=\"lab\">Equestrian (5 days a week, optional)</span> <span class=\"date fee\">$2500</span></p><p class=\"camp-dates addt\"><span class=\"lab\">7th Grade Extended Trip</span> <span class=\"date fee\">$700</span></p><p class=\"camp-dates addt\"><span class=\"lab\">8th &amp; 9th Grade Extended Trip</span> <span class=\"date fee\">$950</span></p><p class=\"camp-dates addt\"><span class=\"lab\">Transportation</span> <span class=\"date fee trans-fee\">Varies by location</span></p></div></div>"
      ]
     },
     "execution_count": 12,
     "metadata": {},
     "output_type": "execute_result"
    }
   ],
   "source": [
    "rd_table= rd_soup.find('div', attrs={'class': 'entry-content'})\n",
    "rd_table"
   ]
  },
  {
   "cell_type": "code",
   "execution_count": 13,
   "id": "e0c5a55e-0275-4102-8b7a-463307ba0dde",
   "metadata": {},
   "outputs": [
    {
     "data": {
      "text/plain": [
       "[{'name': '2025 Summer Camp',\n",
       "  'start_date': 'Saturday, June 21st',\n",
       "  'end_date': 'Wednesday, August 6th',\n",
       "  'duration': 'null',\n",
       "  'cost': '$17,100',\n",
       "  'deposit': 'null',\n",
       "  'location': 'Readfield, ME',\n",
       "  'eligible': 'null'}]"
      ]
     },
     "execution_count": 13,
     "metadata": {},
     "output_type": "execute_result"
    }
   ],
   "source": [
    "sessions = []\n",
    "\n",
    "rd_table = rd_soup.find('div', attrs={'class': 'entry-content'})\n",
    "\n",
    "if rd_table:\n",
    "    camp_session = {}\n",
    "    # Extract name\n",
    "    camp_session['name'] = \"2025 Summer Camp\" \n",
    "    \n",
    "    start_date = rd_table.find('span', string='Camp Starts').find_next('span', attrs={'class': 'date'})\n",
    "    end_date = rd_table.find('span', string='Camp Ends').find_next('span', attrs={'class': 'date'})\n",
    "    camp_session['start_date'] = start_date.text if start_date else None\n",
    "    camp_session['end_date'] = end_date.text if end_date else None\n",
    "\n",
    "    # Calculate duration (manual calculation needed if possible)\n",
    "    camp_session['duration'] = \"null\"\n",
    "\n",
    "    # Extract cost\n",
    "    tuition = rd_table.find('span', string='2025 Tuition').find_next('span', attrs={'class': 'date fee'})\n",
    "    camp_session['cost'] = tuition.text if tuition else None\n",
    "\n",
    "    camp_session['deposit'] = 'null'\n",
    "\n",
    "    # Location and Eligibility (not available in the HTML)\n",
    "    camp_session['location'] = \"Readfield, ME\"\n",
    "    camp_session['eligible'] = \"null\"\n",
    "    \n",
    "    sessions.append(camp_session)\n",
    "\n",
    "sessions\n"
   ]
  },
  {
   "cell_type": "code",
   "execution_count": 14,
   "id": "3a7deaa4-eb54-4eef-850c-619cfdfd0507",
   "metadata": {},
   "outputs": [
    {
     "data": {
      "text/plain": [
       "[{'name': 'Waterfront and lake activities',\n",
       "  'description': 'Our expansive dock system anchors a dynamic swimming program featuring American Red Cross instruction. We have a fleet of 5 Championship Mastercraft Ski Boats, 6 Hobies, 10 Sunfish, 2 Lasers, a Vanguard 420 and Hunter 170, 30 canoes and kayaks, and 20 Stand-Up Paddleboards. The camp fronts on Echo Lake, a 3-mile long spring-fed lake. Laurel occupies more than 2500 feet of private shoreline.WaterskiingWakeboardingWakesurfingSailingStand-Up PaddleboardingFishingCanoeingKayakingSnorkelingSwim TeamSwimming InstructionRecreational Swimming',\n",
       "  'image': 'https://www.camplaurel.com/wp-content/uploads/2020/04/hero-waterfront.jpg'},\n",
       " {'name': 'Boys Sports and Athletics activities',\n",
       "  'description': 'Camp Laurel’s extensive sports program offers something for everyone. Five large athletic fields for soccer, baseball, football, lacrosse, softball and field hockey; a pro-sized hockey arena; a gymnastics center; numerous sports courts; a fitness center and fit-trail; five regulation basketball courts and an archery range allow campers to improve individual skill and experience the value of teamwork. Our sports program includes:SoccerFlag FootballBaseballBasketballLacrosseVolleyballRoller HockeyStreet HockeyGolfGymnasticsFitness and CardioWeight TrainingSpinRunningArcheryFieldhouse SportsCross TrainingUltimate Frisbee',\n",
       "  'image': 'https://www.camplaurel.com/wp-content/uploads/2020/04/hero-boys-athletics.jpg'},\n",
       " {'name': 'Girls Sports and Athletics activities',\n",
       "  'description': 'Camp Laurel’s extensive sports program offers something for everyone. Five large athletic fields for soccer, baseball, football, lacrosse, softball and field hockey; a pro-sized hockey arena; a gymnastics center; numerous sports courts; a fitness center and fit-trail; five regulation basketball courts and an archery range allow campers to improve individual skill and experience the value of teamwork. Our sports program includes:SoccerBasketballLacrosseVolleyballSoftballGolfField HockeyGymnasticsFitness and CardioWeight TrainingSpinRunningArcheryFieldhouse SportsCross TrainingYogaCheerleading and TumblingUltimate Frisbee',\n",
       "  'image': 'https://www.camplaurel.com/wp-content/uploads/2020/04/hero-girls-athletics.jpg'},\n",
       " {'name': 'Tennis Camp at Camp Laurel',\n",
       "  'description': 'Our tennis program is one of the finest in camping. The importance of this sport is emphasized by a well-qualified, mature staff and excellent facilities. Our 15 all-weather tennis courts are nestled in a central wooded area. Our program is under the direction of Intercollegiate Coaches.Professional Tennis InstructionTournaments and IntercampsTennis LaddersIntensive TennisDavis Cup Style Match Play',\n",
       "  'image': 'https://www.camplaurel.com/wp-content/uploads/2020/06/hero-tennis.jpg'},\n",
       " {'name': 'Outdoor adventure activities',\n",
       "  'description': 'A staff of more than 25 comprise our extensive Adventure Program, consisting of hiking and backpacking trips, a state-of-the-art Aerial Park, two Climbing Towers, a Bouldering Wall, mountain biking and an in-camp Discovery program exposing campers to the wonders of Maine.Overnight CampingBackpackingAerial ParkClimbingMountain BikingDiscovery',\n",
       "  'image': 'https://www.camplaurel.com/wp-content/uploads/2020/04/hero-adventure.jpg'},\n",
       " {'name': 'Creative and performing arts',\n",
       "  'description': 'Our Arts Center offers painting and drawing, culinary arts, ceramics, a fully-integrated digital recording studio, sculpture, metalsmithing and much more. Campers with a flair for performance participate in technical classes and frequent stage productions at the Laurel Theatre.Studio Art(painting, drawing, watercolors)MetalsmithingCeramicsComic Book IllustrationArts & CraftsChefCamp(Culinary Arts)Technical LightingStage Design & ConstructionMusic Theatre PerformancesRadio StationMusic ProductionSong WritingSong RecordingStage Make-UpImprov and ComedyCostumingVoiceHip HopModern DanceJazz DanceTap Dance',\n",
       "  'image': 'https://www.camplaurel.com/wp-content/uploads/2020/06/hero-inter-arts.jpg'},\n",
       " {'name': 'Equestrian and Horseback Riding program',\n",
       "  'description': 'Our Riding program features 20 horses and a full outdoor facility, as well as two 12-stall barns. Seven instructors are responsible for teaching and horse care.Riding is an optional program and campers elect to participate three to five times per week. Safety is paramount. The Program is instructional, balanced with fun and fostering a love of horses.Campers learn the essential basics of riding and have the opportunity to progress to an advanced level of horsemanship. There are occasional in-camp riding shows. Horse care and stable management are also part of the program. There is an “Intensive Riding” program for campers who have a keen interest in equine science.English Riding InstructionJumpingDressageStable ManagementHorse ShowsHorse Care',\n",
       "  'image': 'https://www.camplaurel.com/wp-content/uploads/2020/04/hero-equestrian.jpg'}]"
      ]
     },
     "execution_count": 14,
     "metadata": {},
     "output_type": "execute_result"
    }
   ],
   "source": [
    "categories = []\n",
    "activities = []\n",
    "\n",
    "# Iterate over each div containing activity buttons\n",
    "cat_table = home_soup.find_all('div', attrs={'class': 'flex-it activities-buttons'})\n",
    "\n",
    "for cat in cat_table:\n",
    "    links = cat.find_all('a', class_='btn-img')\n",
    "    \n",
    "    for link in links:\n",
    "        category_name = link.get('title')\n",
    "        category_url = link.get('href')\n",
    "        \n",
    "        # Make request to category link\n",
    "        full_url = f\"https://www.camplaurel.com{category_url}\"\n",
    "        category_page = requests.get(full_url, headers=HEADERS)\n",
    "        category_soup = BeautifulSoup(category_page.content, 'lxml')\n",
    "        \n",
    "        # Extract the image URL from the category page\n",
    "        image_tag = category_soup.find('img', class_='featured-image')\n",
    "        image_url = image_tag['src'] if image_tag else 'null'\n",
    "        \n",
    "        # Extract the description from the category page (assuming description is within a <div>)\n",
    "        description_tag = category_soup.find('div', class_='entry-content')\n",
    "        description = description_tag.get_text(strip=True) if description_tag else 'null'\n",
    "        \n",
    "        # Add the category to the categories list\n",
    "        categories.append({\n",
    "            'name': category_name,\n",
    "            'description': description,\n",
    "            'image': image_url\n",
    "        })\n",
    "        \n",
    "        # Extract the list of activities from the category page\n",
    "        activity_list = category_soup.find_all('ul', class_='wp-block-list')\n",
    "        \n",
    "        # Iterate through each <ul> tag and get the <li> items\n",
    "        for ul in activity_list:\n",
    "            for li in ul.find_all('li'):\n",
    "                activity_name = li.get_text(strip=True)\n",
    "                activities.append({\n",
    "                    'name': activity_name,\n",
    "                    'description': 'null',\n",
    "                    'image': 'null'\n",
    "                })\n",
    "\n",
    "categories"
   ]
  },
  {
   "cell_type": "code",
   "execution_count": 86,
   "id": "cc56b65e-cf2b-4c5e-92ad-6397735d7703",
   "metadata": {},
   "outputs": [
    {
     "data": {
      "text/plain": [
       "[{'name': 'Waterskiing', 'description': 'null', 'image_url': 'null'},\n",
       " {'name': 'Wakeboarding', 'description': 'null', 'image_url': 'null'},\n",
       " {'name': 'Wakesurfing', 'description': 'null', 'image_url': 'null'},\n",
       " {'name': 'Sailing', 'description': 'null', 'image_url': 'null'},\n",
       " {'name': 'Stand-Up Paddleboarding',\n",
       "  'description': 'null',\n",
       "  'image_url': 'null'},\n",
       " {'name': 'Fishing', 'description': 'null', 'image_url': 'null'},\n",
       " {'name': 'Canoeing', 'description': 'null', 'image_url': 'null'},\n",
       " {'name': 'Kayaking', 'description': 'null', 'image_url': 'null'},\n",
       " {'name': 'Snorkeling', 'description': 'null', 'image_url': 'null'},\n",
       " {'name': 'Swim Team', 'description': 'null', 'image_url': 'null'},\n",
       " {'name': 'Swimming Instruction', 'description': 'null', 'image_url': 'null'},\n",
       " {'name': 'Recreational Swimming', 'description': 'null', 'image_url': 'null'},\n",
       " {'name': 'Soccer', 'description': 'null', 'image_url': 'null'},\n",
       " {'name': 'Flag Football', 'description': 'null', 'image_url': 'null'},\n",
       " {'name': 'Baseball', 'description': 'null', 'image_url': 'null'},\n",
       " {'name': 'Basketball', 'description': 'null', 'image_url': 'null'},\n",
       " {'name': 'Lacrosse', 'description': 'null', 'image_url': 'null'},\n",
       " {'name': 'Volleyball', 'description': 'null', 'image_url': 'null'},\n",
       " {'name': 'Roller Hockey', 'description': 'null', 'image_url': 'null'},\n",
       " {'name': 'Street Hockey', 'description': 'null', 'image_url': 'null'},\n",
       " {'name': 'Golf', 'description': 'null', 'image_url': 'null'},\n",
       " {'name': 'Gymnastics', 'description': 'null', 'image_url': 'null'},\n",
       " {'name': 'Fitness and Cardio', 'description': 'null', 'image_url': 'null'},\n",
       " {'name': 'Weight Training', 'description': 'null', 'image_url': 'null'},\n",
       " {'name': 'Spin', 'description': 'null', 'image_url': 'null'},\n",
       " {'name': 'Running', 'description': 'null', 'image_url': 'null'},\n",
       " {'name': 'Archery', 'description': 'null', 'image_url': 'null'},\n",
       " {'name': 'Fieldhouse Sports', 'description': 'null', 'image_url': 'null'},\n",
       " {'name': 'Cross Training', 'description': 'null', 'image_url': 'null'},\n",
       " {'name': 'Ultimate Frisbee', 'description': 'null', 'image_url': 'null'},\n",
       " {'name': 'Soccer', 'description': 'null', 'image_url': 'null'},\n",
       " {'name': 'Basketball', 'description': 'null', 'image_url': 'null'},\n",
       " {'name': 'Lacrosse', 'description': 'null', 'image_url': 'null'},\n",
       " {'name': 'Volleyball', 'description': 'null', 'image_url': 'null'},\n",
       " {'name': 'Softball', 'description': 'null', 'image_url': 'null'},\n",
       " {'name': 'Golf', 'description': 'null', 'image_url': 'null'},\n",
       " {'name': 'Field Hockey', 'description': 'null', 'image_url': 'null'},\n",
       " {'name': 'Gymnastics', 'description': 'null', 'image_url': 'null'},\n",
       " {'name': 'Fitness and Cardio', 'description': 'null', 'image_url': 'null'},\n",
       " {'name': 'Weight Training', 'description': 'null', 'image_url': 'null'},\n",
       " {'name': 'Spin', 'description': 'null', 'image_url': 'null'},\n",
       " {'name': 'Running', 'description': 'null', 'image_url': 'null'},\n",
       " {'name': 'Archery', 'description': 'null', 'image_url': 'null'},\n",
       " {'name': 'Fieldhouse Sports', 'description': 'null', 'image_url': 'null'},\n",
       " {'name': 'Cross Training', 'description': 'null', 'image_url': 'null'},\n",
       " {'name': 'Yoga', 'description': 'null', 'image_url': 'null'},\n",
       " {'name': 'Cheerleading and Tumbling',\n",
       "  'description': 'null',\n",
       "  'image_url': 'null'},\n",
       " {'name': 'Ultimate Frisbee', 'description': 'null', 'image_url': 'null'},\n",
       " {'name': 'Professional Tennis Instruction',\n",
       "  'description': 'null',\n",
       "  'image_url': 'null'},\n",
       " {'name': 'Tournaments and Intercamps',\n",
       "  'description': 'null',\n",
       "  'image_url': 'null'},\n",
       " {'name': 'Tennis Ladders', 'description': 'null', 'image_url': 'null'},\n",
       " {'name': 'Intensive Tennis', 'description': 'null', 'image_url': 'null'},\n",
       " {'name': 'Davis Cup Style Match Play',\n",
       "  'description': 'null',\n",
       "  'image_url': 'null'},\n",
       " {'name': 'Overnight Camping', 'description': 'null', 'image_url': 'null'},\n",
       " {'name': 'Backpacking', 'description': 'null', 'image_url': 'null'},\n",
       " {'name': 'Aerial Park', 'description': 'null', 'image_url': 'null'},\n",
       " {'name': 'Climbing', 'description': 'null', 'image_url': 'null'},\n",
       " {'name': 'Mountain Biking', 'description': 'null', 'image_url': 'null'},\n",
       " {'name': 'Discovery', 'description': 'null', 'image_url': 'null'},\n",
       " {'name': 'Studio Art(painting, drawing, watercolors)',\n",
       "  'description': 'null',\n",
       "  'image_url': 'null'},\n",
       " {'name': 'Metalsmithing', 'description': 'null', 'image_url': 'null'},\n",
       " {'name': 'Ceramics', 'description': 'null', 'image_url': 'null'},\n",
       " {'name': 'Comic Book Illustration',\n",
       "  'description': 'null',\n",
       "  'image_url': 'null'},\n",
       " {'name': 'Arts & Crafts', 'description': 'null', 'image_url': 'null'},\n",
       " {'name': 'ChefCamp(Culinary Arts)',\n",
       "  'description': 'null',\n",
       "  'image_url': 'null'},\n",
       " {'name': 'Technical Lighting', 'description': 'null', 'image_url': 'null'},\n",
       " {'name': 'Stage Design & Construction',\n",
       "  'description': 'null',\n",
       "  'image_url': 'null'},\n",
       " {'name': 'Music Theatre Performances',\n",
       "  'description': 'null',\n",
       "  'image_url': 'null'},\n",
       " {'name': 'Radio Station', 'description': 'null', 'image_url': 'null'},\n",
       " {'name': 'Music Production', 'description': 'null', 'image_url': 'null'},\n",
       " {'name': 'Song Writing', 'description': 'null', 'image_url': 'null'},\n",
       " {'name': 'Song Recording', 'description': 'null', 'image_url': 'null'},\n",
       " {'name': 'Stage Make-Up', 'description': 'null', 'image_url': 'null'},\n",
       " {'name': 'Improv and Comedy', 'description': 'null', 'image_url': 'null'},\n",
       " {'name': 'Costuming', 'description': 'null', 'image_url': 'null'},\n",
       " {'name': 'Voice', 'description': 'null', 'image_url': 'null'},\n",
       " {'name': 'Hip Hop', 'description': 'null', 'image_url': 'null'},\n",
       " {'name': 'Modern Dance', 'description': 'null', 'image_url': 'null'},\n",
       " {'name': 'Jazz Dance', 'description': 'null', 'image_url': 'null'},\n",
       " {'name': 'Tap Dance', 'description': 'null', 'image_url': 'null'},\n",
       " {'name': 'English Riding Instruction',\n",
       "  'description': 'null',\n",
       "  'image_url': 'null'},\n",
       " {'name': 'Jumping', 'description': 'null', 'image_url': 'null'},\n",
       " {'name': 'Dressage', 'description': 'null', 'image_url': 'null'},\n",
       " {'name': 'Stable Management', 'description': 'null', 'image_url': 'null'},\n",
       " {'name': 'Horse Shows', 'description': 'null', 'image_url': 'null'},\n",
       " {'name': 'Horse Care', 'description': 'null', 'image_url': 'null'}]"
      ]
     },
     "execution_count": 86,
     "metadata": {},
     "output_type": "execute_result"
    }
   ],
   "source": [
    "activities"
   ]
  },
  {
   "cell_type": "code",
   "execution_count": 16,
   "id": "0885931d-a048-43e7-8873-ea1db2399d9a",
   "metadata": {},
   "outputs": [],
   "source": [
    "Camp_Laurel= [{\n",
    "    'name': website_name,  \n",
    "    'url': website_url,\n",
    "    'logo':logo_url,\n",
    "    'description':description,\n",
    "    'location': location_data,\n",
    "    'contact': contact_data,\n",
    "    'socials': socials,\n",
    "    'image_urls':images,\n",
    "    'sessions': sessions,\n",
    "    'categories': categories,\n",
    "    'activities': activities\n",
    "}]\n",
    "file_path = 'camp_laurel.json'\n",
    "\n",
    "# Export the dictionary to a JSON file\n",
    "with open(file_path, 'w') as json_file:\n",
    "    json.dump(Camp_Laurel, json_file, indent=4)"
   ]
  }
 ],
 "metadata": {
  "kernelspec": {
   "display_name": "Python 3 (ipykernel)",
   "language": "python",
   "name": "python3"
  },
  "language_info": {
   "codemirror_mode": {
    "name": "ipython",
    "version": 3
   },
   "file_extension": ".py",
   "mimetype": "text/x-python",
   "name": "python",
   "nbconvert_exporter": "python",
   "pygments_lexer": "ipython3",
   "version": "3.12.4"
  }
 },
 "nbformat": 4,
 "nbformat_minor": 5
}
