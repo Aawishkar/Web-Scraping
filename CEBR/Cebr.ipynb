{
 "cells": [
  {
   "cell_type": "code",
   "execution_count": 5,
   "id": "40def5b7-be25-4a05-96f5-d0c26a267313",
   "metadata": {},
   "outputs": [],
   "source": [
    "from bs4 import BeautifulSoup\n",
    "import requests\n",
    "import json\n",
    "import re"
   ]
  },
  {
   "cell_type": "code",
   "execution_count": 6,
   "id": "dbe79dbb-0ef8-4dea-9eed-e28ef2f3d883",
   "metadata": {},
   "outputs": [],
   "source": [
    "website_name='Camps Equinunk and Blue Ridge'\n",
    "website_url='https://www.cecbr.com/'\n",
    "HEADERS =({'User-Agent':'Mozilla/5.0 (Windows NT 10.0; Win64; x64) AppleWebKit/537.36 (KHTML, like Gecko) Chrome/131.0.0.0 Safari/537.36',\n",
    "                   'Accept-Language':'en-US, en;q=0.5'})\n",
    "\n",
    "home = requests.get(website_url,headers=HEADERS)\n",
    "home_soup = BeautifulSoup(home.content, 'lxml')"
   ]
  },
  {
   "cell_type": "code",
   "execution_count": 7,
   "id": "4a2535c7-1c24-402b-b074-fc00f25401c9",
   "metadata": {},
   "outputs": [
    {
     "data": {
      "text/plain": [
       "'For generations, Camps Equinunk and Blue Ridge have created a wholesome environment of time-honored traditions and values that, by nurturing simplicity, integrity, kindness and inclusivity, build character. Our unique culture teaches campers and staff to respect themselves, others and the environment and helps them grow into responsible, caring adults and citizens.'"
      ]
     },
     "execution_count": 7,
     "metadata": {},
     "output_type": "execute_result"
    }
   ],
   "source": [
    "description=home_soup.find('p',attrs={'class':'intro bring-it-in let-it-breathe'}).text.strip()\n",
    "description"
   ]
  },
  {
   "cell_type": "code",
   "execution_count": 8,
   "id": "3296c3eb-7705-44d7-8e87-7129564d0826",
   "metadata": {},
   "outputs": [
    {
     "name": "stdout",
     "output_type": "stream",
     "text": [
      "https://www.cecbr.com/wp-content/themes/cecbr/img/logos.svg\n"
     ]
    }
   ],
   "source": [
    "logo_tag = home_soup.find('div', class_='site-branding').find_all('img')\n",
    "logo_url = logo_tag[1]['src']\n",
    "print(logo_url)"
   ]
  },
  {
   "cell_type": "code",
   "execution_count": 18,
   "id": "c765a578-1370-41f5-9ad4-4adfdd9cb5fe",
   "metadata": {},
   "outputs": [
    {
     "data": {
      "text/plain": [
       "({'address': 'P.O. Box 365, Equinunk, PA',\n",
       "  'zip_code': '18417',\n",
       "  'latitude': '41.80409',\n",
       "  'longitude': '-75.18124'},)"
      ]
     },
     "execution_count": 18,
     "metadata": {},
     "output_type": "execute_result"
    }
   ],
   "source": [
    "contact_table=home_soup.find('div',attrs={'class':'vcard'})\n",
    "contact_table\n",
    "# Extract location\n",
    "location = contact_table.find('span', class_='street-address').get_text(strip=True)\n",
    "locality = contact_table.find('span', class_='locality').get_text(strip=True)\n",
    "region = contact_table.find('abb', class_='region').get_text(strip=True)\n",
    "location = f\"{location}, {locality}, {region}\"\n",
    "\n",
    "zip_code = contact_table.find('span', class_='postal-code').get_text(strip=True)\n",
    "\n",
    "telephone = contact_table.find('a', class_='tel').get_text(strip=True)\n",
    "\n",
    "mail='info@cecbr.com'\n",
    "\n",
    "location= {\n",
    "        \"address\": location_full,\n",
    "        \"zip_code\": zip_code,\n",
    "        \"latitude\": '41.80409',\n",
    "        \"longitude\": '-75.18124'\n",
    "    },\n",
    "contact= {\n",
    "        \"mail\": mail,\n",
    "        \"telephone\": telephone\n",
    "    }\n",
    "location"
   ]
  },
  {
   "cell_type": "code",
   "execution_count": 20,
   "id": "e227d7cb-863a-4821-9834-29714efd1c54",
   "metadata": {},
   "outputs": [
    {
     "data": {
      "text/plain": [
       "[{'facebook': 'https://www.facebook.com/CECBR'},\n",
       " {'instagram': 'https://instagram.com/equinunkblueridge'},\n",
       " {'youtube': 'https://www.youtube.com/channel/UCIQb-JOJ8huzMAjedwvPE2Q'},\n",
       " {'blog': 'https://www.cecbr.com/blog/'}]"
      ]
     },
     "execution_count": 20,
     "metadata": {},
     "output_type": "execute_result"
    }
   ],
   "source": [
    "# Initialize an empty list to store social media links\n",
    "socials = []\n",
    "\n",
    "# Locate the social media section\n",
    "social_bar = contact_table.select_one('div.social')\n",
    "if social_bar:\n",
    "    # Find all <a> tags within the social icons list\n",
    "    social_links = social_bar.find_all('a')\n",
    "    for link in social_links:\n",
    "        href = link.get('href', '').strip()  # Get the hyperlink and strip whitespace\n",
    "\n",
    "        # Check the URL for known platform names and append to the socials list\n",
    "        if 'facebook' in href:\n",
    "            socials.append({\"facebook\": href})\n",
    "        elif 'twitter' in href:\n",
    "            socials.append({\"twitter\": href})\n",
    "        elif 'youtube' in href:\n",
    "            socials.append({\"youtube\": href})\n",
    "        elif 'instagram' in href:\n",
    "            socials.append({\"instagram\": href})\n",
    "        elif 'blog' in href:\n",
    "            socials.append({\"blog\": href})\n",
    "\n",
    "website_url = \"https://www.cecbr.com\"\n",
    "for item in socials:\n",
    "    for key, value in item.items():\n",
    "        if value.startswith('/'):\n",
    "            item[key] = website_url + value\n",
    "\n",
    "socials\n"
   ]
  },
  {
   "cell_type": "code",
   "execution_count": 21,
   "id": "7bc443fb-2086-4e73-84b7-e12ee7497484",
   "metadata": {},
   "outputs": [
    {
     "data": {
      "text/plain": [
       "['https://www.cecbr.com/wp-content/themes/cecbr/img/tiles/tile-lg-b-brother-sister-experience.jpg',\n",
       " 'https://www.cecbr.com/wp-content/themes/cecbr/img/tiles/tile-lg-b-blue-ridge.jpg',\n",
       " 'https://www.cecbr.com/wp-content/themes/cecbr/img/tiles/tile-lg-b-equinunk.jpg',\n",
       " 'https://www.cecbr.com/wp-content/themes/cecbr/img/tiles/tile-lg-b-dates-fees-faqs.jpg',\n",
       " 'https://www.cecbr.com/wp-content/themes/cecbr/img/tiles/tile-lg-b-special-events.jpg',\n",
       " 'https://www.cecbr.com/wp-content/themes/cecbr/img/tiles/tile-lg-b-tour-camp.jpg',\n",
       " 'https://www.cecbr.com/wp-content/themes/cecbr/img/gaga-home-tile.jpg?v=2024',\n",
       " 'https://www.cecbr.com/wp-content/themes/cecbr/img/tiles/ebr-tile-winter-reunion-2024.jpg?v=2024',\n",
       " 'https://www.cecbr.com/wp-content/themes/cecbr/img/tiles/tile-lg-b-work-at-camp.jpg']"
      ]
     },
     "execution_count": 21,
     "metadata": {},
     "output_type": "execute_result"
    }
   ],
   "source": [
    "images_url = []\n",
    "\n",
    "img_tags = home_soup.find_all('img')\n",
    "\n",
    "for img in img_tags:\n",
    "    src = img.get('src', '')\n",
    "    if src and src.startswith(\"http\") and (\".jpeg\" in src or \".jpg\" in src or \".webp\" in src):\n",
    "        images_url.append(src)\n",
    "images_url"
   ]
  },
  {
   "cell_type": "code",
   "execution_count": 22,
   "id": "0f06df4f-eff5-403d-b0a4-f11a28968e03",
   "metadata": {},
   "outputs": [],
   "source": [
    "rd_url = 'https://www.cecbr.com/about-ebr-camps/dates-fees-faqs/'\n",
    "rd = requests.get(rd_url, headers=HEADERS)\n",
    "rd_soup = BeautifulSoup(rd.content, 'lxml')"
   ]
  },
  {
   "cell_type": "code",
   "execution_count": 23,
   "id": "4b045686-db65-45da-a43e-7922e81fa839",
   "metadata": {},
   "outputs": [
    {
     "data": {
      "text/plain": [
       "[<div class=\"wp-block-columns is-layout-flex wp-container-core-columns-is-layout-1 wp-block-columns-is-layout-flex\"><div class=\"wp-block-column dates is-layout-flow wp-block-column-is-layout-flow\" id=\"cecbr-dates\" style=\"flex-basis:60%\"><h2 class=\"wp-block-heading\">2025 Season</h2><p class=\"has-text-align-center intro\"><strong>New Family Picnic &amp; Meeting</strong><br/><em>Saturday, June 7th 2025</em></p><p class=\"has-text-align-center intro\"><strong>First Day of Camp</strong><br/><em>Sunday, June 29th 2025</em></p><p class=\"has-text-align-center intro\"><strong>Visiting Day</strong><br/><em>Saturday, July 19th 2025</em></p><p class=\"has-text-align-center intro\"><strong>Last Day of Camp</strong><br/><em>Saturday, August 16th 2025</em></p></div><div class=\"wp-block-column tuition is-layout-flow wp-block-column-is-layout-flow\" style=\"flex-basis:40%\"><h2 class=\"wp-block-heading\">2025 Fees</h2><p class=\"has-text-align-center rate\"><strong>$16,400</strong><br/>Tuition for enrollments received by 9/15/24</p><p class=\"has-text-align-center rate\"><strong>$16,700</strong><br/>Tuition for enrollments received on 9/16/24 or later</p><p class=\"has-text-align-center\"><strong>Available Credits:</strong></p><p class=\"has-text-align-center rate\">$300 (additional credit) for tuition paid in full by 9/15/24</p><p class=\"has-text-align-center\">$1,500 third sibling credit</p><p id=\"tuition-details\">The camp tuition includes all camp activities, day trips, canteen, waterfront and shower towel service, as well as travel from NY, NJ, CT, PA, and MD. Tuition does not cover the cost of camp baggage delivery, uniforms or overnight trips for high school aged campers.</p></div></div>]"
      ]
     },
     "execution_count": 23,
     "metadata": {},
     "output_type": "execute_result"
    }
   ],
   "source": [
    "rd_table= rd_soup.find_all('div', attrs={'class': 'wp-block-columns is-layout-flex wp-container-core-columns-is-layout-1 wp-block-columns-is-layout-flex'})\n",
    "rd_table"
   ]
  },
  {
   "cell_type": "code",
   "execution_count": 24,
   "id": "e6617a0a-8ba0-4160-bfd1-39f1ccbf6649",
   "metadata": {},
   "outputs": [
    {
     "name": "stdout",
     "output_type": "stream",
     "text": [
      "{\n",
      "    \"name\": \"2025 Season\",\n",
      "    \"duration\": null,\n",
      "    \"cost\": \"$16,400\",\n",
      "    \"start_date\": \"Sunday, June 29th 2025\",\n",
      "    \"end_date\": \"Saturday, August 16th 2025\",\n",
      "    \"location\": \"Equinunk, PA\",\n",
      "    \"deposits\": null,\n",
      "    \"eligible\": null\n",
      "}\n"
     ]
    }
   ],
   "source": [
    "# Locate the relevant section for 2025 Season\n",
    "season_section = rd_table[0]  # Assuming it's the first div in rd_table\n",
    "\n",
    "# Extract start and end dates\n",
    "dates_section = season_section.find('div', class_='dates')\n",
    "start_date = None\n",
    "end_date = None\n",
    "if dates_section:\n",
    "    events = dates_section.find_all('p', class_='intro')\n",
    "    for event in events:\n",
    "        name = event.find('strong').get_text(strip=True)\n",
    "        date = event.find('em').get_text(strip=True) if event.find('em') else None\n",
    "        if \"First Day\" in name:\n",
    "            start_date = date\n",
    "        elif \"Last Day\" in name:\n",
    "            end_date = date\n",
    "\n",
    "# Extract tuition cost\n",
    "fees_section = season_section.find('div', class_='tuition')\n",
    "cost = None\n",
    "if fees_section:\n",
    "    rates = fees_section.find_all('p', class_='rate')\n",
    "    for rate in rates:\n",
    "        if \"Tuition for enrollments received by\" in rate.get_text(strip=True):\n",
    "            match = re.search(r'\\$\\d{1,3}(?:,\\d{3})?', rate.get_text(strip=True))\n",
    "            if match:\n",
    "                cost = match.group(0)\n",
    "                break  # Stop after getting the first relevant tuition rate\n",
    "\n",
    "# Construct the desired dictionary\n",
    "season_details = {\n",
    "    \"name\": \"2025 Season\",\n",
    "    \"duration\": None,\n",
    "    \"cost\": cost,\n",
    "    \"start_date\": start_date,\n",
    "    \"end_date\": end_date,\n",
    "    \"location\": \"Equinunk, PA\",\n",
    "    \"deposits\": None,\n",
    "    \"eligible\": None\n",
    "}\n",
    "\n",
    "# Output the details\n",
    "import json\n",
    "print(json.dumps(season_details, indent=4))\n"
   ]
  },
  {
   "cell_type": "code",
   "execution_count": 25,
   "id": "ea32e691-3bc6-4942-ac2b-cb876acea70a",
   "metadata": {},
   "outputs": [],
   "source": [
    "cat_url = 'https://www.cecbr.com/about-ebr-camps/activities-facilities/'\n",
    "cat = requests.get(cat_url, headers=HEADERS)\n",
    "cat_soup = BeautifulSoup(cat.content, 'lxml')"
   ]
  },
  {
   "cell_type": "code",
   "execution_count": 26,
   "id": "303950e7-7710-4492-8568-d0b22e1e8870",
   "metadata": {},
   "outputs": [
    {
     "data": {
      "text/plain": [
       "[{'name': 'Athletics',\n",
       "  'description': 'Our athletic programs and facilities at Equinunk and Blue Ridge are top notch. Our coaches and instructors are highly credentialed professionals, and work throughout the year with high school and college athletes. Their talent is magnified in the camp setting by their ability to relate to your children and make learning simple and fun. Our CECBR campus features several sport facilities lit for night play so campers can enjoy our numerous athletic fields, courts, and gymnasiums in the evening!',\n",
       "  'image': 'null'},\n",
       " {'name': 'Waterfront',\n",
       "  'description': 'Our waterfront facilities are the “cool” places to be on warm summer days and are supervised by our experienced Red Cross certified lifeguards. Both our Equinunk and Blue Ridge campuses feature heated pools with saltwater filtration systems, and underwater sound systems and lights for night swims! The Waterfront, set on Union Lake, is home to our waterski program, which is incredibly popular amongst campers!',\n",
       "  'image': 'null'},\n",
       " {'name': 'Adventure',\n",
       "  'description': 'Our adventure program is structured for campers to “learn the ropes” with our dedicated and certified Adventure/Outdoor Exploration team!',\n",
       "  'image': 'null'},\n",
       " {'name': 'Creative Arts, Dance, Hobbies & Theater',\n",
       "  'description': 'Art, Dance, Music, Media and Theater at Equinunk & Blue Ridge allow campers to bring their imagination to life! Our programs, facilities, and staff inspire and guide campers through the many forms of artistic expression. Our Creative Arts Centers, ‘The Ridge’ at CBR, Hobby Center at CE, our amphitheater and dance studios are designed to inspire camper creativity and exposure to new possibilities.',\n",
       "  'image': 'null'}]"
      ]
     },
     "execution_count": 26,
     "metadata": {},
     "output_type": "execute_result"
    }
   ],
   "source": [
    "categories = []\n",
    "\n",
    "category_table = cat_soup.find('div', attrs={'id': 'modal-ready'})\n",
    "\n",
    "# Iterate through each category block\n",
    "category_blocks = category_table.find_all(['h2', 'p'])\n",
    "\n",
    "for block in category_blocks:\n",
    "    if block.name == 'h2' and 'wp-block-heading' in block.get('class', []):\n",
    "        category_name = block.get_text(strip=True)  # Extract the category name\n",
    "\n",
    "        # Look for the next <p> tag which should be the description\n",
    "        category_desc = None\n",
    "        next_sibling = block.find_next_sibling('p')\n",
    "        if next_sibling:\n",
    "            category_desc = next_sibling.get_text(strip=True)  # Extract description\n",
    "\n",
    "\n",
    "        categories.append({\n",
    "            'name': category_name,\n",
    "            'description': category_desc,\n",
    "            'image': 'null'\n",
    "        })\n",
    "\n",
    "categories"
   ]
  },
  {
   "cell_type": "code",
   "execution_count": 27,
   "id": "8e153e47-d218-4e70-a970-bf3332b92fe9",
   "metadata": {},
   "outputs": [
    {
     "data": {
      "text/plain": [
       "[{'name': 'Baseball', 'description': 'null', 'image': 'null'},\n",
       " {'name': 'Basketball', 'description': 'null', 'image': 'null'},\n",
       " {'name': 'Field Hockey', 'description': 'null', 'image': 'null'},\n",
       " {'name': 'Fitness', 'description': 'null', 'image': 'null'},\n",
       " {'name': 'Flag Football', 'description': 'null', 'image': 'null'},\n",
       " {'name': 'Frisbee Golf', 'description': 'null', 'image': 'null'},\n",
       " {'name': 'GAGA', 'description': 'null', 'image': 'null'},\n",
       " {'name': 'Golf', 'description': 'null', 'image': 'null'},\n",
       " {'name': 'Gymnastics', 'description': 'null', 'image': 'null'},\n",
       " {'name': 'Lacrosse', 'description': 'null', 'image': 'null'},\n",
       " {'name': 'Roller Hockey', 'description': 'null', 'image': 'null'},\n",
       " {'name': 'Soccer', 'description': 'null', 'image': 'null'},\n",
       " {'name': 'Softball', 'description': 'null', 'image': 'null'},\n",
       " {'name': 'Street Hockey', 'description': 'null', 'image': 'null'},\n",
       " {'name': 'Team Handball', 'description': 'null', 'image': 'null'},\n",
       " {'name': 'Tennis', 'description': 'null', 'image': 'null'},\n",
       " {'name': 'Ultimate Frisbee', 'description': 'null', 'image': 'null'},\n",
       " {'name': 'Volleyball', 'description': 'null', 'image': 'null'},\n",
       " {'name': 'Aqua Park at the Lake', 'description': 'null', 'image': 'null'},\n",
       " {'name': 'Boating', 'description': 'null', 'image': 'null'},\n",
       " {'name': 'Canoeing', 'description': 'null', 'image': 'null'},\n",
       " {'name': 'Fishing', 'description': 'null', 'image': 'null'},\n",
       " {'name': 'Kayaking', 'description': 'null', 'image': 'null'},\n",
       " {'name': 'Sailing', 'description': 'null', 'image': 'null'},\n",
       " {'name': 'Stand-up Paddle Boarding', 'description': 'null', 'image': 'null'},\n",
       " {'name': 'Swim (Instructional & Free)',\n",
       "  'description': 'null',\n",
       "  'image': 'null'},\n",
       " {'name': 'Tubing', 'description': 'null', 'image': 'null'},\n",
       " {'name': 'Water Polo', 'description': 'null', 'image': 'null'},\n",
       " {'name': 'Waterslide at Equinunk', 'description': 'null', 'image': 'null'},\n",
       " {'name': 'Waterskiing', 'description': 'null', 'image': 'null'},\n",
       " {'name': 'Wakeboarding', 'description': 'null', 'image': 'null'},\n",
       " {'name': 'Wakesurfing', 'description': 'null', 'image': 'null'},\n",
       " {'name': 'Archery', 'description': 'null', 'image': 'null'},\n",
       " {'name': 'Overnight Camping', 'description': 'null', 'image': 'null'},\n",
       " {'name': 'Cave', 'description': 'null', 'image': 'null'},\n",
       " {'name': 'Climbing Tower', 'description': 'null', 'image': 'null'},\n",
       " {'name': 'Climbing Wall', 'description': 'null', 'image': 'null'},\n",
       " {'name': 'Fencing', 'description': 'null', 'image': 'null'},\n",
       " {'name': 'High & Low Ropes Course', 'description': 'null', 'image': 'null'},\n",
       " {'name': 'Hiking', 'description': 'null', 'image': 'null'},\n",
       " {'name': 'Nature', 'description': 'null', 'image': 'null'},\n",
       " {'name': 'Orienteering', 'description': 'null', 'image': 'null'},\n",
       " {'name': 'Outdoor Exploration', 'description': 'null', 'image': 'null'},\n",
       " {'name': 'Treehouse', 'description': 'null', 'image': 'null'},\n",
       " {'name': 'Zip-Line', 'description': 'null', 'image': 'null'},\n",
       " {'name': 'Candle making', 'description': 'null', 'image': 'null'},\n",
       " {'name': 'Ceramics', 'description': 'null', 'image': 'null'},\n",
       " {'name': 'Cooking', 'description': 'null', 'image': 'null'},\n",
       " {'name': 'Crafts', 'description': 'null', 'image': 'null'},\n",
       " {'name': 'Dance', 'description': 'null', 'image': 'null'},\n",
       " {'name': 'Drama', 'description': 'null', 'image': 'null'},\n",
       " {'name': 'Jewelry Design', 'description': 'null', 'image': 'null'},\n",
       " {'name': 'Macramé', 'description': 'null', 'image': 'null'},\n",
       " {'name': 'Media', 'description': 'null', 'image': 'null'},\n",
       " {'name': 'Model making', 'description': 'null', 'image': 'null'},\n",
       " {'name': 'Music and Media', 'description': 'null', 'image': 'null'},\n",
       " {'name': 'Photography', 'description': 'null', 'image': 'null'},\n",
       " {'name': 'Painting & Sketching', 'description': 'null', 'image': 'null'},\n",
       " {'name': 'Robots', 'description': 'null', 'image': 'null'},\n",
       " {'name': 'Rocketry', 'description': 'null', 'image': 'null'},\n",
       " {'name': 'Screen printing', 'description': 'null', 'image': 'null'},\n",
       " {'name': 'Sculpture', 'description': 'null', 'image': 'null'},\n",
       " {'name': 'Sewing', 'description': 'null', 'image': 'null'},\n",
       " {'name': 'Textiles', 'description': 'null', 'image': 'null'},\n",
       " {'name': 'Tie-Dye', 'description': 'null', 'image': 'null'},\n",
       " {'name': 'Video', 'description': 'null', 'image': 'null'},\n",
       " {'name': 'Woodworking', 'description': 'null', 'image': 'null'}]"
      ]
     },
     "execution_count": 27,
     "metadata": {},
     "output_type": "execute_result"
    }
   ],
   "source": [
    "activities=[]\n",
    "activities_table = cat_soup.find_all('div', attrs={'class': 'activities-list'})\n",
    "activities_table\n",
    "for i in activities_table:\n",
    "    list=i.find_all('li')\n",
    "    for j in list:\n",
    "        activity=j.text.strip()\n",
    "        activities.append({'name':activity,'description':'null','image':'null'})\n",
    "\n",
    "activities"
   ]
  },
  {
   "cell_type": "code",
   "execution_count": 28,
   "id": "01c9ce6f-9bcc-42a1-b937-5288c94768ef",
   "metadata": {},
   "outputs": [],
   "source": [
    "Cebr= [{\n",
    "    'name': website_name,  \n",
    "    'url': website_url,\n",
    "    'logo':logo_url,\n",
    "    'description':description,\n",
    "    'location': location,\n",
    "    'contact': contact,\n",
    "    'socials': socials,\n",
    "    'image_urls':images_url,\n",
    "    'sessions': season_details,\n",
    "    'categories': categories,\n",
    "    'activities': activities\n",
    "}]\n",
    "file_path = 'cebr.json'\n",
    "\n",
    "# Export the dictionary to a JSON file\n",
    "with open(file_path, 'w') as json_file:\n",
    "    json.dump(Cebr, json_file, indent=4)"
   ]
  }
 ],
 "metadata": {
  "kernelspec": {
   "display_name": "Python 3 (ipykernel)",
   "language": "python",
   "name": "python3"
  },
  "language_info": {
   "codemirror_mode": {
    "name": "ipython",
    "version": 3
   },
   "file_extension": ".py",
   "mimetype": "text/x-python",
   "name": "python",
   "nbconvert_exporter": "python",
   "pygments_lexer": "ipython3",
   "version": "3.12.4"
  }
 },
 "nbformat": 4,
 "nbformat_minor": 5
}
