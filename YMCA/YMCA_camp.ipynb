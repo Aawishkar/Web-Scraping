{
 "cells": [
  {
   "cell_type": "code",
   "execution_count": 2,
   "id": "d9d87df1-3b30-4bf7-9b40-282eecb7b3e4",
   "metadata": {},
   "outputs": [],
   "source": [
    "from bs4 import BeautifulSoup\n",
    "import requests\n",
    "import json\n",
    "import re"
   ]
  },
  {
   "cell_type": "code",
   "execution_count": 4,
   "id": "9c8f85dd-9eeb-4598-94b5-fb73f0e94355",
   "metadata": {},
   "outputs": [],
   "source": [
    "website_name='YMCA Camp Mason'\n",
    "website_url='https://campmason.org/'\n",
    "HEADERS =({'User-Agent':'Mozilla/5.0 (Windows NT 10.0; Win64; x64) AppleWebKit/537.36 (KHTML, like Gecko) Chrome/131.0.0.0 Safari/537.36',\n",
    "                   'Accept-Language':'en-US, en;q=0.5'})\n",
    "\n",
    "home = requests.get(website_url,headers=HEADERS)\n",
    "home_soup = BeautifulSoup(home.content, 'lxml')"
   ]
  },
  {
   "cell_type": "code",
   "execution_count": 7,
   "id": "5a154f4b-e5d7-47e8-a1d6-79980bd29684",
   "metadata": {},
   "outputs": [
    {
     "data": {
      "text/plain": [
       "['There is nothing quite like Summer Camp at Camp Mason.  Kids thrive in our welcoming community and stay busy with exciting and creative activities.',\n",
       " 'Take your class or community group on a trip to camp.  Plan your conference in the woods.  Spending focused time outdoors is good for everyone.  Let us make your time together meaningful, impactful and fun.',\n",
       " 'Help send a kid to camp.  Camp is where children gain confidence, develop independence and learn to live well with others.  It’s an experience that every child deserves.',\n",
       " 'Bring your people to camp for the weekend.  Take time to switch off, focus on each other and have a whole lot of fun!']"
      ]
     },
     "execution_count": 7,
     "metadata": {},
     "output_type": "execute_result"
    }
   ],
   "source": [
    "description_table=home_soup.find_all('div',attrs={'class':'section-desc'})\n",
    "description=[]\n",
    "for i in description_table:\n",
    "    descp=i.find('p').text.strip()\n",
    "    description.append(descp)\n",
    "\n",
    "description"
   ]
  },
  {
   "cell_type": "code",
   "execution_count": 21,
   "id": "74cfa224-a6d5-4d57-9d9b-dd984c4a5cb9",
   "metadata": {},
   "outputs": [
    {
     "data": {
      "text/plain": [
       "'https://campmason.org/yhdrlogo.png'"
      ]
     },
     "execution_count": 21,
     "metadata": {},
     "output_type": "execute_result"
    }
   ],
   "source": [
    "logo_tag = home_soup.find('a').find('img').get('src').replace('/','')\n",
    "logo_tag\n",
    "logo_url= website_url+logo_tag\n",
    "logo_url"
   ]
  },
  {
   "cell_type": "code",
   "execution_count": 34,
   "id": "6b01b57c-90a7-4753-9161-31ade8e2fc1c",
   "metadata": {},
   "outputs": [
    {
     "data": {
      "text/plain": [
       "['https://campmason.org/wp-content/uploads/2024/08/Mountain-Top-scaled.jpg',\n",
       " 'https://campmason.org/wp-content/uploads/2015/04/Lake-copy.jpg',\n",
       " 'https://campmason.org/wp-content/uploads/2021/10/2016-10-Y_BSE-SHOT5_0022-scaled.jpg',\n",
       " 'https://campmason.org/wp-content/uploads/2023/12/DSC_0140-scaled.jpg']"
      ]
     },
     "execution_count": 34,
     "metadata": {},
     "output_type": "execute_result"
    }
   ],
   "source": [
    "images_url = []\n",
    "\n",
    "# Find the container with the class 'fullpage-wrapper'\n",
    "image_table = home_soup.find('div', attrs={'class': 'fullpage-wrapper'})\n",
    "\n",
    "# Check if the container is found\n",
    "if image_table:\n",
    "    # Find all div elements with a style attribute containing 'background-image'\n",
    "    sections = image_table.find_all('div', style=True)\n",
    "    for section in sections:\n",
    "        style = section.get('style')\n",
    "        # Extract the URL from the background-image style using a simple split\n",
    "        if 'background-image' in style:\n",
    "            start = style.find('url(') + 4\n",
    "            end = style.find(')', start)\n",
    "            url = style[start:end].strip('\"').strip(\"'\")\n",
    "            images_url.append(url)\n",
    "\n",
    "images_url\n"
   ]
  },
  {
   "cell_type": "code",
   "execution_count": 52,
   "id": "fce3a34a-3e97-4a07-b349-c0957b352b0d",
   "metadata": {},
   "outputs": [
    {
     "data": {
      "text/plain": [
       "<div class=\"textwidget\"><div style=\"width: 45px; float: left;\"><a href=\"tel:1-908-362-8217\"><img alt=\"908-362-8217\" class=\"alignnone size-full wp-image-11387\" height=\"45\" src=\"https://campmason.org/wp-content/uploads/2015/04/mobile_phone.png\" width=\"45\"/></a></div>\n",
       "<div style=\"width: 45px; float: left;\"><a href=\"/about/contact/\"><img alt=\"Email\" class=\"alignnone size-full wp-image-11388\" height=\"45\" src=\"https://campmason.org/wp-content/uploads/2015/04/mobile_email.png\" width=\"45\"/></a></div>\n",
       "<div style=\"width: 45px; float: left;\"><a href=\"https://maps.google.com/maps?ll=41.035794,-74.953237&amp;z=11&amp;t=m&amp;hl=en-US&amp;gl=US&amp;mapclient=embed&amp;q=23%20Birch%20Ridge%20Rd%20Hardwick%2C%20NJ%2007825\"><img alt=\"mobile_map\" class=\"alignnone size-full wp-image-11389\" height=\"45\" src=\"https://campmason.org/wp-content/uploads/2015/04/mobile_map.png\" width=\"45\"/></a></div>\n",
       "<div style=\"clear: both;\"><strong>YMCA Camp Ralph S. Mason</strong><br/>\n",
       "23 Birch Ridge Road<br/>\n",
       "Hardwick, NJ 07825<br/>\n",
       "Phone: 908-362-8217<br/>\n",
       "Fax: 908-362-5767</div>\n",
       "<div style=\"clear: both;\">\n",
       "<a href=\"https://campmason.org/about/contact/\" title=\"Contact Us\">Contact Us</a><br/>\n",
       "<br/>\n",
       "For more about our location,\n",
       "and Bus &amp; Truck Driver directions:<br/>\n",
       "<a href=\"https://campmason.org/about/location-directions/\" title=\"Location/Directions\">Location/Directions</a><br/>\n",
       "<br/>\n",
       "For individual email addresses:<br/>\n",
       "<a href=\"https://campmason.org/about/staff/meet-our-staff/\" title=\"Meet Our Staff\">Meet Our Staff</a>\n",
       "</div></div>"
      ]
     },
     "execution_count": 52,
     "metadata": {},
     "output_type": "execute_result"
    }
   ],
   "source": [
    "contact_table=home_soup.find('div',attrs={'class':'textwidget'})\n",
    "contact_table"
   ]
  },
  {
   "cell_type": "code",
   "execution_count": 81,
   "id": "d2be6926-abf8-4fb6-bbfa-150c55018015",
   "metadata": {},
   "outputs": [
    {
     "data": {
      "text/plain": [
       "{'address': '23 Birch Ridge Road Hardwick, NJ 07825',\n",
       " 'zip_code': '07825',\n",
       " 'latitude': '41.035794',\n",
       " 'longitude': '-74.953237'}"
      ]
     },
     "execution_count": 81,
     "metadata": {},
     "output_type": "execute_result"
    }
   ],
   "source": [
    "location = {}\n",
    "\n",
    "# Extract address block\n",
    "address_block = contact_table.find('div', style=\"clear: both;\").get_text(separator=\" \").strip()\n",
    "\n",
    "location['address']= '23 Birch Ridge Road Hardwick, NJ 07825'\n",
    "\n",
    "# Extract zip code\n",
    "zip_match = re.search(r\"NJ (\\d+)\", address_block)\n",
    "if zip_match:\n",
    "    location['zip_code'] = zip_match.group(1)\n",
    "\n",
    "# Extract latitude and longitude from the Google Maps link\n",
    "map_link = contact_table.find('a', href=re.compile(\"maps.google.com/maps\"))\n",
    "if map_link:\n",
    "    map_href = map_link['href']\n",
    "    lat_lng_match = re.search(r\"ll=([-.\\d]+),([-.\\d]+)\", map_href)\n",
    "    if lat_lng_match:\n",
    "        location['latitude'] = lat_lng_match.group(1)\n",
    "        location['longitude'] = lat_lng_match.group(2)\n",
    "\n",
    "# Extract email (Placeholder since no email is explicitly visible)\n",
    "email_link = contact_table.find('a', href=re.compile(\"contact\"))\n",
    "location"
   ]
  },
  {
   "cell_type": "code",
   "execution_count": 134,
   "id": "40b33363-d1ac-477a-85b3-097d517c44f0",
   "metadata": {},
   "outputs": [],
   "source": [
    "mail = \"info@campmason.org\"\n",
    "telephone=\"908-362-8217\"\n",
    "contact={'mail':mail, 'telephone':telephone}"
   ]
  },
  {
   "cell_type": "code",
   "execution_count": 85,
   "id": "28f275b4-a354-48c7-b2a7-6b5656fc358c",
   "metadata": {},
   "outputs": [],
   "source": [
    "socials=[{'facebook': 'https://www.facebook.com/ymcacampmason'},\n",
    " {'instagram': 'https://www.instagram.com/ymcacampmason'}]"
   ]
  },
  {
   "cell_type": "code",
   "execution_count": 39,
   "id": "37231cce-d4ae-485b-89f4-e233bc5148ff",
   "metadata": {},
   "outputs": [
    {
     "data": {
      "text/plain": [
       "[<div class=\"price-table-wrapper\"><div class=\"cols-wrapper cols-4\"></div></div>,\n",
       " <div class=\"price-table-wrapper\"><div class=\"cols-wrapper cols-3\"><div class=\"col pt-col pt-highlight\"><div class=\"pt-title\" style=\"background-color:#0060af;\">Overnight Camp (2-Week Session)</div><div class=\"pt-price-box pt-position-left\"><span class=\"pt-cur\"></span><span class=\"pt-price\">$2,520</span><span class=\"pt-period\">per session</span></div><ul class=\"pt-features\"><li>For campers currently in 2nd - 10th grades.\n",
       " </li><li> </li><li>Session 1: June 22- July 5\n",
       " </li><li>Session 2: July 6- July 19\n",
       " </li><li>Session 3: July 20- August 2\n",
       " </li><li>Session 4: August 3- August 16</li></ul><div class=\"pt-button\"><a class=\"button\" href=\"https://campmason.org/?p=11247\" style=\"background-color:#0060af;\" target=\"_blank\">More Info</a></div></div><div class=\"col pt-col pt-highlight\"><div class=\"pt-title\" style=\"background-color:#0060af;\">Overnight Starter Camps (1-Week Session)</div><div class=\"pt-price-box pt-position-left\"><span class=\"pt-cur\"></span><span class=\"pt-price\">$1,390</span><span class=\"pt-period\">per session</span></div><ul class=\"pt-features\"><li>Ideal for the First Time Camper! Starter Camp is for campers currently in 2nd - 9th grades. \n",
       " </li><li>Starter Camp is offered:\n",
       " </li><li>A: June 22- June 28\n",
       " </li><li>B: June 29- July 5\n",
       " </li><li>C: July 20- July 26\n",
       " </li><li>D: July 27- August 2\n",
       " </li><li>E: August 3- August 9</li></ul><div class=\"pt-button\"><a class=\"button\" href=\"https://campmason.org/?p=11247\" style=\"background-color:#0060af;\" target=\"_blank\">More Info</a></div></div><div class=\"col pt-col pt-highlight\"><div class=\"pt-title\" style=\"background-color:#0060af;\">CIT Program (4-Week Session)</div><div class=\"pt-price-box pt-position-left\"><span class=\"pt-cur\"></span><span class=\"pt-price\">$3,600</span><span class=\"pt-period\">per session</span></div><ul class=\"pt-features\"><li>The CIT Program is a competitive program and is limited in its participants. Please complete a CIT Application to begin the application process. Stay-Over Weekend price is included in fee.\n",
       " </li><li> </li><li>CIT Session A: June 22- July 19\n",
       " </li><li>CIT Session B: July 20- August 16</li></ul><div class=\"pt-button\"><a class=\"button\" href=\"https://campmason.org/?p=11257\" style=\"background-color:#0060af;\" target=\"_blank\">More Info</a></div></div></div></div>]"
      ]
     },
     "execution_count": 39,
     "metadata": {},
     "output_type": "execute_result"
    }
   ],
   "source": [
    "rd_url = 'https://campmason.org/overnight-camp/overnight-camp-dates-and-rates/'\n",
    "rd = requests.get(rd_url, headers=HEADERS)\n",
    "rd_soup = BeautifulSoup(rd.content, 'lxml')\n",
    "rd_table= rd_soup.find_all('div', attrs={'class': 'price-table-wrapper'})\n",
    "rd_table"
   ]
  },
  {
   "cell_type": "code",
   "execution_count": 104,
   "id": "a4936270-b77e-4b00-a07c-5c19e629989a",
   "metadata": {},
   "outputs": [],
   "source": [
    "camp_details = []\n",
    "\n",
    "# Find all price-table-wrapper divs\n",
    "rd_table = rd_soup.find_all('div', attrs={'class': 'price-table-wrapper'})\n",
    "\n",
    "for table in rd_table:\n",
    "    columns = table.find_all('div', class_='col')\n",
    "    \n",
    "    for col in columns:\n",
    "        details = {}\n",
    "        \n",
    "        # Extract camp name and duration\n",
    "        title = col.find('div', class_='pt-title')\n",
    "        if title:\n",
    "            name_text = title.text.strip()\n",
    "            duration_match = re.search(r'\\(([^)]+)\\)', name_text)\n",
    "            if duration_match:\n",
    "                details['name'] = name_text.replace(f\" ({duration_match.group(1)})\", \"\").strip()\n",
    "                details['duration'] = duration_match.group(1)\n",
    "            else:\n",
    "                details['name'] = name_text\n",
    "                details['duration'] = None\n",
    "        \n",
    "        # Extract cost\n",
    "        price = col.find('span', class_='pt-price')\n",
    "        if price:\n",
    "            details['cost'] = price.text.strip()\n",
    "        \n",
    "        # Extract duration and eligibility\n",
    "        features = col.find('ul', class_='pt-features')\n",
    "        if features:\n",
    "            features_list = features.find_all('li')\n",
    "            if features_list:\n",
    "                # Eligibility\n",
    "                eligibility_match = re.search(r'2nd - \\d+th grades', features_list[0].text)\n",
    "                details['eligible'] = eligibility_match.group() if eligibility_match else None\n",
    "                \n",
    "                # Duration and session details\n",
    "                session_dates = []\n",
    "                for item in features_list[2:]:\n",
    "                    session_text = item.text.strip()\n",
    "                    match = re.match(r'(Session \\d|CIT Session [AB]|[A-E]): (\\w+ \\d+)- (\\w+ \\d+)', session_text)\n",
    "                    if match:\n",
    "                        session_dates.append({\n",
    "                            'start_date': match.group(2),\n",
    "                            'end_date': match.group(3)\n",
    "                        })\n",
    "                details['dates'] = session_dates\n",
    "\n",
    "        # Static fields (add manually or dynamically fetch later)\n",
    "        details['location'] = \"23 Birch Ridge Road, Hardwick\"\n",
    "        details['deposits'] = None\n",
    "\n",
    "        # Append the extracted details\n",
    "        camp_details.append(details)\n"
   ]
  },
  {
   "cell_type": "code",
   "execution_count": 103,
   "id": "a905908d-b547-42c9-80fb-3bae020aa396",
   "metadata": {},
   "outputs": [],
   "source": [
    "rd1_url = 'https://campmason.org/day-camp/day-camp-dates-and-rates/'\n",
    "rd1 = requests.get(rd1_url, headers=HEADERS)\n",
    "rd1_soup = BeautifulSoup(rd1.content, 'lxml')\n",
    "rd1_table= rd1_soup.find_all('div', attrs={'class': 'price-table-wrapper'})"
   ]
  },
  {
   "cell_type": "code",
   "execution_count": 105,
   "id": "6dce88ea-917b-4bf2-9da9-63979dc75870",
   "metadata": {},
   "outputs": [
    {
     "data": {
      "text/plain": [
       "[{'name': 'Overnight Camp',\n",
       "  'duration': '2-Week Session',\n",
       "  'cost': '$2,520',\n",
       "  'eligible': '2nd - 10th grades',\n",
       "  'dates': [{'start_date': 'June 22', 'end_date': 'July 5'},\n",
       "   {'start_date': 'July 6', 'end_date': 'July 19'},\n",
       "   {'start_date': 'July 20', 'end_date': 'August 2'},\n",
       "   {'start_date': 'August 3', 'end_date': 'August 16'}],\n",
       "  'location': '23 Birch Ridge Road, Hardwick',\n",
       "  'deposits': None},\n",
       " {'name': 'Overnight Starter Camps',\n",
       "  'duration': '1-Week Session',\n",
       "  'cost': '$1,390',\n",
       "  'eligible': '2nd - 9th grades',\n",
       "  'dates': [{'start_date': 'June 22', 'end_date': 'June 28'},\n",
       "   {'start_date': 'June 29', 'end_date': 'July 5'},\n",
       "   {'start_date': 'July 20', 'end_date': 'July 26'},\n",
       "   {'start_date': 'July 27', 'end_date': 'August 2'},\n",
       "   {'start_date': 'August 3', 'end_date': 'August 9'}],\n",
       "  'location': '23 Birch Ridge Road, Hardwick',\n",
       "  'deposits': None},\n",
       " {'name': 'CIT Program',\n",
       "  'duration': '4-Week Session',\n",
       "  'cost': '$3,600',\n",
       "  'eligible': None,\n",
       "  'dates': [{'start_date': 'June 22', 'end_date': 'July 19'},\n",
       "   {'start_date': 'July 20', 'end_date': 'August 16'}],\n",
       "  'location': '23 Birch Ridge Road, Hardwick',\n",
       "  'deposits': None},\n",
       " {'name': 'Day Camp',\n",
       "  'duration': 'One Week',\n",
       "  'cost': '$350',\n",
       "  'eligible': 'Kindergarten - 8th grade',\n",
       "  'start_date': 'June 23',\n",
       "  'end_date': 'August 15',\n",
       "  'location': '23 Birch Ridge Road, Hardwick',\n",
       "  'deposits': None},\n",
       " {'name': 'Day Camp',\n",
       "  'duration': 'Two Weeks',\n",
       "  'cost': '$700',\n",
       "  'eligible': 'Kindergarten - 8th grade',\n",
       "  'start_date': 'June 23',\n",
       "  'end_date': 'August 15',\n",
       "  'location': '23 Birch Ridge Road, Hardwick',\n",
       "  'deposits': None},\n",
       " {'name': 'Day Camp',\n",
       "  'duration': 'Three Weeks',\n",
       "  'cost': '$1050',\n",
       "  'eligible': 'Kindergarten - 8th grade',\n",
       "  'start_date': 'June 23',\n",
       "  'end_date': 'August 15',\n",
       "  'location': '23 Birch Ridge Road, Hardwick',\n",
       "  'deposits': None},\n",
       " {'name': 'Day Camp',\n",
       "  'duration': 'Four Weeks',\n",
       "  'cost': '$1302',\n",
       "  'eligible': 'Kindergarten - 8th grade',\n",
       "  'start_date': 'June 23',\n",
       "  'end_date': 'August 15',\n",
       "  'location': '23 Birch Ridge Road, Hardwick',\n",
       "  'deposits': None},\n",
       " {'name': 'Day Camp',\n",
       "  'duration': 'Five Weeks',\n",
       "  'cost': '$1592',\n",
       "  'eligible': 'Kindergarten - 8th grade',\n",
       "  'start_date': 'June 23',\n",
       "  'end_date': 'August 15',\n",
       "  'location': '23 Birch Ridge Road, Hardwick',\n",
       "  'deposits': None},\n",
       " {'name': 'Day Camp',\n",
       "  'duration': 'Six Weeks',\n",
       "  'cost': '$1869',\n",
       "  'eligible': 'Kindergarten - 8th grade',\n",
       "  'start_date': 'June 23',\n",
       "  'end_date': 'August 15',\n",
       "  'location': '23 Birch Ridge Road, Hardwick',\n",
       "  'deposits': None},\n",
       " {'name': 'Day Camp',\n",
       "  'duration': 'Seven Weeks',\n",
       "  'cost': '$2131',\n",
       "  'eligible': 'Kindergarten - 8th grade',\n",
       "  'start_date': 'June 23',\n",
       "  'end_date': 'August 15',\n",
       "  'location': '23 Birch Ridge Road, Hardwick',\n",
       "  'deposits': None},\n",
       " {'name': 'Day Camp',\n",
       "  'duration': 'Eight Weeks',\n",
       "  'cost': '$2380',\n",
       "  'eligible': 'Kindergarten - 8th grade',\n",
       "  'start_date': 'June 23',\n",
       "  'end_date': 'August 15',\n",
       "  'location': '23 Birch Ridge Road, Hardwick',\n",
       "  'deposits': None}]"
      ]
     },
     "execution_count": 105,
     "metadata": {},
     "output_type": "execute_result"
    }
   ],
   "source": [
    "price_table = rd1_soup.find('div', class_='price-table-wrapper')\n",
    "\n",
    "# If the price table exists, proceed with extracting the data\n",
    "if price_table:\n",
    "    cols = price_table.find_all('div', class_='col pt-col pt-highlight')\n",
    "    for col in cols:\n",
    "        weeks = col.find('div', class_='pt-title').text.strip()  # Extract weeks\n",
    "        price = col.find('span', class_='pt-price').text.strip()  # Extract price\n",
    "\n",
    "        # Append session data as a dictionary to the list\n",
    "        camp_details.append({\n",
    "            'name': 'Day Camp', \n",
    "            'duration': weeks,  \n",
    "            'cost': price,       \n",
    "            'eligible': 'Kindergarten - 8th grade',\n",
    "            'start_date': 'June 23',\n",
    "            'end_date': 'August 15',   \n",
    "            'location': '23 Birch Ridge Road, Hardwick',\n",
    "            'deposits': None    \n",
    "        })\n",
    "\n",
    "camp_details"
   ]
  },
  {
   "cell_type": "code",
   "execution_count": 109,
   "id": "ef368221-9686-4c27-903c-e071adcf4c5f",
   "metadata": {},
   "outputs": [
    {
     "data": {
      "text/plain": [
       "<div class=\"content-box\">\n",
       "<h1 style=\"text-align: center;\">Play all day at Camp Mason</h1>\n",
       "<p>In addition to our summer camp staples, we add new and different activities each session. Kids love to both try new things and get stuck into their favorites each summer. There really is something for everyone at Camp Mason!</p>\n",
       "<p><img alt=\"\" class=\"aligncenter size-large wp-image-14856\" decoding=\"async\" fetchpriority=\"high\" height=\"683\" sizes=\"(max-width: 1024px) 100vw, 1024px\" src=\"https://campmason.org/wp-content/uploads/2023/01/IMG_6115-1024x683.jpg\" srcset=\"https://campmason.org/wp-content/uploads/2023/01/IMG_6115-1024x683.jpg 1024w, https://campmason.org/wp-content/uploads/2023/01/IMG_6115-300x200.jpg 300w, https://campmason.org/wp-content/uploads/2023/01/IMG_6115-150x100.jpg 150w, https://campmason.org/wp-content/uploads/2023/01/IMG_6115-768x512.jpg 768w, https://campmason.org/wp-content/uploads/2023/01/IMG_6115.jpg 1313w\" width=\"1024\"/></p>\n",
       "<h2>We stay busy at camp</h2>\n",
       "<p>There are four kinds of activities at camp: cabin activities, camper choice, activity periods, and evening activities.</p>\n",
       "<p>Cabin activities are carried out by cabin groups, the 8-10 bunk-mates that are the foundation relationships of camp. Camper choice is a daily elective that campers pick each morning and try once. Activity periods are individually selected at the beginning of the week and campers participate in them once a day for that week. Evening activities are large group activities: the whole camp gathers for a campfire or talent show, individual villages play at games or events, or one village sometimes joins another for an even larger group activity.</p>\n",
       "<h2>Classic Camp Activities</h2>\n",
       "<p>Some activities that campers may try at overnight camp are boating and canoeing, rock climbing, archery, nature hikes, crafts, swimming, court/field sports, and farm and garden visits. Campers burn off energy playing games like Capture the Flag, take adventures around camp on Scavenger Hunts and so much more!</p>\n",
       "<p>Activities are adjusted for different age groups and skill sets. Each age group has their own special games and events that gives each village unit its own special culture and personality. There are activities that cater especially to younger campers and others that are exclusively planned for teens.</p>\n",
       "<p><img alt=\"\" class=\"aligncenter size-large wp-image-12913\" decoding=\"async\" height=\"683\" sizes=\"(max-width: 1024px) 100vw, 1024px\" src=\"https://campmason.org/wp-content/uploads/2016/09/IMG_8010-1024x683.jpg\" srcset=\"https://campmason.org/wp-content/uploads/2016/09/IMG_8010-1024x683.jpg 1024w, https://campmason.org/wp-content/uploads/2016/09/IMG_8010-300x200.jpg 300w, https://campmason.org/wp-content/uploads/2016/09/IMG_8010-150x100.jpg 150w, https://campmason.org/wp-content/uploads/2016/09/IMG_8010-768x512.jpg 768w, https://campmason.org/wp-content/uploads/2016/09/IMG_8010-1536x1024.jpg 1536w, https://campmason.org/wp-content/uploads/2016/09/IMG_8010.jpg 2048w\" width=\"1024\"/></p>\n",
       "<h2>Creative Activities</h2>\n",
       "<p>There are some things at camp that you just have to experience! Each summer we play and take part in creative activities and games together. Sometimes they become overnight camp classics and other times they are unique to a special event or theme. Picture slip and slides, mural painting, quidditch or even a zombie invasion! Campers love to try out new activities and even share their own ideas for their friends and counselors to try.</p>\n",
       "<p><img alt=\"\" class=\"aligncenter size-large wp-image-15171\" decoding=\"async\" height=\"683\" sizes=\"(max-width: 1024px) 100vw, 1024px\" src=\"https://campmason.org/wp-content/uploads/2023/12/IMG_6909-1024x683.jpg\" srcset=\"https://campmason.org/wp-content/uploads/2023/12/IMG_6909-1024x683.jpg 1024w, https://campmason.org/wp-content/uploads/2023/12/IMG_6909-300x200.jpg 300w, https://campmason.org/wp-content/uploads/2023/12/IMG_6909-150x100.jpg 150w, https://campmason.org/wp-content/uploads/2023/12/IMG_6909-768x512.jpg 768w, https://campmason.org/wp-content/uploads/2023/12/IMG_6909-1536x1024.jpg 1536w, https://campmason.org/wp-content/uploads/2023/12/IMG_6909-2048x1365.jpg 2048w\" width=\"1024\"/></p>\n",
       "<h2>Theme Days</h2>\n",
       "<p>Each week Overnight Camp celebrates the arrival of the weekend with a special themed event. Themes vary from the Mason Olympics to Time Travel days and beyond. Each summer, staff come up with fresh, exciting ideas for theme days for campers to take part in!</p>\n",
       "<h2><img alt=\"\" class=\"aligncenter size-large wp-image-13037\" decoding=\"async\" height=\"683\" loading=\"lazy\" sizes=\"auto, (max-width: 1024px) 100vw, 1024px\" src=\"https://campmason.org/wp-content/uploads/2017/02/Session-2-All-Camp-1024x683.jpg\" srcset=\"https://campmason.org/wp-content/uploads/2017/02/Session-2-All-Camp-1024x683.jpg 1024w, https://campmason.org/wp-content/uploads/2017/02/Session-2-All-Camp-300x200.jpg 300w, https://campmason.org/wp-content/uploads/2017/02/Session-2-All-Camp-150x100.jpg 150w, https://campmason.org/wp-content/uploads/2017/02/Session-2-All-Camp-768x512.jpg 768w, https://campmason.org/wp-content/uploads/2017/02/Session-2-All-Camp-1536x1024.jpg 1536w, https://campmason.org/wp-content/uploads/2017/02/Session-2-All-Camp.jpg 2048w\" width=\"1024\"/></h2>\n",
       "<h2>Sunday Funday</h2>\n",
       "<p>After an action-packed week we take it easy on Sunday mornings! There’s a late, buffet breakfast and relaxed games with cabin mates. After that, we take time for lunch and then get moving again until lights out with some extra special adventures around camp. It’s a great day to recharge everyone’s batteries and still experience the joys of summer camp!</p>\n",
       "<h2 style=\"text-align: center;\">TRAIL RIDES</h2>\n",
       "<p>Have your overnight camper join us for a Horseback Trail Riding adventure! Your camper will have an experience that mingles the fun of horseback riding with learning about riding skills, horse behavior and general trail riding information. We offer flexible and affordable options for horseback trail rides.</p>\n",
       "<p>You can sign up for rides as you complete your summer camp application.  If you have any questions, please feel free to call us at 908-362-8217 or via email at <a href=\"/cdn-cgi/l/email-protection#e89b80898681a88b89859885899b8786c6879a8f\"><span class=\"__cf_email__\" data-cfemail=\"582b30393631183b39352835392b373676372a3f\">[email protected]</span></a>. We look forward to seeing your camper on the trail!</p>\n",
       "<p><img alt=\"\" class=\"aligncenter size-full wp-image-13823\" decoding=\"async\" height=\"667\" loading=\"lazy\" sizes=\"auto, (max-width: 1000px) 100vw, 1000px\" src=\"https://campmason.org/wp-content/uploads/2019/05/barn_1.jpg\" srcset=\"https://campmason.org/wp-content/uploads/2019/05/barn_1.jpg 1000w, https://campmason.org/wp-content/uploads/2019/05/barn_1-300x200.jpg 300w, https://campmason.org/wp-content/uploads/2019/05/barn_1-150x100.jpg 150w, https://campmason.org/wp-content/uploads/2019/05/barn_1-768x512.jpg 768w\" width=\"1000\"/></p>\n",
       "<p> </p>\n",
       "<div class=\"clear\"></div>\n",
       "</div>"
      ]
     },
     "execution_count": 109,
     "metadata": {},
     "output_type": "execute_result"
    }
   ],
   "source": [
    "cat_url = 'https://campmason.org/overnight-camp/activities/'\n",
    "cat = requests.get(cat_url, headers=HEADERS)\n",
    "cat_soup = BeautifulSoup(cat.content, 'lxml')\n",
    "cat_table= cat_soup.find('div', attrs={'class': 'content-box'})\n",
    "cat_table"
   ]
  },
  {
   "cell_type": "code",
   "execution_count": 131,
   "id": "19b82e98-8da4-495a-8854-209312f8b327",
   "metadata": {},
   "outputs": [
    {
     "data": {
      "text/plain": [
       "[{'name': 'Classic Camp Activities',\n",
       "  'description': 'Some activities that campers may try at overnight camp are boating and canoeing, rock climbing, archery, nature hikes, crafts, swimming, court/field sports, and farm and garden visits. Campers burn off energy playing games like Capture the Flag, take adventures around camp on Scavenger Hunts and so much more!',\n",
       "  'image': 'https://campmason.org/wp-content/uploads/2016/09/IMG_8010-1024x683.jpg'},\n",
       " {'name': 'Creative Activities',\n",
       "  'description': 'There are some things at camp that you just have to experience! Each summer we play and take part in creative activities and games together. Sometimes they become overnight camp classics and other times they are unique to a special event or theme. Picture slip and slides, mural painting, quidditch or even a zombie invasion! Campers love to try out new activities and even share their own ideas for their friends and counselors to try.',\n",
       "  'image': 'https://campmason.org/wp-content/uploads/2023/12/IMG_6909-1024x683.jpg'},\n",
       " {'name': 'Theme Days',\n",
       "  'description': 'Each week Overnight Camp celebrates the arrival of the weekend with a special themed event. Themes vary from the Mason Olympics to Time Travel days and beyond. Each summer, staff come up with fresh, exciting ideas for theme days for campers to take part in!',\n",
       "  'image': 'https://campmason.org/wp-content/uploads/2017/02/Session-2-All-Camp-1024x683.jpg'},\n",
       " {'name': 'TRAIL RIDES',\n",
       "  'description': 'Have your overnight camper join us for a Horseback Trail Riding adventure! Your camper will have an experience that mingles the fun of horseback riding with learning about riding skills, horse behavior and general trail riding information. We offer flexible and affordable options for horseback trail rides.',\n",
       "  'image': 'https://campmason.org/wp-content/uploads/2019/05/barn_1.jpg'}]"
      ]
     },
     "execution_count": 131,
     "metadata": {},
     "output_type": "execute_result"
    }
   ],
   "source": [
    "# Initialize an empty list to store the extracted data\n",
    "categories = []\n",
    "\n",
    "# Iterate over each category and extract the relevant information\n",
    "for category in ['Classic Camp Activities', 'Creative Activities', 'Theme Days', 'TRAIL RIDES']:\n",
    "    # Find the section corresponding to the category\n",
    "    section = cat_table.find('h2', string=category)\n",
    "    if section:\n",
    "        # Extract the category name\n",
    "        category_name = section.get_text(strip=True)\n",
    "        \n",
    "        # Extract the description (it is in the next sibling <p> tag)\n",
    "        description = section.find_next('p').get_text(strip=True)\n",
    "        \n",
    "        # Extract the image URL (it is in the next sibling <img> tag)\n",
    "        img_tag = section.find_next('p').find_next('img')\n",
    "        img_url = img_tag['src'] if img_tag else None\n",
    "        \n",
    "        # Append the extracted data to the categories list\n",
    "        categories.append({\n",
    "            'name': category_name,\n",
    "            'description': description,\n",
    "            'image': img_url\n",
    "        })\n",
    "\n",
    "# Output the extracted data\n",
    "categories"
   ]
  },
  {
   "cell_type": "code",
   "execution_count": 132,
   "id": "bc89c416-9f30-4254-9db0-320679757147",
   "metadata": {},
   "outputs": [],
   "source": [
    "activities=[\n",
    "  {\n",
    "    \"name\": \"Boating and Canoeing\",\n",
    "    \"description\": \"Enjoy water-based fun while learning the basics of boating and canoeing. Campers can explore the water and develop teamwork skills in a safe and controlled environment.\",\n",
    "    \"image\": \"null\"\n",
    "  },\n",
    "  {\n",
    "    \"name\": \"Rock Climbing\",\n",
    "    \"description\": \"Campers will challenge themselves with rock climbing, improving their strength, coordination, and problem-solving abilities as they scale various climbing walls or outdoor rock faces.\",\n",
    "    \"image\": \"null\"\n",
    "  },\n",
    "  {\n",
    "    \"name\": \"Archery\",\n",
    "    \"description\": \"Archery activities allow campers to hone their focus and precision. They'll practice shooting arrows at targets, learning safe handling and techniques in a supportive and exciting setting.\",\n",
    "    \"image\": \"null\"\n",
    "  },\n",
    "  {\n",
    "    \"name\": \"Nature Hikes\",\n",
    "    \"description\": \"Nature hikes introduce campers to the great outdoors, where they can observe wildlife, learn about ecosystems, and develop a love for nature while hiking through the camp's surroundings.\",\n",
    "    \"image\": \"null\"\n",
    "  },\n",
    "  {\n",
    "    \"name\": \"Crafts\",\n",
    "    \"description\": \"In arts and crafts sessions, campers explore their creativity by making handmade projects using various materials like paint, clay, and fabric. It's a great way to express individuality and make keepsakes.\",\n",
    "    \"image\": \"null\"\n",
    "  },\n",
    "  {\n",
    "    \"name\": \"Swimming\",\n",
    "    \"description\": \"Swimming sessions offer a fun way to cool off and build water safety skills. Campers can enjoy pool games, races, and lessons, all while improving their swimming techniques.\",\n",
    "    \"image\": \"null\"\n",
    "  },\n",
    "  {\n",
    "    \"name\": \"Court/Field Sports\",\n",
    "    \"description\": \"Activities such as soccer, basketball, and volleyball help campers develop teamwork, coordination, and physical fitness while having fun competing in friendly sports tournaments.\",\n",
    "    \"image\": \"null\"\n",
    "  },\n",
    "  {\n",
    "    \"name\": \"Farm and Garden Visits\",\n",
    "    \"description\": \"Campers can learn about agriculture and sustainability by visiting farm and garden areas. They may participate in planting, harvesting, or caring for animals, gaining hands-on experience in environmental stewardship.\",\n",
    "    \"image\": \"null\"\n",
    "  },\n",
    "  {\n",
    "    \"name\": \"Capture the Flag\",\n",
    "    \"description\": \"This classic outdoor game encourages teamwork, strategy, and physical activity as two teams compete to capture the opposing team's flag while defending their own.\",\n",
    "    \"image\": \"null\"\n",
    "  },\n",
    "  {\n",
    "    \"name\": \"Scavenger Hunts\",\n",
    "    \"description\": \"Scavenger hunts challenge campers to work together to find specific items or complete tasks around the camp, enhancing problem-solving skills and encouraging exploration.\",\n",
    "    \"image\": \"null\"\n",
    "  },\n",
    "  {\n",
    "    \"name\": \"Slip and Slides\",\n",
    "    \"description\": \"On hot days, slip and slide activities provide thrilling water fun. Campers run and slide down a wet surface, speeding through on an inflatable or natural slide.\",\n",
    "    \"image\": \"null\"\n",
    "  },\n",
    "  {\n",
    "    \"name\": \"Mural Painting\",\n",
    "    \"description\": \"Mural painting allows campers to collaborate on large-scale art projects, leaving a colorful and creative mark on the camp for future visitors to admire.\",\n",
    "    \"image\": \"null\"\n",
    "  },\n",
    "  {\n",
    "    \"name\": \"Quidditch\",\n",
    "    \"description\": \"A fun, magical sport inspired by the Harry Potter series, where campers play a team-based game that involves flying broomsticks, scoring goals, and trying to catch the Golden Snitch.\",\n",
    "    \"image\": \"null\"\n",
    "  },\n",
    "  {\n",
    "    \"name\": \"Zombie Invasion\",\n",
    "    \"description\": \"A spooky and thrilling themed event where campers participate in a zombie-themed chase or survival game, using strategy and teamwork to outwit the 'zombies.'\",\n",
    "    \"image\": \"null\"\n",
    "  },\n",
    "  {\n",
    "    \"name\": \"Fourth of July Celebrations\",\n",
    "    \"description\": \"A special day full of patriotic activities, including parades, games, and fireworks (if safe), celebrating American history and culture.\",\n",
    "    \"image\": \"null\"\n",
    "  },\n",
    "  {\n",
    "    \"name\": \"Olympic Event\",\n",
    "    \"description\": \"An exciting competition day with various athletic events where campers participate in a mini-Olympics, aiming for gold, silver, and bronze in fun, competitive games.\",\n",
    "    \"image\": \"null\"\n",
    "  },\n",
    "  {\n",
    "    \"name\": \"Carnival\",\n",
    "    \"description\": \"A fun, festive day at camp filled with carnival games, face painting, cotton candy, and other exciting activities, bringing a sense of community and enjoyment.\",\n",
    "    \"image\": \"null\"\n",
    "  }\n",
    "]\n"
   ]
  },
  {
   "cell_type": "code",
   "execution_count": 135,
   "id": "52a10720-25f5-4305-8123-7cd1e1cdfd1d",
   "metadata": {},
   "outputs": [],
   "source": [
    "YMCA_camp= [{\n",
    "    'name': website_name,  \n",
    "    'url': website_url,\n",
    "    'logo':logo_url,\n",
    "    'description':description,\n",
    "    'location': location,\n",
    "    'contact': contact,\n",
    "    'socials': socials,\n",
    "    'image_urls':images_url,\n",
    "    'sessions': camp_details,\n",
    "    'categories': categories,\n",
    "    'activities': activities\n",
    "}]\n",
    "file_path = 'ymca.json'\n",
    "\n",
    "# Export the dictionary to a JSON file\n",
    "with open(file_path, 'w') as json_file:\n",
    "    json.dump(YMCA_camp, json_file, indent=4)"
   ]
  }
 ],
 "metadata": {
  "kernelspec": {
   "display_name": "Python 3 (ipykernel)",
   "language": "python",
   "name": "python3"
  },
  "language_info": {
   "codemirror_mode": {
    "name": "ipython",
    "version": 3
   },
   "file_extension": ".py",
   "mimetype": "text/x-python",
   "name": "python",
   "nbconvert_exporter": "python",
   "pygments_lexer": "ipython3",
   "version": "3.12.4"
  }
 },
 "nbformat": 4,
 "nbformat_minor": 5
}
